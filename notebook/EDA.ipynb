{
 "cells": [
  {
   "cell_type": "markdown",
   "metadata": {
    "id": "fDpw5IYh_IP9"
   },
   "source": [
    "# Import package "
   ]
  },
  {
   "cell_type": "code",
   "execution_count": 1,
   "metadata": {},
   "outputs": [
    {
     "name": "stdout",
     "output_type": "stream",
     "text": [
      "/bin/sh: 1: pip3: not found\r\n"
     ]
    }
   ],
   "source": [
    "!pip3 install -r requirements.txt"
   ]
  },
  {
   "cell_type": "code",
   "execution_count": 2,
   "metadata": {
    "id": "lkX350T4_MjI"
   },
   "outputs": [
    {
     "ename": "ModuleNotFoundError",
     "evalue": "No module named 'plotly'",
     "output_type": "error",
     "traceback": [
      "\u001b[0;31m---------------------------------------------------------------------------\u001b[0m",
      "\u001b[0;31mModuleNotFoundError\u001b[0m                       Traceback (most recent call last)",
      "\u001b[0;32m<ipython-input-2-d70ae968dc76>\u001b[0m in \u001b[0;36m<module>\u001b[0;34m\u001b[0m\n\u001b[1;32m      1\u001b[0m \u001b[0;32mfrom\u001b[0m \u001b[0mdatetime\u001b[0m \u001b[0;32mimport\u001b[0m \u001b[0mdatetime\u001b[0m \u001b[0;32mas\u001b[0m \u001b[0mdt\u001b[0m\u001b[0;34m\u001b[0m\u001b[0;34m\u001b[0m\u001b[0m\n\u001b[1;32m      2\u001b[0m \u001b[0;34m\u001b[0m\u001b[0m\n\u001b[0;32m----> 3\u001b[0;31m \u001b[0;32mimport\u001b[0m \u001b[0mplotly\u001b[0m\u001b[0;34m.\u001b[0m\u001b[0mexpress\u001b[0m \u001b[0;32mas\u001b[0m \u001b[0mpx\u001b[0m\u001b[0;34m\u001b[0m\u001b[0;34m\u001b[0m\u001b[0m\n\u001b[0m\u001b[1;32m      4\u001b[0m \u001b[0;32mimport\u001b[0m \u001b[0mnumpy\u001b[0m \u001b[0;32mas\u001b[0m \u001b[0mnp\u001b[0m\u001b[0;34m\u001b[0m\u001b[0;34m\u001b[0m\u001b[0m\n\u001b[1;32m      5\u001b[0m \u001b[0;32mimport\u001b[0m \u001b[0mpandas\u001b[0m \u001b[0;32mas\u001b[0m \u001b[0mpd\u001b[0m\u001b[0;34m\u001b[0m\u001b[0;34m\u001b[0m\u001b[0m\n",
      "\u001b[0;31mModuleNotFoundError\u001b[0m: No module named 'plotly'"
     ]
    }
   ],
   "source": [
    "from datetime import datetime as dt\n",
    "\n",
    "import plotly.express as px\n",
    "import numpy as np\n",
    "import pandas as pd\n",
    "import plotly.graph_objects as go\n",
    "import seaborn as sns\n",
    "import matplotlib.pyplot as plt\n",
    "import os"
   ]
  },
  {
   "cell_type": "markdown",
   "metadata": {
    "id": "RxTkTFRJ_Mr_"
   },
   "source": [
    "# Load data "
   ]
  },
  {
   "cell_type": "code",
   "execution_count": null,
   "metadata": {
    "id": "hqfaXLFSBus-"
   },
   "outputs": [],
   "source": [
    "PATH = '/../sample_data/entube_final.parquet'"
   ]
  },
  {
   "cell_type": "code",
   "execution_count": null,
   "metadata": {
    "id": "Fc43XAvr_RoV"
   },
   "outputs": [],
   "source": [
    "df = pd.read_parquet(PATH)"
   ]
  },
  {
   "cell_type": "markdown",
   "metadata": {
    "id": "jvQmbaDRd6zd"
   },
   "source": [
    "# Data Understanding"
   ]
  },
  {
   "cell_type": "markdown",
   "metadata": {
    "id": "MXMtF2Gcos8p"
   },
   "source": [
    "## sample "
   ]
  },
  {
   "cell_type": "code",
   "execution_count": null,
   "metadata": {
    "colab": {
     "base_uri": "https://localhost:8080/",
     "height": 1000
    },
    "id": "fNtu-y-covvn",
    "outputId": "a8befc93-c779-4203-bb8e-880e2c654055"
   },
   "outputs": [],
   "source": [
    "df.head(5)"
   ]
  },
  {
   "cell_type": "markdown",
   "metadata": {
    "id": "B-PB9Fz4oxEQ"
   },
   "source": [
    "## size "
   ]
  },
  {
   "cell_type": "code",
   "execution_count": null,
   "metadata": {
    "colab": {
     "base_uri": "https://localhost:8080/"
    },
    "id": "_EhFbFSmoxQE",
    "outputId": "5117b189-afaa-4a49-a4fd-646e1fba2a3c"
   },
   "outputs": [],
   "source": [
    "len(df)"
   ]
  },
  {
   "cell_type": "markdown",
   "metadata": {
    "id": "mgl8LDqD_LDo"
   },
   "source": [
    "## missing_rate of video"
   ]
  },
  {
   "cell_type": "code",
   "execution_count": null,
   "metadata": {
    "colab": {
     "base_uri": "https://localhost:8080/"
    },
    "id": "ZVIfOtI6_Oi8",
    "outputId": "3331d1cb-6ae5-49ad-c021-94b799ffdb2c"
   },
   "outputs": [],
   "source": [
    "df.isnull().mean()"
   ]
  },
  {
   "cell_type": "markdown",
   "metadata": {
    "id": "e8u4t0uYePUA"
   },
   "source": [
    "## duplicated rate"
   ]
  },
  {
   "cell_type": "code",
   "execution_count": null,
   "metadata": {
    "id": "Fl8tTqWXG6H9"
   },
   "outputs": [],
   "source": [
    "df = pd.read_parquet(PATH)"
   ]
  },
  {
   "cell_type": "code",
   "execution_count": null,
   "metadata": {
    "colab": {
     "base_uri": "https://localhost:8080/"
    },
    "id": "qJQKiOVE15tC",
    "outputId": "ff6dabf7-d981-4985-96c6-179979294ec6"
   },
   "outputs": [],
   "source": [
    "len(df.drop_duplicates(['id']))/len(df)"
   ]
  },
  {
   "cell_type": "code",
   "execution_count": null,
   "metadata": {
    "colab": {
     "base_uri": "https://localhost:8080/"
    },
    "id": "fFgZpt5H8lcN",
    "outputId": "ee79b5df-cb62-47a7-ec4e-cdbbeb8417e2"
   },
   "outputs": [],
   "source": [
    "len(df)"
   ]
  },
  {
   "cell_type": "markdown",
   "metadata": {
    "id": "TbdlU8ISsor-"
   },
   "source": [
    "## check filter "
   ]
  },
  {
   "cell_type": "markdown",
   "metadata": {
    "id": "mcB05wklsqUe"
   },
   "source": [
    "### likes greate dislikes"
   ]
  },
  {
   "cell_type": "code",
   "execution_count": null,
   "metadata": {
    "colab": {
     "base_uri": "https://localhost:8080/"
    },
    "id": "qXr-LeKIstHS",
    "outputId": "8d09eb88-a8a9-47e1-a162-f558160425e5"
   },
   "outputs": [],
   "source": [
    "len(df[df['like_count'] > df['dislike_count']]) / len(df)"
   ]
  },
  {
   "cell_type": "markdown",
   "metadata": {
    "id": "5d1QS9FXtETc"
   },
   "source": [
    "### no dislike "
   ]
  },
  {
   "cell_type": "code",
   "execution_count": null,
   "metadata": {
    "colab": {
     "base_uri": "https://localhost:8080/"
    },
    "id": "OMtE2uR8tEg-",
    "outputId": "f663ff70-cec2-4602-f760-4e5e3f6fe95c"
   },
   "outputs": [],
   "source": [
    "len(df[df['dislike_count'] > 0]) / len(df)"
   ]
  },
  {
   "cell_type": "markdown",
   "metadata": {
    "id": "jJxWhoRktKAD"
   },
   "source": [
    "### duration"
   ]
  },
  {
   "cell_type": "code",
   "execution_count": null,
   "metadata": {
    "colab": {
     "base_uri": "https://localhost:8080/"
    },
    "id": "04yjqbMQtKJF",
    "outputId": "bd538cef-9ed7-42b7-b2fe-dd324b410506"
   },
   "outputs": [],
   "source": [
    "len(df[df['duration'] >= 1]) / len(df)"
   ]
  },
  {
   "cell_type": "markdown",
   "metadata": {
    "id": "VyIkIf--nIuj"
   },
   "source": [
    "# EDA "
   ]
  },
  {
   "cell_type": "markdown",
   "metadata": {
    "id": "XHLD9et0oJxN"
   },
   "source": [
    "## label "
   ]
  },
  {
   "cell_type": "code",
   "execution_count": null,
   "metadata": {
    "id": "SfrU3dRF9Pd6"
   },
   "outputs": [],
   "source": [
    "pd.options.display.float_format = '{:,.6f}'.format\n",
    "percentiles = [0.01] + [0.05*x for x in range(1, 20)] + [0.99]"
   ]
  },
  {
   "cell_type": "markdown",
   "metadata": {
    "id": "d7UmD7VvoJ7V"
   },
   "source": [
    "### label 1 "
   ]
  },
  {
   "cell_type": "code",
   "execution_count": null,
   "metadata": {
    "id": "-0V8AYLvoNuL"
   },
   "outputs": [],
   "source": [
    "def get_distribution_from_label(df, label: str, value: int,columns: list):\n",
    "    return df[df[label] == value][columns].describe(percentiles=percentiles)"
   ]
  },
  {
   "cell_type": "markdown",
   "metadata": {
    "id": "oFCx0NJxqiw_"
   },
   "source": [
    "#### Not Engage"
   ]
  },
  {
   "cell_type": "code",
   "execution_count": null,
   "metadata": {
    "id": "2ZEhN1oSoN3g"
   },
   "outputs": [],
   "source": [
    "label = 'label_1'\n",
    "value = 0 # Not Engage\n",
    "columns = ['label_1', 'engagement_rate_1']"
   ]
  },
  {
   "cell_type": "code",
   "execution_count": null,
   "metadata": {
    "colab": {
     "base_uri": "https://localhost:8080/",
     "height": 865
    },
    "id": "f_IQhrEXqbI1",
    "outputId": "fae02003-c4df-40bd-996e-f60caadc0288"
   },
   "outputs": [],
   "source": [
    "get_distribution_from_label(df, label, value, columns)"
   ]
  },
  {
   "cell_type": "markdown",
   "metadata": {
    "id": "oMFrMk9Jqhkq"
   },
   "source": [
    "#### Neutral"
   ]
  },
  {
   "cell_type": "code",
   "execution_count": null,
   "metadata": {
    "colab": {
     "base_uri": "https://localhost:8080/",
     "height": 865
    },
    "id": "WFhOxjmWq9yg",
    "outputId": "21ee4e22-3001-4d88-93df-e0e73397989a"
   },
   "outputs": [],
   "source": [
    "get_distribution_from_label(df, label, 1, columns)"
   ]
  },
  {
   "cell_type": "markdown",
   "metadata": {
    "id": "Mj7TPM7KrHRA"
   },
   "source": [
    "#### Engage"
   ]
  },
  {
   "cell_type": "code",
   "execution_count": null,
   "metadata": {
    "colab": {
     "base_uri": "https://localhost:8080/",
     "height": 865
    },
    "id": "99lPuIh_q975",
    "outputId": "6cb40ee2-c5d5-4052-abf5-a0c5f8e127cc"
   },
   "outputs": [],
   "source": [
    "get_distribution_from_label(df, label, 2, columns)"
   ]
  },
  {
   "cell_type": "markdown",
   "metadata": {
    "id": "WwEMqQY_rMaX"
   },
   "source": [
    "### label 2"
   ]
  },
  {
   "cell_type": "code",
   "execution_count": null,
   "metadata": {
    "id": "SDQItZkJrMjr"
   },
   "outputs": [],
   "source": [
    "label = 'label_2'\n",
    "value = 0 # Not Engage\n",
    "columns = ['label_2', 'q_score']"
   ]
  },
  {
   "cell_type": "markdown",
   "metadata": {
    "id": "ggcicvFyrZ0M"
   },
   "source": [
    "#### Not Engage"
   ]
  },
  {
   "cell_type": "code",
   "execution_count": null,
   "metadata": {
    "colab": {
     "base_uri": "https://localhost:8080/",
     "height": 865
    },
    "id": "BWHc3jMRrMmm",
    "outputId": "c3627768-2260-44d8-897a-27fde8c83055"
   },
   "outputs": [],
   "source": [
    "get_distribution_from_label(df, label, value, columns)"
   ]
  },
  {
   "cell_type": "markdown",
   "metadata": {
    "id": "s1NAjYMorftd"
   },
   "source": [
    "#### Neutral "
   ]
  },
  {
   "cell_type": "code",
   "execution_count": null,
   "metadata": {
    "colab": {
     "base_uri": "https://localhost:8080/",
     "height": 865
    },
    "id": "0QBOd06DrkG7",
    "outputId": "5149679c-ecf5-4282-f99c-3003a9c6c6e8"
   },
   "outputs": [],
   "source": [
    "get_distribution_from_label(df, label, 1, columns)"
   ]
  },
  {
   "cell_type": "markdown",
   "metadata": {
    "id": "b8KkFSpvrkPT"
   },
   "source": [
    "#### Engage"
   ]
  },
  {
   "cell_type": "code",
   "execution_count": null,
   "metadata": {
    "colab": {
     "base_uri": "https://localhost:8080/",
     "height": 865
    },
    "id": "cY14St9ZrmAs",
    "outputId": "c2e4d00f-cc78-435c-8595-a9662657c04e"
   },
   "outputs": [],
   "source": [
    "get_distribution_from_label(df, label, 2, columns)"
   ]
  },
  {
   "cell_type": "markdown",
   "metadata": {
    "id": "n8nLDOn9nEC2"
   },
   "source": [
    "## channel "
   ]
  },
  {
   "cell_type": "code",
   "execution_count": null,
   "metadata": {
    "id": "noa0mfv3dOA-"
   },
   "outputs": [],
   "source": [
    "channel_df = (df\n",
    "    .groupby(['channel_id'])\n",
    "    .agg({'id': lambda x: x.nunique(),\n",
    "          'channel_name': 'first',\n",
    "          'channel_category': 'first',\n",
    "          'channel_started': 'first',\n",
    "          'channel_rank': 'first', \n",
    "          'channel_subscribers': 'first'})\n",
    ")\n",
    "\n",
    "channel_df = channel_df.reset_index()\n",
    "channel_df.columns = [\n",
    "    'channel_id', 'num_videos', 'channel_name',\n",
    "    'channel_category', 'channel_started', 'channel_rank', 'channel_subscribers'              \n",
    "]"
   ]
  },
  {
   "cell_type": "code",
   "execution_count": null,
   "metadata": {
    "id": "UFV-eboleii6"
   },
   "outputs": [],
   "source": [
    "channel_df.describe(percentiles=percentiles)"
   ]
  },
  {
   "cell_type": "code",
   "execution_count": null,
   "metadata": {
    "id": "jFAzzvwLCe1M"
   },
   "outputs": [],
   "source": [
    "channel_df = (df\n",
    "    .groupby(['channel_id'])\n",
    "    .agg({'id': lambda x: x.nunique(),\n",
    "          'channel_name': 'first',\n",
    "          'channel_category': 'first',\n",
    "          'channel_started': 'first',\n",
    "          'channel_rank': 'first', \n",
    "          'channel_subscribers': 'first',\n",
    "          'title_length': 'median',\n",
    "          'num_tags': 'median',\n",
    "          'delta_upload_date': 'median',\n",
    "          'duration': 'median',\n",
    "          'view_count': 'median',\n",
    "          'like_count': 'median',\n",
    "          'comment_count': 'median',\n",
    "          'dislike_count': 'median',\n",
    "          'like_per_view': 'median',\n",
    "          'comment_per_view': 'median',\n",
    "          'dislike_per_view': 'median',\n",
    "          'engagement_rate_1': 'median',\n",
    "          'engagement_rate_2': 'median',\n",
    "          'q_score': 'median'})\n",
    ")\n",
    "\n",
    "channel_df = channel_df.reset_index()\n",
    "channel_df.columns = [\n",
    "    'channel_id', \n",
    "    'num_videos', \n",
    "    'channel_name',\n",
    "    'channel_category', \n",
    "    'channel_started', \n",
    "    'channel_rank', \n",
    "    'channel_subscribers',\n",
    "    'median_title_length', \n",
    "    'median_num_tags',\n",
    "    'median_delta_upload_date',\n",
    "    'median_duration',\n",
    "    'median_view_count',\n",
    "    'median_like_count', \n",
    "    'median_comment_count', \n",
    "    'median_dislike_count',\n",
    "    'median_like_per_view', \n",
    "    'median_comment_per_view',\n",
    "    'median_dislike_per_view', \n",
    "    'median_engagement_rate_1',\n",
    "    'median_engagement_rate_2', \n",
    "    'median_q_score'     \n",
    "]"
   ]
  },
  {
   "cell_type": "code",
   "execution_count": null,
   "metadata": {
    "id": "AZ-h66v-FQo6"
   },
   "outputs": [],
   "source": [
    "channel_df"
   ]
  },
  {
   "cell_type": "code",
   "execution_count": null,
   "metadata": {
    "id": "cuQwmPGdTBI_"
   },
   "outputs": [],
   "source": [
    "channel_df.to_json(DIR_PATH + 'channel_profiling.json')"
   ]
  },
  {
   "cell_type": "markdown",
   "metadata": {
    "id": "f6L7IhZHDqOa"
   },
   "source": [
    "### by channel_cate "
   ]
  },
  {
   "cell_type": "code",
   "execution_count": null,
   "metadata": {
    "id": "BsOdy3wQ5kNJ"
   },
   "outputs": [],
   "source": [
    "channel_cate_df = (channel_df\n",
    "    .groupby(['channel_category'])\n",
    "    .agg({\n",
    "        'channel_name': 'count',\n",
    "        'channel_started': 'min',\n",
    "        'channel_rank': 'median',\n",
    "        'channel_subscribers': 'median',\n",
    "        'num_videos': 'median'\n",
    "    })\n",
    ")"
   ]
  },
  {
   "cell_type": "code",
   "execution_count": null,
   "metadata": {
    "id": "NAs5ZUfV_wdL"
   },
   "outputs": [],
   "source": [
    "channel_cate_df = channel_cate_df.reset_index()"
   ]
  },
  {
   "cell_type": "code",
   "execution_count": null,
   "metadata": {
    "id": "yuWnEc7A_Cp6"
   },
   "outputs": [],
   "source": [
    "channel_cate_df.columns = [\n",
    "    'channel_category', 'num_channels', 'min_channel_started', \n",
    "    'median_channel_rank', 'median_channel_subscribers', 'median_num_videos'\n",
    "]"
   ]
  },
  {
   "cell_type": "code",
   "execution_count": null,
   "metadata": {
    "id": "recB2NIM_n95"
   },
   "outputs": [],
   "source": [
    "channel_cate_df.T"
   ]
  },
  {
   "cell_type": "code",
   "execution_count": null,
   "metadata": {
    "id": "pKr8oU90TZVl"
   },
   "outputs": [],
   "source": [
    "channel_cate_df.to_json(DIR_PATH + 'channel_cate_1_profiling.json')"
   ]
  },
  {
   "cell_type": "markdown",
   "metadata": {
    "id": "esbuyvomD2HJ"
   },
   "source": [
    "## video "
   ]
  },
  {
   "cell_type": "markdown",
   "metadata": {
    "id": "SnXBJQ5_oA9F"
   },
   "source": [
    "### by channel_cate "
   ]
  },
  {
   "cell_type": "code",
   "execution_count": null,
   "metadata": {
    "id": "1HpzRYr7_5ap"
   },
   "outputs": [],
   "source": [
    "channel_cate_df = (df\n",
    "    .groupby(['channel_category'])\n",
    "    .agg({\n",
    "        'id': 'count',\n",
    "        'title_length': 'median',\n",
    "        'num_tags': 'median',\n",
    "        'delta_upload_date': 'median',\n",
    "        'duration': 'median',\n",
    "        'view_count': 'median',\n",
    "        'like_count': 'median',\n",
    "        'comment_count': 'median',\n",
    "        'dislike_count': 'median',\n",
    "        'like_per_view': 'median',\n",
    "        'comment_per_view': 'median',\n",
    "        'dislike_per_view': 'median',\n",
    "    })\n",
    ")"
   ]
  },
  {
   "cell_type": "code",
   "execution_count": null,
   "metadata": {
    "id": "6t_FUNjWDk2P"
   },
   "outputs": [],
   "source": [
    "channel_cate_df = channel_cate_df.reset_index()"
   ]
  },
  {
   "cell_type": "code",
   "execution_count": null,
   "metadata": {
    "id": "sxavOj30Eygh"
   },
   "outputs": [],
   "source": [
    "channel_cate_df.columns = [\n",
    "    'channel_category', 'num_videos',\n",
    "    'median_title_length', 'median_num_tags',\n",
    "    'median_delta_upload_date', 'median_duration',\n",
    "    'median_view_count', 'median_like_count', \n",
    "    'median_comment_count', 'median_dislike_count',\n",
    "    'median_like_per_view', 'median_comment_per_view',\n",
    "    'median_dislike_per_view', \n",
    "]"
   ]
  },
  {
   "cell_type": "code",
   "execution_count": null,
   "metadata": {
    "id": "oDy0j4hgFZLJ"
   },
   "outputs": [],
   "source": [
    "channel_cate_df.T"
   ]
  },
  {
   "cell_type": "code",
   "execution_count": null,
   "metadata": {
    "id": "_qTs4F8OTMy-"
   },
   "outputs": [],
   "source": [
    "channel_cate_df"
   ]
  },
  {
   "cell_type": "code",
   "execution_count": null,
   "metadata": {
    "id": "WzOqEtS5TNBy"
   },
   "outputs": [],
   "source": [
    "channel_cate_df.to_json(DIR_PATH + 'channel_cate_2_profiling.json')"
   ]
  },
  {
   "cell_type": "markdown",
   "metadata": {
    "id": "yWvNhrZUFbQ_"
   },
   "source": [
    "## by time series "
   ]
  },
  {
   "cell_type": "markdown",
   "metadata": {
    "id": "0GugzS_mM-dT"
   },
   "source": [
    "### number of videos "
   ]
  },
  {
   "cell_type": "code",
   "execution_count": null,
   "metadata": {
    "id": "ZXwOlhJvJqDq"
   },
   "outputs": [],
   "source": [
    "df['upload_date_by_year'] = df['upload_date'].dt.year"
   ]
  },
  {
   "cell_type": "code",
   "execution_count": null,
   "metadata": {
    "id": "Y8FxRXiANL-Q"
   },
   "outputs": [],
   "source": [
    "df"
   ]
  },
  {
   "cell_type": "code",
   "execution_count": null,
   "metadata": {
    "id": "AXtLsY5sJqeL"
   },
   "outputs": [],
   "source": [
    "channel_cate_by_time_series_df = (df\n",
    "    .groupby(['channel_category','upload_date_by_year'])\n",
    "    .agg({\n",
    "        'id': 'count',\n",
    "        'engagement_rate_1': 'median',\n",
    "        'engagement_rate_2': 'median',\n",
    "        'q_score': 'median',\n",
    "    })\n",
    ")\n",
    "\n",
    "channel_cate_by_time_series_df = channel_cate_by_time_series_df.reset_index()\n",
    "channel_cate_by_time_series_df.columns = [\n",
    "    'channel_category', 'upload_date_by_year',\n",
    "    'num_videos', 'median_engagement_rate_1',\n",
    "    'median_engagement_rate_2', 'median_q_score'                                          \n",
    "]"
   ]
  },
  {
   "cell_type": "code",
   "execution_count": null,
   "metadata": {
    "id": "8UjyqKL1ToBF"
   },
   "outputs": [],
   "source": [
    "channel_cate_by_time_series_df.to_json(DIR_PATH + 'channel_cate_time_series_profiling.json')"
   ]
  },
  {
   "cell_type": "code",
   "execution_count": null,
   "metadata": {
    "id": "91_PD_aZKXId"
   },
   "outputs": [],
   "source": [
    "fig = px.line(channel_cate_by_time_series_df, x='upload_date_by_year', y='num_videos', color='channel_category')\n",
    "fig.update_layout(title=\"Number of video by channel category and time series\")\n",
    "fig.update_layout(xaxis_title=\"Year of updoad date\")\n",
    "fig.update_layout(yaxis_title=\"Number of videos\")\n",
    "fig.show()"
   ]
  },
  {
   "cell_type": "markdown",
   "metadata": {
    "id": "PXRXnWfpdDOW"
   },
   "source": [
    "### engagement_rate_1"
   ]
  },
  {
   "cell_type": "code",
   "execution_count": null,
   "metadata": {
    "id": "Y28JE8mfK9pi"
   },
   "outputs": [],
   "source": [
    "fig = px.line(channel_cate_by_time_series_df, x='upload_date_by_year', y='median_engagement_rate_1', color='channel_category')\n",
    "fig.update_layout(title=\"Median engagement rate 1 by channel category and time series\")\n",
    "fig.update_layout(xaxis_title=\"Year of updoad date\")\n",
    "fig.update_layout(yaxis_title=\"Median engagement rate 1\")\n",
    "fig.show()"
   ]
  },
  {
   "cell_type": "markdown",
   "metadata": {
    "id": "5Cgv9k3jdIv3"
   },
   "source": [
    "### engagement_rate_2"
   ]
  },
  {
   "cell_type": "code",
   "execution_count": null,
   "metadata": {
    "id": "FIO661pBNyzA"
   },
   "outputs": [],
   "source": [
    "fig = px.line(channel_cate_by_time_series_df, x='upload_date_by_year', y='median_engagement_rate_2', color='channel_category')\n",
    "fig.update_layout(title=\"Median engagement rate 2 by channel category and time series\")\n",
    "fig.update_layout(xaxis_title=\"Year of updoad date\")\n",
    "fig.update_layout(yaxis_title=\"Median engagement rate 2\")\n",
    "fig.show()"
   ]
  },
  {
   "cell_type": "markdown",
   "metadata": {
    "id": "saN-fikldMN_"
   },
   "source": [
    "### q_score "
   ]
  },
  {
   "cell_type": "code",
   "execution_count": null,
   "metadata": {
    "id": "zTAREVSWN3wi"
   },
   "outputs": [],
   "source": [
    "fig = px.line(channel_cate_by_time_series_df, x='upload_date_by_year', y='median_q_score', color='channel_category')\n",
    "fig.update_layout(title=\"Median Q score by channel category and time series\")\n",
    "fig.update_layout(xaxis_title=\"Year of updoad date\")\n",
    "fig.update_layout(yaxis_title=\"Median Q score\")\n",
    "fig.update_yaxes(range = [0, 1])\n",
    "fig.show()"
   ]
  },
  {
   "cell_type": "markdown",
   "metadata": {
    "id": "5he7I6wbRGzG"
   },
   "source": [
    "## correlation "
   ]
  },
  {
   "cell_type": "markdown",
   "metadata": {
    "id": "pvcYF7nDWAZ5"
   },
   "source": [
    "### by video "
   ]
  },
  {
   "cell_type": "code",
   "execution_count": null,
   "metadata": {
    "id": "-Cz5ovnDW9ov"
   },
   "outputs": [],
   "source": [
    "def plot_corr(df, columns, label: str = ' by video'):\n",
    "    fig, ax = plt.subplots(figsize=(10, 10))\n",
    "    ax = sns.heatmap(df[columns].corr(), annot=True, fmt=\".2f\", linewidths=.5, square = True, cmap=\"Blues\", vmin=-1, vmax=1)\n",
    "    plt.xlabel('Engagement Metrics' + label, size = 15)\n",
    "    plt.ylabel('Engagement Metrics' + label, size = 15)\n",
    "    plt.title('Pearson correlation coefficient of Engagement Metrics' + label, size = 15)\n",
    "    plt.show()"
   ]
  },
  {
   "cell_type": "code",
   "execution_count": null,
   "metadata": {
    "id": "x0g87RSBV9Jz"
   },
   "outputs": [],
   "source": [
    "columns = [\n",
    "    'channel_subscribers',\n",
    "    'delta_upload_date',\n",
    "    'view_count',\n",
    "    'like_count',\n",
    "    'comment_count',\n",
    "    'dislike_count'\n",
    "]"
   ]
  },
  {
   "cell_type": "code",
   "execution_count": null,
   "metadata": {
    "id": "zLmf4_scW-t2"
   },
   "outputs": [],
   "source": [
    "plot_corr(df, columns)"
   ]
  },
  {
   "cell_type": "code",
   "execution_count": null,
   "metadata": {
    "id": "BfYtjwgBWckw"
   },
   "outputs": [],
   "source": [
    "columns = [\n",
    "    'channel_subscribers',\n",
    "    'delta_upload_date',\n",
    "    'engagement_rate_1',\n",
    "    'engagement_rate_2',\n",
    "    'q_score'\n",
    "]"
   ]
  },
  {
   "cell_type": "code",
   "execution_count": null,
   "metadata": {
    "id": "IzkwDqJPWqzX"
   },
   "outputs": [],
   "source": [
    "plot_corr(df, columns)"
   ]
  },
  {
   "cell_type": "markdown",
   "metadata": {
    "id": "m_0TBbnvWteG"
   },
   "source": [
    "### by channel "
   ]
  },
  {
   "cell_type": "code",
   "execution_count": null,
   "metadata": {
    "id": "Y5TxtOg5XgCD"
   },
   "outputs": [],
   "source": [
    "channel_df = (df\n",
    "    .groupby(['channel_id'])\n",
    "    .agg({\n",
    "        'channel_subscribers': 'first',\n",
    "        'channel_category': 'first',\n",
    "        'channel_name': 'first',\n",
    "        'delta_upload_date': 'median',\n",
    "        'view_count': 'median',\n",
    "        'like_count': 'median',\n",
    "        'comment_count': 'median',\n",
    "        'dislike_count': 'median',\n",
    "        'engagement_rate_1': 'median',\n",
    "        'engagement_rate_2': 'median',\n",
    "        'q_score': 'median'})\n",
    ")\n",
    "\n",
    "channel_df = channel_df.reset_index()\n",
    "channel_df.columns = [\n",
    "    'channel_id', 'channel_subscribers', 'channel_category', 'channel_name', 'median_delta_upload_date',\n",
    "    'median_view_count', 'median_like_count', 'median_comment_count', 'median_dislike_count',\n",
    "    'median_engagement_rate_1', 'median_engagement_rate_2', 'median_q_score'              \n",
    "]"
   ]
  },
  {
   "cell_type": "code",
   "execution_count": null,
   "metadata": {
    "id": "M9wFQ5L3YZrL"
   },
   "outputs": [],
   "source": [
    "columns = [\n",
    "    'channel_subscribers',\n",
    "    'median_delta_upload_date',\n",
    "    'median_view_count',\n",
    "    'median_like_count',\n",
    "    'median_comment_count',\n",
    "    'median_dislike_count'\n",
    "]"
   ]
  },
  {
   "cell_type": "code",
   "execution_count": null,
   "metadata": {
    "id": "GMxfRMwcYn0s"
   },
   "outputs": [],
   "source": [
    "plot_corr(channel_df, columns, label=' by channel')"
   ]
  },
  {
   "cell_type": "code",
   "execution_count": null,
   "metadata": {
    "id": "6pRZ_zLrZA8r"
   },
   "outputs": [],
   "source": [
    "columns = [\n",
    "    'channel_subscribers',\n",
    "    'median_delta_upload_date',\n",
    "    'median_engagement_rate_1',\n",
    "    'median_engagement_rate_2',\n",
    "    'median_q_score'\n",
    "]"
   ]
  },
  {
   "cell_type": "code",
   "execution_count": null,
   "metadata": {
    "id": "r1ihAGKRY4th"
   },
   "outputs": [],
   "source": [
    "plot_corr(channel_df, columns, label=' by channel')"
   ]
  },
  {
   "cell_type": "code",
   "execution_count": null,
   "metadata": {
    "id": "Scn2oX3soMMR"
   },
   "outputs": [],
   "source": []
  },
  {
   "cell_type": "markdown",
   "metadata": {
    "id": "Pozazaj_gSij"
   },
   "source": [
    "# Train and test split "
   ]
  },
  {
   "cell_type": "code",
   "execution_count": null,
   "metadata": {
    "id": "_BRhBcZI_gS7"
   },
   "outputs": [],
   "source": [
    "train_df = df[df['upload_date'].dt.year < 2020]\n",
    "val_df = df[df['upload_date'].dt.year == 2020]\n",
    "test_df = df[df['upload_date'].dt.year > 2020]\n",
    "columns = ['id', 'label_1', 'label_2']"
   ]
  },
  {
   "cell_type": "code",
   "execution_count": null,
   "metadata": {
    "id": "f_9p_3I0Al2G"
   },
   "outputs": [],
   "source": [
    "len(train_df[columns])"
   ]
  },
  {
   "cell_type": "code",
   "execution_count": null,
   "metadata": {
    "id": "XaR3Beu9Aos4"
   },
   "outputs": [],
   "source": [
    "len(val_df[columns])"
   ]
  },
  {
   "cell_type": "code",
   "execution_count": null,
   "metadata": {
    "id": "-7vzX9LPAq7X"
   },
   "outputs": [],
   "source": [
    "len(test_df[columns])"
   ]
  },
  {
   "cell_type": "code",
   "execution_count": null,
   "metadata": {
    "id": "swAPGSwKHXeR"
   },
   "outputs": [],
   "source": []
  }
 ],
 "metadata": {
  "colab": {
   "collapsed_sections": [],
   "name": "EDADataset.ipynb",
   "provenance": [],
   "toc_visible": true
  },
  "kernelspec": {
   "display_name": "Python 3",
   "language": "python",
   "name": "python3"
  },
  "language_info": {
   "codemirror_mode": {
    "name": "ipython",
    "version": 3
   },
   "file_extension": ".py",
   "mimetype": "text/x-python",
   "name": "python",
   "nbconvert_exporter": "python",
   "pygments_lexer": "ipython3",
   "version": "3.7.3"
  }
 },
 "nbformat": 4,
 "nbformat_minor": 1
}
