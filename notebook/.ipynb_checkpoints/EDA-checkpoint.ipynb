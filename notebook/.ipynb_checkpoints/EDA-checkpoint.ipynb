{
 "cells": [
  {
   "cell_type": "markdown",
   "metadata": {
    "id": "fDpw5IYh_IP9"
   },
   "source": [
    "# Import package "
   ]
  },
  {
   "cell_type": "code",
   "execution_count": null,
   "metadata": {
    "id": "lkX350T4_MjI"
   },
   "outputs": [],
   "source": [
    "from datetime import datetime as dt\n",
    "\n",
    "import plotly.express as px\n",
    "import numpy as np\n",
    "import pandas as pd\n",
    "import plotly.graph_objects as go\n",
    "import seaborn as sns\n",
    "import matplotlib.pyplot as plt\n",
    "import os"
   ]
  },
  {
   "cell_type": "markdown",
   "metadata": {
    "id": "RxTkTFRJ_Mr_"
   },
   "source": [
    "# Load data "
   ]
  },
  {
   "cell_type": "code",
   "execution_count": null,
   "metadata": {
    "id": "hqfaXLFSBus-"
   },
   "outputs": [],
   "source": [
    "PATH = '/../sample_data/entube_final.parquet'"
   ]
  },
  {
   "cell_type": "code",
   "execution_count": null,
   "metadata": {
    "id": "Fc43XAvr_RoV"
   },
   "outputs": [],
   "source": [
    "df = pd.read_parquet(PATH)"
   ]
  },
  {
   "cell_type": "markdown",
   "metadata": {
    "id": "jvQmbaDRd6zd"
   },
   "source": [
    "# Data Understanding"
   ]
  },
  {
   "cell_type": "markdown",
   "metadata": {
    "id": "MXMtF2Gcos8p"
   },
   "source": [
    "## sample "
   ]
  },
  {
   "cell_type": "code",
   "execution_count": null,
   "metadata": {
    "colab": {
     "base_uri": "https://localhost:8080/",
     "height": 1000
    },
    "id": "fNtu-y-covvn",
    "outputId": "a8befc93-c779-4203-bb8e-880e2c654055"
   },
   "outputs": [
    {
     "data": {
      "text/html": [
       "\n",
       "  <div id=\"df-2e0f37c0-e015-4a44-875d-69e29463cdaa\">\n",
       "    <div class=\"colab-df-container\">\n",
       "      <div>\n",
       "<style scoped>\n",
       "    .dataframe tbody tr th:only-of-type {\n",
       "        vertical-align: middle;\n",
       "    }\n",
       "\n",
       "    .dataframe tbody tr th {\n",
       "        vertical-align: top;\n",
       "    }\n",
       "\n",
       "    .dataframe thead th {\n",
       "        text-align: right;\n",
       "    }\n",
       "</style>\n",
       "<table border=\"1\" class=\"dataframe\">\n",
       "  <thead>\n",
       "    <tr style=\"text-align: right;\">\n",
       "      <th></th>\n",
       "      <th>channel_id</th>\n",
       "      <th>channel_name</th>\n",
       "      <th>channel_category</th>\n",
       "      <th>channel_started</th>\n",
       "      <th>channel_rank</th>\n",
       "      <th>channel_subscribers</th>\n",
       "      <th>id</th>\n",
       "      <th>title</th>\n",
       "      <th>title_length</th>\n",
       "      <th>categories</th>\n",
       "      <th>...</th>\n",
       "      <th>comment_count</th>\n",
       "      <th>dislike_count</th>\n",
       "      <th>like_per_view</th>\n",
       "      <th>comment_per_view</th>\n",
       "      <th>dislike_per_view</th>\n",
       "      <th>engagement_rate_1</th>\n",
       "      <th>engagement_rate_2</th>\n",
       "      <th>q_score</th>\n",
       "      <th>label_1</th>\n",
       "      <th>label_2</th>\n",
       "    </tr>\n",
       "  </thead>\n",
       "  <tbody>\n",
       "    <tr>\n",
       "      <th>0</th>\n",
       "      <td>UC0jDoh3tVXCaqJ6oTve8ebA</td>\n",
       "      <td>FAP TV</td>\n",
       "      <td>Comedy</td>\n",
       "      <td>2014</td>\n",
       "      <td>2</td>\n",
       "      <td>12800000</td>\n",
       "      <td>nehrVdADdH0</td>\n",
       "      <td>[FAP TV ] Thông Báo Tuyển Diễn Viên Nam Film L...</td>\n",
       "      <td>14</td>\n",
       "      <td>Film &amp; Animation</td>\n",
       "      <td>...</td>\n",
       "      <td>827</td>\n",
       "      <td>105</td>\n",
       "      <td>0.020731</td>\n",
       "      <td>0.002456</td>\n",
       "      <td>0.000312</td>\n",
       "      <td>0.023187</td>\n",
       "      <td>0.023499</td>\n",
       "      <td>0.970364</td>\n",
       "      <td>2</td>\n",
       "      <td>2</td>\n",
       "    </tr>\n",
       "    <tr>\n",
       "      <th>1</th>\n",
       "      <td>UC0jDoh3tVXCaqJ6oTve8ebA</td>\n",
       "      <td>FAP TV</td>\n",
       "      <td>Comedy</td>\n",
       "      <td>2014</td>\n",
       "      <td>2</td>\n",
       "      <td>12800000</td>\n",
       "      <td>K66wOEaBwK4</td>\n",
       "      <td>Phía Sau Một Cô Gái - Soobin Hoàng Sơn | MV Fa...</td>\n",
       "      <td>14</td>\n",
       "      <td>Comedy</td>\n",
       "      <td>...</td>\n",
       "      <td>1594</td>\n",
       "      <td>664</td>\n",
       "      <td>0.010124</td>\n",
       "      <td>0.000622</td>\n",
       "      <td>0.000259</td>\n",
       "      <td>0.010746</td>\n",
       "      <td>0.011005</td>\n",
       "      <td>0.950070</td>\n",
       "      <td>1</td>\n",
       "      <td>2</td>\n",
       "    </tr>\n",
       "    <tr>\n",
       "      <th>2</th>\n",
       "      <td>UC0jDoh3tVXCaqJ6oTve8ebA</td>\n",
       "      <td>FAP TV</td>\n",
       "      <td>Comedy</td>\n",
       "      <td>2014</td>\n",
       "      <td>2</td>\n",
       "      <td>12800000</td>\n",
       "      <td>D00vn3X7oI8</td>\n",
       "      <td>FAPtv Cơm Nguội: Tập 94 - Dấu Ấn Học Đường Phần 2</td>\n",
       "      <td>12</td>\n",
       "      <td>Entertainment</td>\n",
       "      <td>...</td>\n",
       "      <td>2214</td>\n",
       "      <td>3089</td>\n",
       "      <td>0.006007</td>\n",
       "      <td>0.000234</td>\n",
       "      <td>0.000326</td>\n",
       "      <td>0.006241</td>\n",
       "      <td>0.006568</td>\n",
       "      <td>0.896920</td>\n",
       "      <td>1</td>\n",
       "      <td>2</td>\n",
       "    </tr>\n",
       "    <tr>\n",
       "      <th>3</th>\n",
       "      <td>UC0jDoh3tVXCaqJ6oTve8ebA</td>\n",
       "      <td>FAP TV</td>\n",
       "      <td>Comedy</td>\n",
       "      <td>2014</td>\n",
       "      <td>2</td>\n",
       "      <td>12800000</td>\n",
       "      <td>G22G1k3G-kM</td>\n",
       "      <td>FAPtv Cơm Nguội: Tập 100 - Hành Trình Vui Vẻ</td>\n",
       "      <td>10</td>\n",
       "      <td>Entertainment</td>\n",
       "      <td>...</td>\n",
       "      <td>1752</td>\n",
       "      <td>2202</td>\n",
       "      <td>0.007931</td>\n",
       "      <td>0.000228</td>\n",
       "      <td>0.000287</td>\n",
       "      <td>0.008159</td>\n",
       "      <td>0.008446</td>\n",
       "      <td>0.930209</td>\n",
       "      <td>1</td>\n",
       "      <td>2</td>\n",
       "    </tr>\n",
       "    <tr>\n",
       "      <th>4</th>\n",
       "      <td>UC0jDoh3tVXCaqJ6oTve8ebA</td>\n",
       "      <td>FAP TV</td>\n",
       "      <td>Comedy</td>\n",
       "      <td>2014</td>\n",
       "      <td>2</td>\n",
       "      <td>12800000</td>\n",
       "      <td>G5EG7ymPErw</td>\n",
       "      <td>FAPtv Cơm Nguội: Tập 95 - Dấu Ấn Học Đường Phầ...</td>\n",
       "      <td>12</td>\n",
       "      <td>Entertainment</td>\n",
       "      <td>...</td>\n",
       "      <td>2417</td>\n",
       "      <td>2208</td>\n",
       "      <td>0.006485</td>\n",
       "      <td>0.000303</td>\n",
       "      <td>0.000277</td>\n",
       "      <td>0.006789</td>\n",
       "      <td>0.007066</td>\n",
       "      <td>0.918029</td>\n",
       "      <td>1</td>\n",
       "      <td>2</td>\n",
       "    </tr>\n",
       "  </tbody>\n",
       "</table>\n",
       "<p>5 rows × 28 columns</p>\n",
       "</div>\n",
       "      <button class=\"colab-df-convert\" onclick=\"convertToInteractive('df-2e0f37c0-e015-4a44-875d-69e29463cdaa')\"\n",
       "              title=\"Convert this dataframe to an interactive table.\"\n",
       "              style=\"display:none;\">\n",
       "        \n",
       "  <svg xmlns=\"http://www.w3.org/2000/svg\" height=\"24px\"viewBox=\"0 0 24 24\"\n",
       "       width=\"24px\">\n",
       "    <path d=\"M0 0h24v24H0V0z\" fill=\"none\"/>\n",
       "    <path d=\"M18.56 5.44l.94 2.06.94-2.06 2.06-.94-2.06-.94-.94-2.06-.94 2.06-2.06.94zm-11 1L8.5 8.5l.94-2.06 2.06-.94-2.06-.94L8.5 2.5l-.94 2.06-2.06.94zm10 10l.94 2.06.94-2.06 2.06-.94-2.06-.94-.94-2.06-.94 2.06-2.06.94z\"/><path d=\"M17.41 7.96l-1.37-1.37c-.4-.4-.92-.59-1.43-.59-.52 0-1.04.2-1.43.59L10.3 9.45l-7.72 7.72c-.78.78-.78 2.05 0 2.83L4 21.41c.39.39.9.59 1.41.59.51 0 1.02-.2 1.41-.59l7.78-7.78 2.81-2.81c.8-.78.8-2.07 0-2.86zM5.41 20L4 18.59l7.72-7.72 1.47 1.35L5.41 20z\"/>\n",
       "  </svg>\n",
       "      </button>\n",
       "      \n",
       "  <style>\n",
       "    .colab-df-container {\n",
       "      display:flex;\n",
       "      flex-wrap:wrap;\n",
       "      gap: 12px;\n",
       "    }\n",
       "\n",
       "    .colab-df-convert {\n",
       "      background-color: #E8F0FE;\n",
       "      border: none;\n",
       "      border-radius: 50%;\n",
       "      cursor: pointer;\n",
       "      display: none;\n",
       "      fill: #1967D2;\n",
       "      height: 32px;\n",
       "      padding: 0 0 0 0;\n",
       "      width: 32px;\n",
       "    }\n",
       "\n",
       "    .colab-df-convert:hover {\n",
       "      background-color: #E2EBFA;\n",
       "      box-shadow: 0px 1px 2px rgba(60, 64, 67, 0.3), 0px 1px 3px 1px rgba(60, 64, 67, 0.15);\n",
       "      fill: #174EA6;\n",
       "    }\n",
       "\n",
       "    [theme=dark] .colab-df-convert {\n",
       "      background-color: #3B4455;\n",
       "      fill: #D2E3FC;\n",
       "    }\n",
       "\n",
       "    [theme=dark] .colab-df-convert:hover {\n",
       "      background-color: #434B5C;\n",
       "      box-shadow: 0px 1px 3px 1px rgba(0, 0, 0, 0.15);\n",
       "      filter: drop-shadow(0px 1px 2px rgba(0, 0, 0, 0.3));\n",
       "      fill: #FFFFFF;\n",
       "    }\n",
       "  </style>\n",
       "\n",
       "      <script>\n",
       "        const buttonEl =\n",
       "          document.querySelector('#df-2e0f37c0-e015-4a44-875d-69e29463cdaa button.colab-df-convert');\n",
       "        buttonEl.style.display =\n",
       "          google.colab.kernel.accessAllowed ? 'block' : 'none';\n",
       "\n",
       "        async function convertToInteractive(key) {\n",
       "          const element = document.querySelector('#df-2e0f37c0-e015-4a44-875d-69e29463cdaa');\n",
       "          const dataTable =\n",
       "            await google.colab.kernel.invokeFunction('convertToInteractive',\n",
       "                                                     [key], {});\n",
       "          if (!dataTable) return;\n",
       "\n",
       "          const docLinkHtml = 'Like what you see? Visit the ' +\n",
       "            '<a target=\"_blank\" href=https://colab.research.google.com/notebooks/data_table.ipynb>data table notebook</a>'\n",
       "            + ' to learn more about interactive tables.';\n",
       "          element.innerHTML = '';\n",
       "          dataTable['output_type'] = 'display_data';\n",
       "          await google.colab.output.renderOutput(dataTable, element);\n",
       "          const docLink = document.createElement('div');\n",
       "          docLink.innerHTML = docLinkHtml;\n",
       "          element.appendChild(docLink);\n",
       "        }\n",
       "      </script>\n",
       "    </div>\n",
       "  </div>\n",
       "  "
      ],
      "text/plain": [
       "                 channel_id channel_name channel_category  channel_started  \\\n",
       "0  UC0jDoh3tVXCaqJ6oTve8ebA       FAP TV           Comedy             2014   \n",
       "1  UC0jDoh3tVXCaqJ6oTve8ebA       FAP TV           Comedy             2014   \n",
       "2  UC0jDoh3tVXCaqJ6oTve8ebA       FAP TV           Comedy             2014   \n",
       "3  UC0jDoh3tVXCaqJ6oTve8ebA       FAP TV           Comedy             2014   \n",
       "4  UC0jDoh3tVXCaqJ6oTve8ebA       FAP TV           Comedy             2014   \n",
       "\n",
       "   channel_rank  channel_subscribers           id  \\\n",
       "0             2             12800000  nehrVdADdH0   \n",
       "1             2             12800000  K66wOEaBwK4   \n",
       "2             2             12800000  D00vn3X7oI8   \n",
       "3             2             12800000  G22G1k3G-kM   \n",
       "4             2             12800000  G5EG7ymPErw   \n",
       "\n",
       "                                               title  title_length  \\\n",
       "0  [FAP TV ] Thông Báo Tuyển Diễn Viên Nam Film L...            14   \n",
       "1  Phía Sau Một Cô Gái - Soobin Hoàng Sơn | MV Fa...            14   \n",
       "2  FAPtv Cơm Nguội: Tập 94 - Dấu Ấn Học Đường Phần 2            12   \n",
       "3       FAPtv Cơm Nguội: Tập 100 - Hành Trình Vui Vẻ            10   \n",
       "4  FAPtv Cơm Nguội: Tập 95 - Dấu Ấn Học Đường Phầ...            12   \n",
       "\n",
       "         categories  ... comment_count dislike_count  like_per_view  \\\n",
       "0  Film & Animation  ...           827           105       0.020731   \n",
       "1            Comedy  ...          1594           664       0.010124   \n",
       "2     Entertainment  ...          2214          3089       0.006007   \n",
       "3     Entertainment  ...          1752          2202       0.007931   \n",
       "4     Entertainment  ...          2417          2208       0.006485   \n",
       "\n",
       "  comment_per_view  dislike_per_view  engagement_rate_1  engagement_rate_2  \\\n",
       "0         0.002456          0.000312           0.023187           0.023499   \n",
       "1         0.000622          0.000259           0.010746           0.011005   \n",
       "2         0.000234          0.000326           0.006241           0.006568   \n",
       "3         0.000228          0.000287           0.008159           0.008446   \n",
       "4         0.000303          0.000277           0.006789           0.007066   \n",
       "\n",
       "    q_score  label_1  label_2  \n",
       "0  0.970364        2        2  \n",
       "1  0.950070        1        2  \n",
       "2  0.896920        1        2  \n",
       "3  0.930209        1        2  \n",
       "4  0.918029        1        2  \n",
       "\n",
       "[5 rows x 28 columns]"
      ]
     },
     "execution_count": 7,
     "metadata": {},
     "output_type": "execute_result"
    }
   ],
   "source": [
    "df.head(5)"
   ]
  },
  {
   "cell_type": "markdown",
   "metadata": {
    "id": "B-PB9Fz4oxEQ"
   },
   "source": [
    "## size "
   ]
  },
  {
   "cell_type": "code",
   "execution_count": null,
   "metadata": {
    "colab": {
     "base_uri": "https://localhost:8080/"
    },
    "id": "_EhFbFSmoxQE",
    "outputId": "5117b189-afaa-4a49-a4fd-646e1fba2a3c"
   },
   "outputs": [
    {
     "data": {
      "text/plain": [
       "23738"
      ]
     },
     "execution_count": 8,
     "metadata": {},
     "output_type": "execute_result"
    }
   ],
   "source": [
    "len(df)"
   ]
  },
  {
   "cell_type": "markdown",
   "metadata": {
    "id": "mgl8LDqD_LDo"
   },
   "source": [
    "## missing_rate of video"
   ]
  },
  {
   "cell_type": "code",
   "execution_count": null,
   "metadata": {
    "colab": {
     "base_uri": "https://localhost:8080/"
    },
    "id": "ZVIfOtI6_Oi8",
    "outputId": "3331d1cb-6ae5-49ad-c021-94b799ffdb2c"
   },
   "outputs": [
    {
     "data": {
      "text/plain": [
       "channel_id             0.000000\n",
       "channel_name           0.000000\n",
       "channel_category       0.000000\n",
       "channel_started        0.000000\n",
       "channel_rank           0.000000\n",
       "channel_subscribers    0.000000\n",
       "id                     0.000000\n",
       "title                  0.000000\n",
       "title_length           0.000000\n",
       "categories             0.000000\n",
       "description            0.017609\n",
       "tags                   0.000000\n",
       "num_tags               0.000000\n",
       "upload_date            0.000000\n",
       "delta_upload_date      0.000000\n",
       "duration               0.000000\n",
       "view_count             0.000000\n",
       "like_count             0.000000\n",
       "comment_count          0.000000\n",
       "dislike_count          0.000000\n",
       "like_per_view          0.000000\n",
       "comment_per_view       0.000000\n",
       "dislike_per_view       0.000000\n",
       "engagement_rate_1      0.000000\n",
       "engagement_rate_2      0.000000\n",
       "q_score                0.000000\n",
       "label_1                0.000000\n",
       "label_2                0.000000\n",
       "dtype: float64"
      ]
     },
     "execution_count": 9,
     "metadata": {},
     "output_type": "execute_result"
    }
   ],
   "source": [
    "df.isnull().mean()"
   ]
  },
  {
   "cell_type": "markdown",
   "metadata": {
    "id": "e8u4t0uYePUA"
   },
   "source": [
    "## duplicated rate"
   ]
  },
  {
   "cell_type": "code",
   "execution_count": null,
   "metadata": {
    "id": "Fl8tTqWXG6H9"
   },
   "outputs": [],
   "source": [
    "df = pd.read_parquet(PATH)"
   ]
  },
  {
   "cell_type": "code",
   "execution_count": null,
   "metadata": {
    "colab": {
     "base_uri": "https://localhost:8080/"
    },
    "id": "qJQKiOVE15tC",
    "outputId": "ff6dabf7-d981-4985-96c6-179979294ec6"
   },
   "outputs": [
    {
     "data": {
      "text/plain": [
       "1.0"
      ]
     },
     "execution_count": 11,
     "metadata": {},
     "output_type": "execute_result"
    }
   ],
   "source": [
    "len(df.drop_duplicates(['id']))/len(df)"
   ]
  },
  {
   "cell_type": "code",
   "execution_count": null,
   "metadata": {
    "colab": {
     "base_uri": "https://localhost:8080/"
    },
    "id": "fFgZpt5H8lcN",
    "outputId": "ee79b5df-cb62-47a7-ec4e-cdbbeb8417e2"
   },
   "outputs": [
    {
     "data": {
      "text/plain": [
       "23738"
      ]
     },
     "execution_count": 12,
     "metadata": {},
     "output_type": "execute_result"
    }
   ],
   "source": [
    "len(df)"
   ]
  },
  {
   "cell_type": "markdown",
   "metadata": {
    "id": "TbdlU8ISsor-"
   },
   "source": [
    "## check filter "
   ]
  },
  {
   "cell_type": "markdown",
   "metadata": {
    "id": "mcB05wklsqUe"
   },
   "source": [
    "### likes greate dislikes"
   ]
  },
  {
   "cell_type": "code",
   "execution_count": null,
   "metadata": {
    "colab": {
     "base_uri": "https://localhost:8080/"
    },
    "id": "qXr-LeKIstHS",
    "outputId": "8d09eb88-a8a9-47e1-a162-f558160425e5"
   },
   "outputs": [
    {
     "data": {
      "text/plain": [
       "1.0"
      ]
     },
     "execution_count": 33,
     "metadata": {},
     "output_type": "execute_result"
    }
   ],
   "source": [
    "len(df[df['like_count'] > df['dislike_count']]) / len(df)"
   ]
  },
  {
   "cell_type": "markdown",
   "metadata": {
    "id": "5d1QS9FXtETc"
   },
   "source": [
    "### no dislike "
   ]
  },
  {
   "cell_type": "code",
   "execution_count": null,
   "metadata": {
    "colab": {
     "base_uri": "https://localhost:8080/"
    },
    "id": "OMtE2uR8tEg-",
    "outputId": "f663ff70-cec2-4602-f760-4e5e3f6fe95c"
   },
   "outputs": [
    {
     "data": {
      "text/plain": [
       "1.0"
      ]
     },
     "execution_count": 34,
     "metadata": {},
     "output_type": "execute_result"
    }
   ],
   "source": [
    "len(df[df['dislike_count'] > 0]) / len(df)"
   ]
  },
  {
   "cell_type": "markdown",
   "metadata": {
    "id": "jJxWhoRktKAD"
   },
   "source": [
    "### duration"
   ]
  },
  {
   "cell_type": "code",
   "execution_count": null,
   "metadata": {
    "colab": {
     "base_uri": "https://localhost:8080/"
    },
    "id": "04yjqbMQtKJF",
    "outputId": "bd538cef-9ed7-42b7-b2fe-dd324b410506"
   },
   "outputs": [
    {
     "data": {
      "text/plain": [
       "1.0"
      ]
     },
     "execution_count": 36,
     "metadata": {},
     "output_type": "execute_result"
    }
   ],
   "source": [
    "len(df[df['duration'] >= 1]) / len(df)"
   ]
  },
  {
   "cell_type": "markdown",
   "metadata": {
    "id": "VyIkIf--nIuj"
   },
   "source": [
    "# EDA "
   ]
  },
  {
   "cell_type": "markdown",
   "metadata": {
    "id": "XHLD9et0oJxN"
   },
   "source": [
    "## label "
   ]
  },
  {
   "cell_type": "code",
   "execution_count": null,
   "metadata": {
    "id": "SfrU3dRF9Pd6"
   },
   "outputs": [],
   "source": [
    "pd.options.display.float_format = '{:,.6f}'.format\n",
    "percentiles = [0.01] + [0.05*x for x in range(1, 20)] + [0.99]"
   ]
  },
  {
   "cell_type": "markdown",
   "metadata": {
    "id": "d7UmD7VvoJ7V"
   },
   "source": [
    "### label 1 "
   ]
  },
  {
   "cell_type": "code",
   "execution_count": null,
   "metadata": {
    "id": "-0V8AYLvoNuL"
   },
   "outputs": [],
   "source": [
    "def get_distribution_from_label(df, label: str, value: int,columns: list):\n",
    "    return df[df[label] == value][columns].describe(percentiles=percentiles)"
   ]
  },
  {
   "cell_type": "markdown",
   "metadata": {
    "id": "oFCx0NJxqiw_"
   },
   "source": [
    "#### Not Engage"
   ]
  },
  {
   "cell_type": "code",
   "execution_count": null,
   "metadata": {
    "id": "2ZEhN1oSoN3g"
   },
   "outputs": [],
   "source": [
    "label = 'label_1'\n",
    "value = 0 # Not Engage\n",
    "columns = ['label_1', 'engagement_rate_1']"
   ]
  },
  {
   "cell_type": "code",
   "execution_count": null,
   "metadata": {
    "colab": {
     "base_uri": "https://localhost:8080/",
     "height": 865
    },
    "id": "f_IQhrEXqbI1",
    "outputId": "fae02003-c4df-40bd-996e-f60caadc0288"
   },
   "outputs": [
    {
     "data": {
      "text/html": [
       "\n",
       "  <div id=\"df-31e73297-d4a6-4bda-ac2a-7dabd8170c1e\">\n",
       "    <div class=\"colab-df-container\">\n",
       "      <div>\n",
       "<style scoped>\n",
       "    .dataframe tbody tr th:only-of-type {\n",
       "        vertical-align: middle;\n",
       "    }\n",
       "\n",
       "    .dataframe tbody tr th {\n",
       "        vertical-align: top;\n",
       "    }\n",
       "\n",
       "    .dataframe thead th {\n",
       "        text-align: right;\n",
       "    }\n",
       "</style>\n",
       "<table border=\"1\" class=\"dataframe\">\n",
       "  <thead>\n",
       "    <tr style=\"text-align: right;\">\n",
       "      <th></th>\n",
       "      <th>label_1</th>\n",
       "      <th>engagement_rate_1</th>\n",
       "    </tr>\n",
       "  </thead>\n",
       "  <tbody>\n",
       "    <tr>\n",
       "      <th>count</th>\n",
       "      <td>8,178.000000</td>\n",
       "      <td>8,178.000000</td>\n",
       "    </tr>\n",
       "    <tr>\n",
       "      <th>mean</th>\n",
       "      <td>0.000000</td>\n",
       "      <td>0.002890</td>\n",
       "    </tr>\n",
       "    <tr>\n",
       "      <th>std</th>\n",
       "      <td>0.000000</td>\n",
       "      <td>0.001121</td>\n",
       "    </tr>\n",
       "    <tr>\n",
       "      <th>min</th>\n",
       "      <td>0.000000</td>\n",
       "      <td>0.000002</td>\n",
       "    </tr>\n",
       "    <tr>\n",
       "      <th>1%</th>\n",
       "      <td>0.000000</td>\n",
       "      <td>0.000497</td>\n",
       "    </tr>\n",
       "    <tr>\n",
       "      <th>5%</th>\n",
       "      <td>0.000000</td>\n",
       "      <td>0.001073</td>\n",
       "    </tr>\n",
       "    <tr>\n",
       "      <th>10%</th>\n",
       "      <td>0.000000</td>\n",
       "      <td>0.001365</td>\n",
       "    </tr>\n",
       "    <tr>\n",
       "      <th>15%</th>\n",
       "      <td>0.000000</td>\n",
       "      <td>0.001609</td>\n",
       "    </tr>\n",
       "    <tr>\n",
       "      <th>20%</th>\n",
       "      <td>0.000000</td>\n",
       "      <td>0.001846</td>\n",
       "    </tr>\n",
       "    <tr>\n",
       "      <th>25%</th>\n",
       "      <td>0.000000</td>\n",
       "      <td>0.002042</td>\n",
       "    </tr>\n",
       "    <tr>\n",
       "      <th>30%</th>\n",
       "      <td>0.000000</td>\n",
       "      <td>0.002226</td>\n",
       "    </tr>\n",
       "    <tr>\n",
       "      <th>35%</th>\n",
       "      <td>0.000000</td>\n",
       "      <td>0.002395</td>\n",
       "    </tr>\n",
       "    <tr>\n",
       "      <th>40%</th>\n",
       "      <td>0.000000</td>\n",
       "      <td>0.002548</td>\n",
       "    </tr>\n",
       "    <tr>\n",
       "      <th>45%</th>\n",
       "      <td>0.000000</td>\n",
       "      <td>0.002717</td>\n",
       "    </tr>\n",
       "    <tr>\n",
       "      <th>50%</th>\n",
       "      <td>0.000000</td>\n",
       "      <td>0.002883</td>\n",
       "    </tr>\n",
       "    <tr>\n",
       "      <th>55%</th>\n",
       "      <td>0.000000</td>\n",
       "      <td>0.003057</td>\n",
       "    </tr>\n",
       "    <tr>\n",
       "      <th>60%</th>\n",
       "      <td>0.000000</td>\n",
       "      <td>0.003250</td>\n",
       "    </tr>\n",
       "    <tr>\n",
       "      <th>65%</th>\n",
       "      <td>0.000000</td>\n",
       "      <td>0.003426</td>\n",
       "    </tr>\n",
       "    <tr>\n",
       "      <th>70%</th>\n",
       "      <td>0.000000</td>\n",
       "      <td>0.003602</td>\n",
       "    </tr>\n",
       "    <tr>\n",
       "      <th>75%</th>\n",
       "      <td>0.000000</td>\n",
       "      <td>0.003799</td>\n",
       "    </tr>\n",
       "    <tr>\n",
       "      <th>80%</th>\n",
       "      <td>0.000000</td>\n",
       "      <td>0.004006</td>\n",
       "    </tr>\n",
       "    <tr>\n",
       "      <th>85%</th>\n",
       "      <td>0.000000</td>\n",
       "      <td>0.004203</td>\n",
       "    </tr>\n",
       "    <tr>\n",
       "      <th>90%</th>\n",
       "      <td>0.000000</td>\n",
       "      <td>0.004421</td>\n",
       "    </tr>\n",
       "    <tr>\n",
       "      <th>95%</th>\n",
       "      <td>0.000000</td>\n",
       "      <td>0.004666</td>\n",
       "    </tr>\n",
       "    <tr>\n",
       "      <th>99%</th>\n",
       "      <td>0.000000</td>\n",
       "      <td>0.004889</td>\n",
       "    </tr>\n",
       "    <tr>\n",
       "      <th>max</th>\n",
       "      <td>0.000000</td>\n",
       "      <td>0.004935</td>\n",
       "    </tr>\n",
       "  </tbody>\n",
       "</table>\n",
       "</div>\n",
       "      <button class=\"colab-df-convert\" onclick=\"convertToInteractive('df-31e73297-d4a6-4bda-ac2a-7dabd8170c1e')\"\n",
       "              title=\"Convert this dataframe to an interactive table.\"\n",
       "              style=\"display:none;\">\n",
       "        \n",
       "  <svg xmlns=\"http://www.w3.org/2000/svg\" height=\"24px\"viewBox=\"0 0 24 24\"\n",
       "       width=\"24px\">\n",
       "    <path d=\"M0 0h24v24H0V0z\" fill=\"none\"/>\n",
       "    <path d=\"M18.56 5.44l.94 2.06.94-2.06 2.06-.94-2.06-.94-.94-2.06-.94 2.06-2.06.94zm-11 1L8.5 8.5l.94-2.06 2.06-.94-2.06-.94L8.5 2.5l-.94 2.06-2.06.94zm10 10l.94 2.06.94-2.06 2.06-.94-2.06-.94-.94-2.06-.94 2.06-2.06.94z\"/><path d=\"M17.41 7.96l-1.37-1.37c-.4-.4-.92-.59-1.43-.59-.52 0-1.04.2-1.43.59L10.3 9.45l-7.72 7.72c-.78.78-.78 2.05 0 2.83L4 21.41c.39.39.9.59 1.41.59.51 0 1.02-.2 1.41-.59l7.78-7.78 2.81-2.81c.8-.78.8-2.07 0-2.86zM5.41 20L4 18.59l7.72-7.72 1.47 1.35L5.41 20z\"/>\n",
       "  </svg>\n",
       "      </button>\n",
       "      \n",
       "  <style>\n",
       "    .colab-df-container {\n",
       "      display:flex;\n",
       "      flex-wrap:wrap;\n",
       "      gap: 12px;\n",
       "    }\n",
       "\n",
       "    .colab-df-convert {\n",
       "      background-color: #E8F0FE;\n",
       "      border: none;\n",
       "      border-radius: 50%;\n",
       "      cursor: pointer;\n",
       "      display: none;\n",
       "      fill: #1967D2;\n",
       "      height: 32px;\n",
       "      padding: 0 0 0 0;\n",
       "      width: 32px;\n",
       "    }\n",
       "\n",
       "    .colab-df-convert:hover {\n",
       "      background-color: #E2EBFA;\n",
       "      box-shadow: 0px 1px 2px rgba(60, 64, 67, 0.3), 0px 1px 3px 1px rgba(60, 64, 67, 0.15);\n",
       "      fill: #174EA6;\n",
       "    }\n",
       "\n",
       "    [theme=dark] .colab-df-convert {\n",
       "      background-color: #3B4455;\n",
       "      fill: #D2E3FC;\n",
       "    }\n",
       "\n",
       "    [theme=dark] .colab-df-convert:hover {\n",
       "      background-color: #434B5C;\n",
       "      box-shadow: 0px 1px 3px 1px rgba(0, 0, 0, 0.15);\n",
       "      filter: drop-shadow(0px 1px 2px rgba(0, 0, 0, 0.3));\n",
       "      fill: #FFFFFF;\n",
       "    }\n",
       "  </style>\n",
       "\n",
       "      <script>\n",
       "        const buttonEl =\n",
       "          document.querySelector('#df-31e73297-d4a6-4bda-ac2a-7dabd8170c1e button.colab-df-convert');\n",
       "        buttonEl.style.display =\n",
       "          google.colab.kernel.accessAllowed ? 'block' : 'none';\n",
       "\n",
       "        async function convertToInteractive(key) {\n",
       "          const element = document.querySelector('#df-31e73297-d4a6-4bda-ac2a-7dabd8170c1e');\n",
       "          const dataTable =\n",
       "            await google.colab.kernel.invokeFunction('convertToInteractive',\n",
       "                                                     [key], {});\n",
       "          if (!dataTable) return;\n",
       "\n",
       "          const docLinkHtml = 'Like what you see? Visit the ' +\n",
       "            '<a target=\"_blank\" href=https://colab.research.google.com/notebooks/data_table.ipynb>data table notebook</a>'\n",
       "            + ' to learn more about interactive tables.';\n",
       "          element.innerHTML = '';\n",
       "          dataTable['output_type'] = 'display_data';\n",
       "          await google.colab.output.renderOutput(dataTable, element);\n",
       "          const docLink = document.createElement('div');\n",
       "          docLink.innerHTML = docLinkHtml;\n",
       "          element.appendChild(docLink);\n",
       "        }\n",
       "      </script>\n",
       "    </div>\n",
       "  </div>\n",
       "  "
      ],
      "text/plain": [
       "           label_1  engagement_rate_1\n",
       "count 8,178.000000       8,178.000000\n",
       "mean      0.000000           0.002890\n",
       "std       0.000000           0.001121\n",
       "min       0.000000           0.000002\n",
       "1%        0.000000           0.000497\n",
       "5%        0.000000           0.001073\n",
       "10%       0.000000           0.001365\n",
       "15%       0.000000           0.001609\n",
       "20%       0.000000           0.001846\n",
       "25%       0.000000           0.002042\n",
       "30%       0.000000           0.002226\n",
       "35%       0.000000           0.002395\n",
       "40%       0.000000           0.002548\n",
       "45%       0.000000           0.002717\n",
       "50%       0.000000           0.002883\n",
       "55%       0.000000           0.003057\n",
       "60%       0.000000           0.003250\n",
       "65%       0.000000           0.003426\n",
       "70%       0.000000           0.003602\n",
       "75%       0.000000           0.003799\n",
       "80%       0.000000           0.004006\n",
       "85%       0.000000           0.004203\n",
       "90%       0.000000           0.004421\n",
       "95%       0.000000           0.004666\n",
       "99%       0.000000           0.004889\n",
       "max       0.000000           0.004935"
      ]
     },
     "execution_count": 22,
     "metadata": {},
     "output_type": "execute_result"
    }
   ],
   "source": [
    "get_distribution_from_label(df, label, value, columns)"
   ]
  },
  {
   "cell_type": "markdown",
   "metadata": {
    "id": "oMFrMk9Jqhkq"
   },
   "source": [
    "#### Neutral"
   ]
  },
  {
   "cell_type": "code",
   "execution_count": null,
   "metadata": {
    "colab": {
     "base_uri": "https://localhost:8080/",
     "height": 865
    },
    "id": "WFhOxjmWq9yg",
    "outputId": "21ee4e22-3001-4d88-93df-e0e73397989a"
   },
   "outputs": [
    {
     "data": {
      "text/html": [
       "\n",
       "  <div id=\"df-8357707c-961f-4170-b147-cb410b02b56b\">\n",
       "    <div class=\"colab-df-container\">\n",
       "      <div>\n",
       "<style scoped>\n",
       "    .dataframe tbody tr th:only-of-type {\n",
       "        vertical-align: middle;\n",
       "    }\n",
       "\n",
       "    .dataframe tbody tr th {\n",
       "        vertical-align: top;\n",
       "    }\n",
       "\n",
       "    .dataframe thead th {\n",
       "        text-align: right;\n",
       "    }\n",
       "</style>\n",
       "<table border=\"1\" class=\"dataframe\">\n",
       "  <thead>\n",
       "    <tr style=\"text-align: right;\">\n",
       "      <th></th>\n",
       "      <th>label_1</th>\n",
       "      <th>engagement_rate_1</th>\n",
       "    </tr>\n",
       "  </thead>\n",
       "  <tbody>\n",
       "    <tr>\n",
       "      <th>count</th>\n",
       "      <td>7,107.000000</td>\n",
       "      <td>7,107.000000</td>\n",
       "    </tr>\n",
       "    <tr>\n",
       "      <th>mean</th>\n",
       "      <td>1.000000</td>\n",
       "      <td>0.007792</td>\n",
       "    </tr>\n",
       "    <tr>\n",
       "      <th>std</th>\n",
       "      <td>0.000000</td>\n",
       "      <td>0.001888</td>\n",
       "    </tr>\n",
       "    <tr>\n",
       "      <th>min</th>\n",
       "      <td>1.000000</td>\n",
       "      <td>0.004937</td>\n",
       "    </tr>\n",
       "    <tr>\n",
       "      <th>1%</th>\n",
       "      <td>1.000000</td>\n",
       "      <td>0.004989</td>\n",
       "    </tr>\n",
       "    <tr>\n",
       "      <th>5%</th>\n",
       "      <td>1.000000</td>\n",
       "      <td>0.005179</td>\n",
       "    </tr>\n",
       "    <tr>\n",
       "      <th>10%</th>\n",
       "      <td>1.000000</td>\n",
       "      <td>0.005411</td>\n",
       "    </tr>\n",
       "    <tr>\n",
       "      <th>15%</th>\n",
       "      <td>1.000000</td>\n",
       "      <td>0.005654</td>\n",
       "    </tr>\n",
       "    <tr>\n",
       "      <th>20%</th>\n",
       "      <td>1.000000</td>\n",
       "      <td>0.005900</td>\n",
       "    </tr>\n",
       "    <tr>\n",
       "      <th>25%</th>\n",
       "      <td>1.000000</td>\n",
       "      <td>0.006146</td>\n",
       "    </tr>\n",
       "    <tr>\n",
       "      <th>30%</th>\n",
       "      <td>1.000000</td>\n",
       "      <td>0.006410</td>\n",
       "    </tr>\n",
       "    <tr>\n",
       "      <th>35%</th>\n",
       "      <td>1.000000</td>\n",
       "      <td>0.006671</td>\n",
       "    </tr>\n",
       "    <tr>\n",
       "      <th>40%</th>\n",
       "      <td>1.000000</td>\n",
       "      <td>0.006934</td>\n",
       "    </tr>\n",
       "    <tr>\n",
       "      <th>45%</th>\n",
       "      <td>1.000000</td>\n",
       "      <td>0.007236</td>\n",
       "    </tr>\n",
       "    <tr>\n",
       "      <th>50%</th>\n",
       "      <td>1.000000</td>\n",
       "      <td>0.007571</td>\n",
       "    </tr>\n",
       "    <tr>\n",
       "      <th>55%</th>\n",
       "      <td>1.000000</td>\n",
       "      <td>0.007885</td>\n",
       "    </tr>\n",
       "    <tr>\n",
       "      <th>60%</th>\n",
       "      <td>1.000000</td>\n",
       "      <td>0.008221</td>\n",
       "    </tr>\n",
       "    <tr>\n",
       "      <th>65%</th>\n",
       "      <td>1.000000</td>\n",
       "      <td>0.008578</td>\n",
       "    </tr>\n",
       "    <tr>\n",
       "      <th>70%</th>\n",
       "      <td>1.000000</td>\n",
       "      <td>0.008927</td>\n",
       "    </tr>\n",
       "    <tr>\n",
       "      <th>75%</th>\n",
       "      <td>1.000000</td>\n",
       "      <td>0.009314</td>\n",
       "    </tr>\n",
       "    <tr>\n",
       "      <th>80%</th>\n",
       "      <td>1.000000</td>\n",
       "      <td>0.009709</td>\n",
       "    </tr>\n",
       "    <tr>\n",
       "      <th>85%</th>\n",
       "      <td>1.000000</td>\n",
       "      <td>0.010131</td>\n",
       "    </tr>\n",
       "    <tr>\n",
       "      <th>90%</th>\n",
       "      <td>1.000000</td>\n",
       "      <td>0.010621</td>\n",
       "    </tr>\n",
       "    <tr>\n",
       "      <th>95%</th>\n",
       "      <td>1.000000</td>\n",
       "      <td>0.011120</td>\n",
       "    </tr>\n",
       "    <tr>\n",
       "      <th>99%</th>\n",
       "      <td>1.000000</td>\n",
       "      <td>0.011545</td>\n",
       "    </tr>\n",
       "    <tr>\n",
       "      <th>max</th>\n",
       "      <td>1.000000</td>\n",
       "      <td>0.011633</td>\n",
       "    </tr>\n",
       "  </tbody>\n",
       "</table>\n",
       "</div>\n",
       "      <button class=\"colab-df-convert\" onclick=\"convertToInteractive('df-8357707c-961f-4170-b147-cb410b02b56b')\"\n",
       "              title=\"Convert this dataframe to an interactive table.\"\n",
       "              style=\"display:none;\">\n",
       "        \n",
       "  <svg xmlns=\"http://www.w3.org/2000/svg\" height=\"24px\"viewBox=\"0 0 24 24\"\n",
       "       width=\"24px\">\n",
       "    <path d=\"M0 0h24v24H0V0z\" fill=\"none\"/>\n",
       "    <path d=\"M18.56 5.44l.94 2.06.94-2.06 2.06-.94-2.06-.94-.94-2.06-.94 2.06-2.06.94zm-11 1L8.5 8.5l.94-2.06 2.06-.94-2.06-.94L8.5 2.5l-.94 2.06-2.06.94zm10 10l.94 2.06.94-2.06 2.06-.94-2.06-.94-.94-2.06-.94 2.06-2.06.94z\"/><path d=\"M17.41 7.96l-1.37-1.37c-.4-.4-.92-.59-1.43-.59-.52 0-1.04.2-1.43.59L10.3 9.45l-7.72 7.72c-.78.78-.78 2.05 0 2.83L4 21.41c.39.39.9.59 1.41.59.51 0 1.02-.2 1.41-.59l7.78-7.78 2.81-2.81c.8-.78.8-2.07 0-2.86zM5.41 20L4 18.59l7.72-7.72 1.47 1.35L5.41 20z\"/>\n",
       "  </svg>\n",
       "      </button>\n",
       "      \n",
       "  <style>\n",
       "    .colab-df-container {\n",
       "      display:flex;\n",
       "      flex-wrap:wrap;\n",
       "      gap: 12px;\n",
       "    }\n",
       "\n",
       "    .colab-df-convert {\n",
       "      background-color: #E8F0FE;\n",
       "      border: none;\n",
       "      border-radius: 50%;\n",
       "      cursor: pointer;\n",
       "      display: none;\n",
       "      fill: #1967D2;\n",
       "      height: 32px;\n",
       "      padding: 0 0 0 0;\n",
       "      width: 32px;\n",
       "    }\n",
       "\n",
       "    .colab-df-convert:hover {\n",
       "      background-color: #E2EBFA;\n",
       "      box-shadow: 0px 1px 2px rgba(60, 64, 67, 0.3), 0px 1px 3px 1px rgba(60, 64, 67, 0.15);\n",
       "      fill: #174EA6;\n",
       "    }\n",
       "\n",
       "    [theme=dark] .colab-df-convert {\n",
       "      background-color: #3B4455;\n",
       "      fill: #D2E3FC;\n",
       "    }\n",
       "\n",
       "    [theme=dark] .colab-df-convert:hover {\n",
       "      background-color: #434B5C;\n",
       "      box-shadow: 0px 1px 3px 1px rgba(0, 0, 0, 0.15);\n",
       "      filter: drop-shadow(0px 1px 2px rgba(0, 0, 0, 0.3));\n",
       "      fill: #FFFFFF;\n",
       "    }\n",
       "  </style>\n",
       "\n",
       "      <script>\n",
       "        const buttonEl =\n",
       "          document.querySelector('#df-8357707c-961f-4170-b147-cb410b02b56b button.colab-df-convert');\n",
       "        buttonEl.style.display =\n",
       "          google.colab.kernel.accessAllowed ? 'block' : 'none';\n",
       "\n",
       "        async function convertToInteractive(key) {\n",
       "          const element = document.querySelector('#df-8357707c-961f-4170-b147-cb410b02b56b');\n",
       "          const dataTable =\n",
       "            await google.colab.kernel.invokeFunction('convertToInteractive',\n",
       "                                                     [key], {});\n",
       "          if (!dataTable) return;\n",
       "\n",
       "          const docLinkHtml = 'Like what you see? Visit the ' +\n",
       "            '<a target=\"_blank\" href=https://colab.research.google.com/notebooks/data_table.ipynb>data table notebook</a>'\n",
       "            + ' to learn more about interactive tables.';\n",
       "          element.innerHTML = '';\n",
       "          dataTable['output_type'] = 'display_data';\n",
       "          await google.colab.output.renderOutput(dataTable, element);\n",
       "          const docLink = document.createElement('div');\n",
       "          docLink.innerHTML = docLinkHtml;\n",
       "          element.appendChild(docLink);\n",
       "        }\n",
       "      </script>\n",
       "    </div>\n",
       "  </div>\n",
       "  "
      ],
      "text/plain": [
       "           label_1  engagement_rate_1\n",
       "count 7,107.000000       7,107.000000\n",
       "mean      1.000000           0.007792\n",
       "std       0.000000           0.001888\n",
       "min       1.000000           0.004937\n",
       "1%        1.000000           0.004989\n",
       "5%        1.000000           0.005179\n",
       "10%       1.000000           0.005411\n",
       "15%       1.000000           0.005654\n",
       "20%       1.000000           0.005900\n",
       "25%       1.000000           0.006146\n",
       "30%       1.000000           0.006410\n",
       "35%       1.000000           0.006671\n",
       "40%       1.000000           0.006934\n",
       "45%       1.000000           0.007236\n",
       "50%       1.000000           0.007571\n",
       "55%       1.000000           0.007885\n",
       "60%       1.000000           0.008221\n",
       "65%       1.000000           0.008578\n",
       "70%       1.000000           0.008927\n",
       "75%       1.000000           0.009314\n",
       "80%       1.000000           0.009709\n",
       "85%       1.000000           0.010131\n",
       "90%       1.000000           0.010621\n",
       "95%       1.000000           0.011120\n",
       "99%       1.000000           0.011545\n",
       "max       1.000000           0.011633"
      ]
     },
     "execution_count": 23,
     "metadata": {},
     "output_type": "execute_result"
    }
   ],
   "source": [
    "get_distribution_from_label(df, label, 1, columns)"
   ]
  },
  {
   "cell_type": "markdown",
   "metadata": {
    "id": "Mj7TPM7KrHRA"
   },
   "source": [
    "#### Engage"
   ]
  },
  {
   "cell_type": "code",
   "execution_count": null,
   "metadata": {
    "colab": {
     "base_uri": "https://localhost:8080/",
     "height": 865
    },
    "id": "99lPuIh_q975",
    "outputId": "6cb40ee2-c5d5-4052-abf5-a0c5f8e127cc"
   },
   "outputs": [
    {
     "data": {
      "text/html": [
       "\n",
       "  <div id=\"df-1137142f-802f-4639-965b-9d4a66bb9c04\">\n",
       "    <div class=\"colab-df-container\">\n",
       "      <div>\n",
       "<style scoped>\n",
       "    .dataframe tbody tr th:only-of-type {\n",
       "        vertical-align: middle;\n",
       "    }\n",
       "\n",
       "    .dataframe tbody tr th {\n",
       "        vertical-align: top;\n",
       "    }\n",
       "\n",
       "    .dataframe thead th {\n",
       "        text-align: right;\n",
       "    }\n",
       "</style>\n",
       "<table border=\"1\" class=\"dataframe\">\n",
       "  <thead>\n",
       "    <tr style=\"text-align: right;\">\n",
       "      <th></th>\n",
       "      <th>label_1</th>\n",
       "      <th>engagement_rate_1</th>\n",
       "    </tr>\n",
       "  </thead>\n",
       "  <tbody>\n",
       "    <tr>\n",
       "      <th>count</th>\n",
       "      <td>8,453.000000</td>\n",
       "      <td>8,453.000000</td>\n",
       "    </tr>\n",
       "    <tr>\n",
       "      <th>mean</th>\n",
       "      <td>2.000000</td>\n",
       "      <td>0.028089</td>\n",
       "    </tr>\n",
       "    <tr>\n",
       "      <th>std</th>\n",
       "      <td>0.000000</td>\n",
       "      <td>0.040511</td>\n",
       "    </tr>\n",
       "    <tr>\n",
       "      <th>min</th>\n",
       "      <td>2.000000</td>\n",
       "      <td>0.011633</td>\n",
       "    </tr>\n",
       "    <tr>\n",
       "      <th>1%</th>\n",
       "      <td>2.000000</td>\n",
       "      <td>0.011761</td>\n",
       "    </tr>\n",
       "    <tr>\n",
       "      <th>5%</th>\n",
       "      <td>2.000000</td>\n",
       "      <td>0.012273</td>\n",
       "    </tr>\n",
       "    <tr>\n",
       "      <th>10%</th>\n",
       "      <td>2.000000</td>\n",
       "      <td>0.012939</td>\n",
       "    </tr>\n",
       "    <tr>\n",
       "      <th>15%</th>\n",
       "      <td>2.000000</td>\n",
       "      <td>0.013685</td>\n",
       "    </tr>\n",
       "    <tr>\n",
       "      <th>20%</th>\n",
       "      <td>2.000000</td>\n",
       "      <td>0.014426</td>\n",
       "    </tr>\n",
       "    <tr>\n",
       "      <th>25%</th>\n",
       "      <td>2.000000</td>\n",
       "      <td>0.015270</td>\n",
       "    </tr>\n",
       "    <tr>\n",
       "      <th>30%</th>\n",
       "      <td>2.000000</td>\n",
       "      <td>0.016128</td>\n",
       "    </tr>\n",
       "    <tr>\n",
       "      <th>35%</th>\n",
       "      <td>2.000000</td>\n",
       "      <td>0.016995</td>\n",
       "    </tr>\n",
       "    <tr>\n",
       "      <th>40%</th>\n",
       "      <td>2.000000</td>\n",
       "      <td>0.017939</td>\n",
       "    </tr>\n",
       "    <tr>\n",
       "      <th>45%</th>\n",
       "      <td>2.000000</td>\n",
       "      <td>0.019003</td>\n",
       "    </tr>\n",
       "    <tr>\n",
       "      <th>50%</th>\n",
       "      <td>2.000000</td>\n",
       "      <td>0.020088</td>\n",
       "    </tr>\n",
       "    <tr>\n",
       "      <th>55%</th>\n",
       "      <td>2.000000</td>\n",
       "      <td>0.021409</td>\n",
       "    </tr>\n",
       "    <tr>\n",
       "      <th>60%</th>\n",
       "      <td>2.000000</td>\n",
       "      <td>0.022896</td>\n",
       "    </tr>\n",
       "    <tr>\n",
       "      <th>65%</th>\n",
       "      <td>2.000000</td>\n",
       "      <td>0.024411</td>\n",
       "    </tr>\n",
       "    <tr>\n",
       "      <th>70%</th>\n",
       "      <td>2.000000</td>\n",
       "      <td>0.026432</td>\n",
       "    </tr>\n",
       "    <tr>\n",
       "      <th>75%</th>\n",
       "      <td>2.000000</td>\n",
       "      <td>0.028891</td>\n",
       "    </tr>\n",
       "    <tr>\n",
       "      <th>80%</th>\n",
       "      <td>2.000000</td>\n",
       "      <td>0.032060</td>\n",
       "    </tr>\n",
       "    <tr>\n",
       "      <th>85%</th>\n",
       "      <td>2.000000</td>\n",
       "      <td>0.036680</td>\n",
       "    </tr>\n",
       "    <tr>\n",
       "      <th>90%</th>\n",
       "      <td>2.000000</td>\n",
       "      <td>0.044352</td>\n",
       "    </tr>\n",
       "    <tr>\n",
       "      <th>95%</th>\n",
       "      <td>2.000000</td>\n",
       "      <td>0.061149</td>\n",
       "    </tr>\n",
       "    <tr>\n",
       "      <th>99%</th>\n",
       "      <td>2.000000</td>\n",
       "      <td>0.150831</td>\n",
       "    </tr>\n",
       "    <tr>\n",
       "      <th>max</th>\n",
       "      <td>2.000000</td>\n",
       "      <td>1.126157</td>\n",
       "    </tr>\n",
       "  </tbody>\n",
       "</table>\n",
       "</div>\n",
       "      <button class=\"colab-df-convert\" onclick=\"convertToInteractive('df-1137142f-802f-4639-965b-9d4a66bb9c04')\"\n",
       "              title=\"Convert this dataframe to an interactive table.\"\n",
       "              style=\"display:none;\">\n",
       "        \n",
       "  <svg xmlns=\"http://www.w3.org/2000/svg\" height=\"24px\"viewBox=\"0 0 24 24\"\n",
       "       width=\"24px\">\n",
       "    <path d=\"M0 0h24v24H0V0z\" fill=\"none\"/>\n",
       "    <path d=\"M18.56 5.44l.94 2.06.94-2.06 2.06-.94-2.06-.94-.94-2.06-.94 2.06-2.06.94zm-11 1L8.5 8.5l.94-2.06 2.06-.94-2.06-.94L8.5 2.5l-.94 2.06-2.06.94zm10 10l.94 2.06.94-2.06 2.06-.94-2.06-.94-.94-2.06-.94 2.06-2.06.94z\"/><path d=\"M17.41 7.96l-1.37-1.37c-.4-.4-.92-.59-1.43-.59-.52 0-1.04.2-1.43.59L10.3 9.45l-7.72 7.72c-.78.78-.78 2.05 0 2.83L4 21.41c.39.39.9.59 1.41.59.51 0 1.02-.2 1.41-.59l7.78-7.78 2.81-2.81c.8-.78.8-2.07 0-2.86zM5.41 20L4 18.59l7.72-7.72 1.47 1.35L5.41 20z\"/>\n",
       "  </svg>\n",
       "      </button>\n",
       "      \n",
       "  <style>\n",
       "    .colab-df-container {\n",
       "      display:flex;\n",
       "      flex-wrap:wrap;\n",
       "      gap: 12px;\n",
       "    }\n",
       "\n",
       "    .colab-df-convert {\n",
       "      background-color: #E8F0FE;\n",
       "      border: none;\n",
       "      border-radius: 50%;\n",
       "      cursor: pointer;\n",
       "      display: none;\n",
       "      fill: #1967D2;\n",
       "      height: 32px;\n",
       "      padding: 0 0 0 0;\n",
       "      width: 32px;\n",
       "    }\n",
       "\n",
       "    .colab-df-convert:hover {\n",
       "      background-color: #E2EBFA;\n",
       "      box-shadow: 0px 1px 2px rgba(60, 64, 67, 0.3), 0px 1px 3px 1px rgba(60, 64, 67, 0.15);\n",
       "      fill: #174EA6;\n",
       "    }\n",
       "\n",
       "    [theme=dark] .colab-df-convert {\n",
       "      background-color: #3B4455;\n",
       "      fill: #D2E3FC;\n",
       "    }\n",
       "\n",
       "    [theme=dark] .colab-df-convert:hover {\n",
       "      background-color: #434B5C;\n",
       "      box-shadow: 0px 1px 3px 1px rgba(0, 0, 0, 0.15);\n",
       "      filter: drop-shadow(0px 1px 2px rgba(0, 0, 0, 0.3));\n",
       "      fill: #FFFFFF;\n",
       "    }\n",
       "  </style>\n",
       "\n",
       "      <script>\n",
       "        const buttonEl =\n",
       "          document.querySelector('#df-1137142f-802f-4639-965b-9d4a66bb9c04 button.colab-df-convert');\n",
       "        buttonEl.style.display =\n",
       "          google.colab.kernel.accessAllowed ? 'block' : 'none';\n",
       "\n",
       "        async function convertToInteractive(key) {\n",
       "          const element = document.querySelector('#df-1137142f-802f-4639-965b-9d4a66bb9c04');\n",
       "          const dataTable =\n",
       "            await google.colab.kernel.invokeFunction('convertToInteractive',\n",
       "                                                     [key], {});\n",
       "          if (!dataTable) return;\n",
       "\n",
       "          const docLinkHtml = 'Like what you see? Visit the ' +\n",
       "            '<a target=\"_blank\" href=https://colab.research.google.com/notebooks/data_table.ipynb>data table notebook</a>'\n",
       "            + ' to learn more about interactive tables.';\n",
       "          element.innerHTML = '';\n",
       "          dataTable['output_type'] = 'display_data';\n",
       "          await google.colab.output.renderOutput(dataTable, element);\n",
       "          const docLink = document.createElement('div');\n",
       "          docLink.innerHTML = docLinkHtml;\n",
       "          element.appendChild(docLink);\n",
       "        }\n",
       "      </script>\n",
       "    </div>\n",
       "  </div>\n",
       "  "
      ],
      "text/plain": [
       "           label_1  engagement_rate_1\n",
       "count 8,453.000000       8,453.000000\n",
       "mean      2.000000           0.028089\n",
       "std       0.000000           0.040511\n",
       "min       2.000000           0.011633\n",
       "1%        2.000000           0.011761\n",
       "5%        2.000000           0.012273\n",
       "10%       2.000000           0.012939\n",
       "15%       2.000000           0.013685\n",
       "20%       2.000000           0.014426\n",
       "25%       2.000000           0.015270\n",
       "30%       2.000000           0.016128\n",
       "35%       2.000000           0.016995\n",
       "40%       2.000000           0.017939\n",
       "45%       2.000000           0.019003\n",
       "50%       2.000000           0.020088\n",
       "55%       2.000000           0.021409\n",
       "60%       2.000000           0.022896\n",
       "65%       2.000000           0.024411\n",
       "70%       2.000000           0.026432\n",
       "75%       2.000000           0.028891\n",
       "80%       2.000000           0.032060\n",
       "85%       2.000000           0.036680\n",
       "90%       2.000000           0.044352\n",
       "95%       2.000000           0.061149\n",
       "99%       2.000000           0.150831\n",
       "max       2.000000           1.126157"
      ]
     },
     "execution_count": 24,
     "metadata": {},
     "output_type": "execute_result"
    }
   ],
   "source": [
    "get_distribution_from_label(df, label, 2, columns)"
   ]
  },
  {
   "cell_type": "markdown",
   "metadata": {
    "id": "WwEMqQY_rMaX"
   },
   "source": [
    "### label 2"
   ]
  },
  {
   "cell_type": "code",
   "execution_count": null,
   "metadata": {
    "id": "SDQItZkJrMjr"
   },
   "outputs": [],
   "source": [
    "label = 'label_2'\n",
    "value = 0 # Not Engage\n",
    "columns = ['label_2', 'q_score']"
   ]
  },
  {
   "cell_type": "markdown",
   "metadata": {
    "id": "ggcicvFyrZ0M"
   },
   "source": [
    "#### Not Engage"
   ]
  },
  {
   "cell_type": "code",
   "execution_count": null,
   "metadata": {
    "colab": {
     "base_uri": "https://localhost:8080/",
     "height": 865
    },
    "id": "BWHc3jMRrMmm",
    "outputId": "c3627768-2260-44d8-897a-27fde8c83055"
   },
   "outputs": [
    {
     "data": {
      "text/html": [
       "\n",
       "  <div id=\"df-13b28d26-2100-4257-ae8e-ccffedb883d6\">\n",
       "    <div class=\"colab-df-container\">\n",
       "      <div>\n",
       "<style scoped>\n",
       "    .dataframe tbody tr th:only-of-type {\n",
       "        vertical-align: middle;\n",
       "    }\n",
       "\n",
       "    .dataframe tbody tr th {\n",
       "        vertical-align: top;\n",
       "    }\n",
       "\n",
       "    .dataframe thead th {\n",
       "        text-align: right;\n",
       "    }\n",
       "</style>\n",
       "<table border=\"1\" class=\"dataframe\">\n",
       "  <thead>\n",
       "    <tr style=\"text-align: right;\">\n",
       "      <th></th>\n",
       "      <th>label_2</th>\n",
       "      <th>q_score</th>\n",
       "    </tr>\n",
       "  </thead>\n",
       "  <tbody>\n",
       "    <tr>\n",
       "      <th>count</th>\n",
       "      <td>8,365.000000</td>\n",
       "      <td>8,365.000000</td>\n",
       "    </tr>\n",
       "    <tr>\n",
       "      <th>mean</th>\n",
       "      <td>0.000000</td>\n",
       "      <td>0.572580</td>\n",
       "    </tr>\n",
       "    <tr>\n",
       "      <th>std</th>\n",
       "      <td>0.000000</td>\n",
       "      <td>0.166587</td>\n",
       "    </tr>\n",
       "    <tr>\n",
       "      <th>min</th>\n",
       "      <td>0.000000</td>\n",
       "      <td>0.013158</td>\n",
       "    </tr>\n",
       "    <tr>\n",
       "      <th>1%</th>\n",
       "      <td>0.000000</td>\n",
       "      <td>0.094802</td>\n",
       "    </tr>\n",
       "    <tr>\n",
       "      <th>5%</th>\n",
       "      <td>0.000000</td>\n",
       "      <td>0.184915</td>\n",
       "    </tr>\n",
       "    <tr>\n",
       "      <th>10%</th>\n",
       "      <td>0.000000</td>\n",
       "      <td>0.333333</td>\n",
       "    </tr>\n",
       "    <tr>\n",
       "      <th>15%</th>\n",
       "      <td>0.000000</td>\n",
       "      <td>0.409231</td>\n",
       "    </tr>\n",
       "    <tr>\n",
       "      <th>20%</th>\n",
       "      <td>0.000000</td>\n",
       "      <td>0.458300</td>\n",
       "    </tr>\n",
       "    <tr>\n",
       "      <th>25%</th>\n",
       "      <td>0.000000</td>\n",
       "      <td>0.500000</td>\n",
       "    </tr>\n",
       "    <tr>\n",
       "      <th>30%</th>\n",
       "      <td>0.000000</td>\n",
       "      <td>0.521392</td>\n",
       "    </tr>\n",
       "    <tr>\n",
       "      <th>35%</th>\n",
       "      <td>0.000000</td>\n",
       "      <td>0.550712</td>\n",
       "    </tr>\n",
       "    <tr>\n",
       "      <th>40%</th>\n",
       "      <td>0.000000</td>\n",
       "      <td>0.576342</td>\n",
       "    </tr>\n",
       "    <tr>\n",
       "      <th>45%</th>\n",
       "      <td>0.000000</td>\n",
       "      <td>0.600000</td>\n",
       "    </tr>\n",
       "    <tr>\n",
       "      <th>50%</th>\n",
       "      <td>0.000000</td>\n",
       "      <td>0.615789</td>\n",
       "    </tr>\n",
       "    <tr>\n",
       "      <th>55%</th>\n",
       "      <td>0.000000</td>\n",
       "      <td>0.636364</td>\n",
       "    </tr>\n",
       "    <tr>\n",
       "      <th>60%</th>\n",
       "      <td>0.000000</td>\n",
       "      <td>0.654881</td>\n",
       "    </tr>\n",
       "    <tr>\n",
       "      <th>65%</th>\n",
       "      <td>0.000000</td>\n",
       "      <td>0.666667</td>\n",
       "    </tr>\n",
       "    <tr>\n",
       "      <th>70%</th>\n",
       "      <td>0.000000</td>\n",
       "      <td>0.684702</td>\n",
       "    </tr>\n",
       "    <tr>\n",
       "      <th>75%</th>\n",
       "      <td>0.000000</td>\n",
       "      <td>0.702830</td>\n",
       "    </tr>\n",
       "    <tr>\n",
       "      <th>80%</th>\n",
       "      <td>0.000000</td>\n",
       "      <td>0.714286</td>\n",
       "    </tr>\n",
       "    <tr>\n",
       "      <th>85%</th>\n",
       "      <td>0.000000</td>\n",
       "      <td>0.729203</td>\n",
       "    </tr>\n",
       "    <tr>\n",
       "      <th>90%</th>\n",
       "      <td>0.000000</td>\n",
       "      <td>0.743871</td>\n",
       "    </tr>\n",
       "    <tr>\n",
       "      <th>95%</th>\n",
       "      <td>0.000000</td>\n",
       "      <td>0.752809</td>\n",
       "    </tr>\n",
       "    <tr>\n",
       "      <th>99%</th>\n",
       "      <td>0.000000</td>\n",
       "      <td>0.764706</td>\n",
       "    </tr>\n",
       "    <tr>\n",
       "      <th>max</th>\n",
       "      <td>0.000000</td>\n",
       "      <td>0.764706</td>\n",
       "    </tr>\n",
       "  </tbody>\n",
       "</table>\n",
       "</div>\n",
       "      <button class=\"colab-df-convert\" onclick=\"convertToInteractive('df-13b28d26-2100-4257-ae8e-ccffedb883d6')\"\n",
       "              title=\"Convert this dataframe to an interactive table.\"\n",
       "              style=\"display:none;\">\n",
       "        \n",
       "  <svg xmlns=\"http://www.w3.org/2000/svg\" height=\"24px\"viewBox=\"0 0 24 24\"\n",
       "       width=\"24px\">\n",
       "    <path d=\"M0 0h24v24H0V0z\" fill=\"none\"/>\n",
       "    <path d=\"M18.56 5.44l.94 2.06.94-2.06 2.06-.94-2.06-.94-.94-2.06-.94 2.06-2.06.94zm-11 1L8.5 8.5l.94-2.06 2.06-.94-2.06-.94L8.5 2.5l-.94 2.06-2.06.94zm10 10l.94 2.06.94-2.06 2.06-.94-2.06-.94-.94-2.06-.94 2.06-2.06.94z\"/><path d=\"M17.41 7.96l-1.37-1.37c-.4-.4-.92-.59-1.43-.59-.52 0-1.04.2-1.43.59L10.3 9.45l-7.72 7.72c-.78.78-.78 2.05 0 2.83L4 21.41c.39.39.9.59 1.41.59.51 0 1.02-.2 1.41-.59l7.78-7.78 2.81-2.81c.8-.78.8-2.07 0-2.86zM5.41 20L4 18.59l7.72-7.72 1.47 1.35L5.41 20z\"/>\n",
       "  </svg>\n",
       "      </button>\n",
       "      \n",
       "  <style>\n",
       "    .colab-df-container {\n",
       "      display:flex;\n",
       "      flex-wrap:wrap;\n",
       "      gap: 12px;\n",
       "    }\n",
       "\n",
       "    .colab-df-convert {\n",
       "      background-color: #E8F0FE;\n",
       "      border: none;\n",
       "      border-radius: 50%;\n",
       "      cursor: pointer;\n",
       "      display: none;\n",
       "      fill: #1967D2;\n",
       "      height: 32px;\n",
       "      padding: 0 0 0 0;\n",
       "      width: 32px;\n",
       "    }\n",
       "\n",
       "    .colab-df-convert:hover {\n",
       "      background-color: #E2EBFA;\n",
       "      box-shadow: 0px 1px 2px rgba(60, 64, 67, 0.3), 0px 1px 3px 1px rgba(60, 64, 67, 0.15);\n",
       "      fill: #174EA6;\n",
       "    }\n",
       "\n",
       "    [theme=dark] .colab-df-convert {\n",
       "      background-color: #3B4455;\n",
       "      fill: #D2E3FC;\n",
       "    }\n",
       "\n",
       "    [theme=dark] .colab-df-convert:hover {\n",
       "      background-color: #434B5C;\n",
       "      box-shadow: 0px 1px 3px 1px rgba(0, 0, 0, 0.15);\n",
       "      filter: drop-shadow(0px 1px 2px rgba(0, 0, 0, 0.3));\n",
       "      fill: #FFFFFF;\n",
       "    }\n",
       "  </style>\n",
       "\n",
       "      <script>\n",
       "        const buttonEl =\n",
       "          document.querySelector('#df-13b28d26-2100-4257-ae8e-ccffedb883d6 button.colab-df-convert');\n",
       "        buttonEl.style.display =\n",
       "          google.colab.kernel.accessAllowed ? 'block' : 'none';\n",
       "\n",
       "        async function convertToInteractive(key) {\n",
       "          const element = document.querySelector('#df-13b28d26-2100-4257-ae8e-ccffedb883d6');\n",
       "          const dataTable =\n",
       "            await google.colab.kernel.invokeFunction('convertToInteractive',\n",
       "                                                     [key], {});\n",
       "          if (!dataTable) return;\n",
       "\n",
       "          const docLinkHtml = 'Like what you see? Visit the ' +\n",
       "            '<a target=\"_blank\" href=https://colab.research.google.com/notebooks/data_table.ipynb>data table notebook</a>'\n",
       "            + ' to learn more about interactive tables.';\n",
       "          element.innerHTML = '';\n",
       "          dataTable['output_type'] = 'display_data';\n",
       "          await google.colab.output.renderOutput(dataTable, element);\n",
       "          const docLink = document.createElement('div');\n",
       "          docLink.innerHTML = docLinkHtml;\n",
       "          element.appendChild(docLink);\n",
       "        }\n",
       "      </script>\n",
       "    </div>\n",
       "  </div>\n",
       "  "
      ],
      "text/plain": [
       "           label_2      q_score\n",
       "count 8,365.000000 8,365.000000\n",
       "mean      0.000000     0.572580\n",
       "std       0.000000     0.166587\n",
       "min       0.000000     0.013158\n",
       "1%        0.000000     0.094802\n",
       "5%        0.000000     0.184915\n",
       "10%       0.000000     0.333333\n",
       "15%       0.000000     0.409231\n",
       "20%       0.000000     0.458300\n",
       "25%       0.000000     0.500000\n",
       "30%       0.000000     0.521392\n",
       "35%       0.000000     0.550712\n",
       "40%       0.000000     0.576342\n",
       "45%       0.000000     0.600000\n",
       "50%       0.000000     0.615789\n",
       "55%       0.000000     0.636364\n",
       "60%       0.000000     0.654881\n",
       "65%       0.000000     0.666667\n",
       "70%       0.000000     0.684702\n",
       "75%       0.000000     0.702830\n",
       "80%       0.000000     0.714286\n",
       "85%       0.000000     0.729203\n",
       "90%       0.000000     0.743871\n",
       "95%       0.000000     0.752809\n",
       "99%       0.000000     0.764706\n",
       "max       0.000000     0.764706"
      ]
     },
     "execution_count": 26,
     "metadata": {},
     "output_type": "execute_result"
    }
   ],
   "source": [
    "get_distribution_from_label(df, label, value, columns)"
   ]
  },
  {
   "cell_type": "markdown",
   "metadata": {
    "id": "s1NAjYMorftd"
   },
   "source": [
    "#### Neutral "
   ]
  },
  {
   "cell_type": "code",
   "execution_count": null,
   "metadata": {
    "colab": {
     "base_uri": "https://localhost:8080/",
     "height": 865
    },
    "id": "0QBOd06DrkG7",
    "outputId": "5149679c-ecf5-4282-f99c-3003a9c6c6e8"
   },
   "outputs": [
    {
     "data": {
      "text/html": [
       "\n",
       "  <div id=\"df-69f5eb47-61fe-4d6a-b15b-84d3077d2e0f\">\n",
       "    <div class=\"colab-df-container\">\n",
       "      <div>\n",
       "<style scoped>\n",
       "    .dataframe tbody tr th:only-of-type {\n",
       "        vertical-align: middle;\n",
       "    }\n",
       "\n",
       "    .dataframe tbody tr th {\n",
       "        vertical-align: top;\n",
       "    }\n",
       "\n",
       "    .dataframe thead th {\n",
       "        text-align: right;\n",
       "    }\n",
       "</style>\n",
       "<table border=\"1\" class=\"dataframe\">\n",
       "  <thead>\n",
       "    <tr style=\"text-align: right;\">\n",
       "      <th></th>\n",
       "      <th>label_2</th>\n",
       "      <th>q_score</th>\n",
       "    </tr>\n",
       "  </thead>\n",
       "  <tbody>\n",
       "    <tr>\n",
       "      <th>count</th>\n",
       "      <td>6,949.000000</td>\n",
       "      <td>6,949.000000</td>\n",
       "    </tr>\n",
       "    <tr>\n",
       "      <th>mean</th>\n",
       "      <td>1.000000</td>\n",
       "      <td>0.837657</td>\n",
       "    </tr>\n",
       "    <tr>\n",
       "      <th>std</th>\n",
       "      <td>0.000000</td>\n",
       "      <td>0.036972</td>\n",
       "    </tr>\n",
       "    <tr>\n",
       "      <th>min</th>\n",
       "      <td>1.000000</td>\n",
       "      <td>0.764745</td>\n",
       "    </tr>\n",
       "    <tr>\n",
       "      <th>1%</th>\n",
       "      <td>1.000000</td>\n",
       "      <td>0.767857</td>\n",
       "    </tr>\n",
       "    <tr>\n",
       "      <th>5%</th>\n",
       "      <td>1.000000</td>\n",
       "      <td>0.777715</td>\n",
       "    </tr>\n",
       "    <tr>\n",
       "      <th>10%</th>\n",
       "      <td>1.000000</td>\n",
       "      <td>0.782609</td>\n",
       "    </tr>\n",
       "    <tr>\n",
       "      <th>15%</th>\n",
       "      <td>1.000000</td>\n",
       "      <td>0.791127</td>\n",
       "    </tr>\n",
       "    <tr>\n",
       "      <th>20%</th>\n",
       "      <td>1.000000</td>\n",
       "      <td>0.800000</td>\n",
       "    </tr>\n",
       "    <tr>\n",
       "      <th>25%</th>\n",
       "      <td>1.000000</td>\n",
       "      <td>0.806452</td>\n",
       "    </tr>\n",
       "    <tr>\n",
       "      <th>30%</th>\n",
       "      <td>1.000000</td>\n",
       "      <td>0.814815</td>\n",
       "    </tr>\n",
       "    <tr>\n",
       "      <th>35%</th>\n",
       "      <td>1.000000</td>\n",
       "      <td>0.821149</td>\n",
       "    </tr>\n",
       "    <tr>\n",
       "      <th>40%</th>\n",
       "      <td>1.000000</td>\n",
       "      <td>0.828868</td>\n",
       "    </tr>\n",
       "    <tr>\n",
       "      <th>45%</th>\n",
       "      <td>1.000000</td>\n",
       "      <td>0.833950</td>\n",
       "    </tr>\n",
       "    <tr>\n",
       "      <th>50%</th>\n",
       "      <td>1.000000</td>\n",
       "      <td>0.841270</td>\n",
       "    </tr>\n",
       "    <tr>\n",
       "      <th>55%</th>\n",
       "      <td>1.000000</td>\n",
       "      <td>0.846154</td>\n",
       "    </tr>\n",
       "    <tr>\n",
       "      <th>60%</th>\n",
       "      <td>1.000000</td>\n",
       "      <td>0.853163</td>\n",
       "    </tr>\n",
       "    <tr>\n",
       "      <th>65%</th>\n",
       "      <td>1.000000</td>\n",
       "      <td>0.857988</td>\n",
       "    </tr>\n",
       "    <tr>\n",
       "      <th>70%</th>\n",
       "      <td>1.000000</td>\n",
       "      <td>0.864865</td>\n",
       "    </tr>\n",
       "    <tr>\n",
       "      <th>75%</th>\n",
       "      <td>1.000000</td>\n",
       "      <td>0.869565</td>\n",
       "    </tr>\n",
       "    <tr>\n",
       "      <th>80%</th>\n",
       "      <td>1.000000</td>\n",
       "      <td>0.875000</td>\n",
       "    </tr>\n",
       "    <tr>\n",
       "      <th>85%</th>\n",
       "      <td>1.000000</td>\n",
       "      <td>0.880577</td>\n",
       "    </tr>\n",
       "    <tr>\n",
       "      <th>90%</th>\n",
       "      <td>1.000000</td>\n",
       "      <td>0.885407</td>\n",
       "    </tr>\n",
       "    <tr>\n",
       "      <th>95%</th>\n",
       "      <td>1.000000</td>\n",
       "      <td>0.890571</td>\n",
       "    </tr>\n",
       "    <tr>\n",
       "      <th>99%</th>\n",
       "      <td>1.000000</td>\n",
       "      <td>0.894737</td>\n",
       "    </tr>\n",
       "    <tr>\n",
       "      <th>max</th>\n",
       "      <td>1.000000</td>\n",
       "      <td>0.894737</td>\n",
       "    </tr>\n",
       "  </tbody>\n",
       "</table>\n",
       "</div>\n",
       "      <button class=\"colab-df-convert\" onclick=\"convertToInteractive('df-69f5eb47-61fe-4d6a-b15b-84d3077d2e0f')\"\n",
       "              title=\"Convert this dataframe to an interactive table.\"\n",
       "              style=\"display:none;\">\n",
       "        \n",
       "  <svg xmlns=\"http://www.w3.org/2000/svg\" height=\"24px\"viewBox=\"0 0 24 24\"\n",
       "       width=\"24px\">\n",
       "    <path d=\"M0 0h24v24H0V0z\" fill=\"none\"/>\n",
       "    <path d=\"M18.56 5.44l.94 2.06.94-2.06 2.06-.94-2.06-.94-.94-2.06-.94 2.06-2.06.94zm-11 1L8.5 8.5l.94-2.06 2.06-.94-2.06-.94L8.5 2.5l-.94 2.06-2.06.94zm10 10l.94 2.06.94-2.06 2.06-.94-2.06-.94-.94-2.06-.94 2.06-2.06.94z\"/><path d=\"M17.41 7.96l-1.37-1.37c-.4-.4-.92-.59-1.43-.59-.52 0-1.04.2-1.43.59L10.3 9.45l-7.72 7.72c-.78.78-.78 2.05 0 2.83L4 21.41c.39.39.9.59 1.41.59.51 0 1.02-.2 1.41-.59l7.78-7.78 2.81-2.81c.8-.78.8-2.07 0-2.86zM5.41 20L4 18.59l7.72-7.72 1.47 1.35L5.41 20z\"/>\n",
       "  </svg>\n",
       "      </button>\n",
       "      \n",
       "  <style>\n",
       "    .colab-df-container {\n",
       "      display:flex;\n",
       "      flex-wrap:wrap;\n",
       "      gap: 12px;\n",
       "    }\n",
       "\n",
       "    .colab-df-convert {\n",
       "      background-color: #E8F0FE;\n",
       "      border: none;\n",
       "      border-radius: 50%;\n",
       "      cursor: pointer;\n",
       "      display: none;\n",
       "      fill: #1967D2;\n",
       "      height: 32px;\n",
       "      padding: 0 0 0 0;\n",
       "      width: 32px;\n",
       "    }\n",
       "\n",
       "    .colab-df-convert:hover {\n",
       "      background-color: #E2EBFA;\n",
       "      box-shadow: 0px 1px 2px rgba(60, 64, 67, 0.3), 0px 1px 3px 1px rgba(60, 64, 67, 0.15);\n",
       "      fill: #174EA6;\n",
       "    }\n",
       "\n",
       "    [theme=dark] .colab-df-convert {\n",
       "      background-color: #3B4455;\n",
       "      fill: #D2E3FC;\n",
       "    }\n",
       "\n",
       "    [theme=dark] .colab-df-convert:hover {\n",
       "      background-color: #434B5C;\n",
       "      box-shadow: 0px 1px 3px 1px rgba(0, 0, 0, 0.15);\n",
       "      filter: drop-shadow(0px 1px 2px rgba(0, 0, 0, 0.3));\n",
       "      fill: #FFFFFF;\n",
       "    }\n",
       "  </style>\n",
       "\n",
       "      <script>\n",
       "        const buttonEl =\n",
       "          document.querySelector('#df-69f5eb47-61fe-4d6a-b15b-84d3077d2e0f button.colab-df-convert');\n",
       "        buttonEl.style.display =\n",
       "          google.colab.kernel.accessAllowed ? 'block' : 'none';\n",
       "\n",
       "        async function convertToInteractive(key) {\n",
       "          const element = document.querySelector('#df-69f5eb47-61fe-4d6a-b15b-84d3077d2e0f');\n",
       "          const dataTable =\n",
       "            await google.colab.kernel.invokeFunction('convertToInteractive',\n",
       "                                                     [key], {});\n",
       "          if (!dataTable) return;\n",
       "\n",
       "          const docLinkHtml = 'Like what you see? Visit the ' +\n",
       "            '<a target=\"_blank\" href=https://colab.research.google.com/notebooks/data_table.ipynb>data table notebook</a>'\n",
       "            + ' to learn more about interactive tables.';\n",
       "          element.innerHTML = '';\n",
       "          dataTable['output_type'] = 'display_data';\n",
       "          await google.colab.output.renderOutput(dataTable, element);\n",
       "          const docLink = document.createElement('div');\n",
       "          docLink.innerHTML = docLinkHtml;\n",
       "          element.appendChild(docLink);\n",
       "        }\n",
       "      </script>\n",
       "    </div>\n",
       "  </div>\n",
       "  "
      ],
      "text/plain": [
       "           label_2      q_score\n",
       "count 6,949.000000 6,949.000000\n",
       "mean      1.000000     0.837657\n",
       "std       0.000000     0.036972\n",
       "min       1.000000     0.764745\n",
       "1%        1.000000     0.767857\n",
       "5%        1.000000     0.777715\n",
       "10%       1.000000     0.782609\n",
       "15%       1.000000     0.791127\n",
       "20%       1.000000     0.800000\n",
       "25%       1.000000     0.806452\n",
       "30%       1.000000     0.814815\n",
       "35%       1.000000     0.821149\n",
       "40%       1.000000     0.828868\n",
       "45%       1.000000     0.833950\n",
       "50%       1.000000     0.841270\n",
       "55%       1.000000     0.846154\n",
       "60%       1.000000     0.853163\n",
       "65%       1.000000     0.857988\n",
       "70%       1.000000     0.864865\n",
       "75%       1.000000     0.869565\n",
       "80%       1.000000     0.875000\n",
       "85%       1.000000     0.880577\n",
       "90%       1.000000     0.885407\n",
       "95%       1.000000     0.890571\n",
       "99%       1.000000     0.894737\n",
       "max       1.000000     0.894737"
      ]
     },
     "execution_count": 27,
     "metadata": {},
     "output_type": "execute_result"
    }
   ],
   "source": [
    "get_distribution_from_label(df, label, 1, columns)"
   ]
  },
  {
   "cell_type": "markdown",
   "metadata": {
    "id": "b8KkFSpvrkPT"
   },
   "source": [
    "#### Engage"
   ]
  },
  {
   "cell_type": "code",
   "execution_count": null,
   "metadata": {
    "colab": {
     "base_uri": "https://localhost:8080/",
     "height": 865
    },
    "id": "cY14St9ZrmAs",
    "outputId": "c2e4d00f-cc78-435c-8595-a9662657c04e"
   },
   "outputs": [
    {
     "data": {
      "text/html": [
       "\n",
       "  <div id=\"df-b2f6f8af-7a09-4f60-b8be-8c5aaacd7cee\">\n",
       "    <div class=\"colab-df-container\">\n",
       "      <div>\n",
       "<style scoped>\n",
       "    .dataframe tbody tr th:only-of-type {\n",
       "        vertical-align: middle;\n",
       "    }\n",
       "\n",
       "    .dataframe tbody tr th {\n",
       "        vertical-align: top;\n",
       "    }\n",
       "\n",
       "    .dataframe thead th {\n",
       "        text-align: right;\n",
       "    }\n",
       "</style>\n",
       "<table border=\"1\" class=\"dataframe\">\n",
       "  <thead>\n",
       "    <tr style=\"text-align: right;\">\n",
       "      <th></th>\n",
       "      <th>label_2</th>\n",
       "      <th>q_score</th>\n",
       "    </tr>\n",
       "  </thead>\n",
       "  <tbody>\n",
       "    <tr>\n",
       "      <th>count</th>\n",
       "      <td>8,424.000000</td>\n",
       "      <td>8,424.000000</td>\n",
       "    </tr>\n",
       "    <tr>\n",
       "      <th>mean</th>\n",
       "      <td>2.000000</td>\n",
       "      <td>0.937025</td>\n",
       "    </tr>\n",
       "    <tr>\n",
       "      <th>std</th>\n",
       "      <td>0.000000</td>\n",
       "      <td>0.023348</td>\n",
       "    </tr>\n",
       "    <tr>\n",
       "      <th>min</th>\n",
       "      <td>2.000000</td>\n",
       "      <td>0.894777</td>\n",
       "    </tr>\n",
       "    <tr>\n",
       "      <th>1%</th>\n",
       "      <td>2.000000</td>\n",
       "      <td>0.896371</td>\n",
       "    </tr>\n",
       "    <tr>\n",
       "      <th>5%</th>\n",
       "      <td>2.000000</td>\n",
       "      <td>0.900183</td>\n",
       "    </tr>\n",
       "    <tr>\n",
       "      <th>10%</th>\n",
       "      <td>2.000000</td>\n",
       "      <td>0.905411</td>\n",
       "    </tr>\n",
       "    <tr>\n",
       "      <th>15%</th>\n",
       "      <td>2.000000</td>\n",
       "      <td>0.910105</td>\n",
       "    </tr>\n",
       "    <tr>\n",
       "      <th>20%</th>\n",
       "      <td>2.000000</td>\n",
       "      <td>0.914600</td>\n",
       "    </tr>\n",
       "    <tr>\n",
       "      <th>25%</th>\n",
       "      <td>2.000000</td>\n",
       "      <td>0.918473</td>\n",
       "    </tr>\n",
       "    <tr>\n",
       "      <th>30%</th>\n",
       "      <td>2.000000</td>\n",
       "      <td>0.922284</td>\n",
       "    </tr>\n",
       "    <tr>\n",
       "      <th>35%</th>\n",
       "      <td>2.000000</td>\n",
       "      <td>0.925926</td>\n",
       "    </tr>\n",
       "    <tr>\n",
       "      <th>40%</th>\n",
       "      <td>2.000000</td>\n",
       "      <td>0.928968</td>\n",
       "    </tr>\n",
       "    <tr>\n",
       "      <th>45%</th>\n",
       "      <td>2.000000</td>\n",
       "      <td>0.932767</td>\n",
       "    </tr>\n",
       "    <tr>\n",
       "      <th>50%</th>\n",
       "      <td>2.000000</td>\n",
       "      <td>0.936075</td>\n",
       "    </tr>\n",
       "    <tr>\n",
       "      <th>55%</th>\n",
       "      <td>2.000000</td>\n",
       "      <td>0.939513</td>\n",
       "    </tr>\n",
       "    <tr>\n",
       "      <th>60%</th>\n",
       "      <td>2.000000</td>\n",
       "      <td>0.942950</td>\n",
       "    </tr>\n",
       "    <tr>\n",
       "      <th>65%</th>\n",
       "      <td>2.000000</td>\n",
       "      <td>0.946861</td>\n",
       "    </tr>\n",
       "    <tr>\n",
       "      <th>70%</th>\n",
       "      <td>2.000000</td>\n",
       "      <td>0.950448</td>\n",
       "    </tr>\n",
       "    <tr>\n",
       "      <th>75%</th>\n",
       "      <td>2.000000</td>\n",
       "      <td>0.954545</td>\n",
       "    </tr>\n",
       "    <tr>\n",
       "      <th>80%</th>\n",
       "      <td>2.000000</td>\n",
       "      <td>0.958628</td>\n",
       "    </tr>\n",
       "    <tr>\n",
       "      <th>85%</th>\n",
       "      <td>2.000000</td>\n",
       "      <td>0.963270</td>\n",
       "    </tr>\n",
       "    <tr>\n",
       "      <th>90%</th>\n",
       "      <td>2.000000</td>\n",
       "      <td>0.968573</td>\n",
       "    </tr>\n",
       "    <tr>\n",
       "      <th>95%</th>\n",
       "      <td>2.000000</td>\n",
       "      <td>0.976653</td>\n",
       "    </tr>\n",
       "    <tr>\n",
       "      <th>99%</th>\n",
       "      <td>2.000000</td>\n",
       "      <td>0.989346</td>\n",
       "    </tr>\n",
       "    <tr>\n",
       "      <th>max</th>\n",
       "      <td>2.000000</td>\n",
       "      <td>0.998071</td>\n",
       "    </tr>\n",
       "  </tbody>\n",
       "</table>\n",
       "</div>\n",
       "      <button class=\"colab-df-convert\" onclick=\"convertToInteractive('df-b2f6f8af-7a09-4f60-b8be-8c5aaacd7cee')\"\n",
       "              title=\"Convert this dataframe to an interactive table.\"\n",
       "              style=\"display:none;\">\n",
       "        \n",
       "  <svg xmlns=\"http://www.w3.org/2000/svg\" height=\"24px\"viewBox=\"0 0 24 24\"\n",
       "       width=\"24px\">\n",
       "    <path d=\"M0 0h24v24H0V0z\" fill=\"none\"/>\n",
       "    <path d=\"M18.56 5.44l.94 2.06.94-2.06 2.06-.94-2.06-.94-.94-2.06-.94 2.06-2.06.94zm-11 1L8.5 8.5l.94-2.06 2.06-.94-2.06-.94L8.5 2.5l-.94 2.06-2.06.94zm10 10l.94 2.06.94-2.06 2.06-.94-2.06-.94-.94-2.06-.94 2.06-2.06.94z\"/><path d=\"M17.41 7.96l-1.37-1.37c-.4-.4-.92-.59-1.43-.59-.52 0-1.04.2-1.43.59L10.3 9.45l-7.72 7.72c-.78.78-.78 2.05 0 2.83L4 21.41c.39.39.9.59 1.41.59.51 0 1.02-.2 1.41-.59l7.78-7.78 2.81-2.81c.8-.78.8-2.07 0-2.86zM5.41 20L4 18.59l7.72-7.72 1.47 1.35L5.41 20z\"/>\n",
       "  </svg>\n",
       "      </button>\n",
       "      \n",
       "  <style>\n",
       "    .colab-df-container {\n",
       "      display:flex;\n",
       "      flex-wrap:wrap;\n",
       "      gap: 12px;\n",
       "    }\n",
       "\n",
       "    .colab-df-convert {\n",
       "      background-color: #E8F0FE;\n",
       "      border: none;\n",
       "      border-radius: 50%;\n",
       "      cursor: pointer;\n",
       "      display: none;\n",
       "      fill: #1967D2;\n",
       "      height: 32px;\n",
       "      padding: 0 0 0 0;\n",
       "      width: 32px;\n",
       "    }\n",
       "\n",
       "    .colab-df-convert:hover {\n",
       "      background-color: #E2EBFA;\n",
       "      box-shadow: 0px 1px 2px rgba(60, 64, 67, 0.3), 0px 1px 3px 1px rgba(60, 64, 67, 0.15);\n",
       "      fill: #174EA6;\n",
       "    }\n",
       "\n",
       "    [theme=dark] .colab-df-convert {\n",
       "      background-color: #3B4455;\n",
       "      fill: #D2E3FC;\n",
       "    }\n",
       "\n",
       "    [theme=dark] .colab-df-convert:hover {\n",
       "      background-color: #434B5C;\n",
       "      box-shadow: 0px 1px 3px 1px rgba(0, 0, 0, 0.15);\n",
       "      filter: drop-shadow(0px 1px 2px rgba(0, 0, 0, 0.3));\n",
       "      fill: #FFFFFF;\n",
       "    }\n",
       "  </style>\n",
       "\n",
       "      <script>\n",
       "        const buttonEl =\n",
       "          document.querySelector('#df-b2f6f8af-7a09-4f60-b8be-8c5aaacd7cee button.colab-df-convert');\n",
       "        buttonEl.style.display =\n",
       "          google.colab.kernel.accessAllowed ? 'block' : 'none';\n",
       "\n",
       "        async function convertToInteractive(key) {\n",
       "          const element = document.querySelector('#df-b2f6f8af-7a09-4f60-b8be-8c5aaacd7cee');\n",
       "          const dataTable =\n",
       "            await google.colab.kernel.invokeFunction('convertToInteractive',\n",
       "                                                     [key], {});\n",
       "          if (!dataTable) return;\n",
       "\n",
       "          const docLinkHtml = 'Like what you see? Visit the ' +\n",
       "            '<a target=\"_blank\" href=https://colab.research.google.com/notebooks/data_table.ipynb>data table notebook</a>'\n",
       "            + ' to learn more about interactive tables.';\n",
       "          element.innerHTML = '';\n",
       "          dataTable['output_type'] = 'display_data';\n",
       "          await google.colab.output.renderOutput(dataTable, element);\n",
       "          const docLink = document.createElement('div');\n",
       "          docLink.innerHTML = docLinkHtml;\n",
       "          element.appendChild(docLink);\n",
       "        }\n",
       "      </script>\n",
       "    </div>\n",
       "  </div>\n",
       "  "
      ],
      "text/plain": [
       "           label_2      q_score\n",
       "count 8,424.000000 8,424.000000\n",
       "mean      2.000000     0.937025\n",
       "std       0.000000     0.023348\n",
       "min       2.000000     0.894777\n",
       "1%        2.000000     0.896371\n",
       "5%        2.000000     0.900183\n",
       "10%       2.000000     0.905411\n",
       "15%       2.000000     0.910105\n",
       "20%       2.000000     0.914600\n",
       "25%       2.000000     0.918473\n",
       "30%       2.000000     0.922284\n",
       "35%       2.000000     0.925926\n",
       "40%       2.000000     0.928968\n",
       "45%       2.000000     0.932767\n",
       "50%       2.000000     0.936075\n",
       "55%       2.000000     0.939513\n",
       "60%       2.000000     0.942950\n",
       "65%       2.000000     0.946861\n",
       "70%       2.000000     0.950448\n",
       "75%       2.000000     0.954545\n",
       "80%       2.000000     0.958628\n",
       "85%       2.000000     0.963270\n",
       "90%       2.000000     0.968573\n",
       "95%       2.000000     0.976653\n",
       "99%       2.000000     0.989346\n",
       "max       2.000000     0.998071"
      ]
     },
     "execution_count": 28,
     "metadata": {},
     "output_type": "execute_result"
    }
   ],
   "source": [
    "get_distribution_from_label(df, label, 2, columns)"
   ]
  },
  {
   "cell_type": "markdown",
   "metadata": {
    "id": "n8nLDOn9nEC2"
   },
   "source": [
    "## channel "
   ]
  },
  {
   "cell_type": "code",
   "execution_count": null,
   "metadata": {
    "id": "noa0mfv3dOA-"
   },
   "outputs": [],
   "source": [
    "channel_df = (df\n",
    "    .groupby(['channel_id'])\n",
    "    .agg({'id': lambda x: x.nunique(),\n",
    "          'channel_name': 'first',\n",
    "          'channel_category': 'first',\n",
    "          'channel_started': 'first',\n",
    "          'channel_rank': 'first', \n",
    "          'channel_subscribers': 'first'})\n",
    ")\n",
    "\n",
    "channel_df = channel_df.reset_index()\n",
    "channel_df.columns = [\n",
    "    'channel_id', 'num_videos', 'channel_name',\n",
    "    'channel_category', 'channel_started', 'channel_rank', 'channel_subscribers'              \n",
    "]"
   ]
  },
  {
   "cell_type": "code",
   "execution_count": null,
   "metadata": {
    "id": "UFV-eboleii6"
   },
   "outputs": [],
   "source": [
    "channel_df.describe(percentiles=percentiles)"
   ]
  },
  {
   "cell_type": "code",
   "execution_count": null,
   "metadata": {
    "id": "jFAzzvwLCe1M"
   },
   "outputs": [],
   "source": [
    "channel_df = (df\n",
    "    .groupby(['channel_id'])\n",
    "    .agg({'id': lambda x: x.nunique(),\n",
    "          'channel_name': 'first',\n",
    "          'channel_category': 'first',\n",
    "          'channel_started': 'first',\n",
    "          'channel_rank': 'first', \n",
    "          'channel_subscribers': 'first',\n",
    "          'title_length': 'median',\n",
    "          'num_tags': 'median',\n",
    "          'delta_upload_date': 'median',\n",
    "          'duration': 'median',\n",
    "          'view_count': 'median',\n",
    "          'like_count': 'median',\n",
    "          'comment_count': 'median',\n",
    "          'dislike_count': 'median',\n",
    "          'like_per_view': 'median',\n",
    "          'comment_per_view': 'median',\n",
    "          'dislike_per_view': 'median',\n",
    "          'engagement_rate_1': 'median',\n",
    "          'engagement_rate_2': 'median',\n",
    "          'q_score': 'median'})\n",
    ")\n",
    "\n",
    "channel_df = channel_df.reset_index()\n",
    "channel_df.columns = [\n",
    "    'channel_id', \n",
    "    'num_videos', \n",
    "    'channel_name',\n",
    "    'channel_category', \n",
    "    'channel_started', \n",
    "    'channel_rank', \n",
    "    'channel_subscribers',\n",
    "    'median_title_length', \n",
    "    'median_num_tags',\n",
    "    'median_delta_upload_date',\n",
    "    'median_duration',\n",
    "    'median_view_count',\n",
    "    'median_like_count', \n",
    "    'median_comment_count', \n",
    "    'median_dislike_count',\n",
    "    'median_like_per_view', \n",
    "    'median_comment_per_view',\n",
    "    'median_dislike_per_view', \n",
    "    'median_engagement_rate_1',\n",
    "    'median_engagement_rate_2', \n",
    "    'median_q_score'     \n",
    "]"
   ]
  },
  {
   "cell_type": "code",
   "execution_count": null,
   "metadata": {
    "id": "AZ-h66v-FQo6"
   },
   "outputs": [],
   "source": [
    "channel_df"
   ]
  },
  {
   "cell_type": "code",
   "execution_count": null,
   "metadata": {
    "id": "cuQwmPGdTBI_"
   },
   "outputs": [],
   "source": [
    "channel_df.to_json(DIR_PATH + 'channel_profiling.json')"
   ]
  },
  {
   "cell_type": "markdown",
   "metadata": {
    "id": "f6L7IhZHDqOa"
   },
   "source": [
    "### by channel_cate "
   ]
  },
  {
   "cell_type": "code",
   "execution_count": null,
   "metadata": {
    "id": "BsOdy3wQ5kNJ"
   },
   "outputs": [],
   "source": [
    "channel_cate_df = (channel_df\n",
    "    .groupby(['channel_category'])\n",
    "    .agg({\n",
    "        'channel_name': 'count',\n",
    "        'channel_started': 'min',\n",
    "        'channel_rank': 'median',\n",
    "        'channel_subscribers': 'median',\n",
    "        'num_videos': 'median'\n",
    "    })\n",
    ")"
   ]
  },
  {
   "cell_type": "code",
   "execution_count": null,
   "metadata": {
    "id": "NAs5ZUfV_wdL"
   },
   "outputs": [],
   "source": [
    "channel_cate_df = channel_cate_df.reset_index()"
   ]
  },
  {
   "cell_type": "code",
   "execution_count": null,
   "metadata": {
    "id": "yuWnEc7A_Cp6"
   },
   "outputs": [],
   "source": [
    "channel_cate_df.columns = [\n",
    "    'channel_category', 'num_channels', 'min_channel_started', \n",
    "    'median_channel_rank', 'median_channel_subscribers', 'median_num_videos'\n",
    "]"
   ]
  },
  {
   "cell_type": "code",
   "execution_count": null,
   "metadata": {
    "id": "recB2NIM_n95"
   },
   "outputs": [],
   "source": [
    "channel_cate_df.T"
   ]
  },
  {
   "cell_type": "code",
   "execution_count": null,
   "metadata": {
    "id": "pKr8oU90TZVl"
   },
   "outputs": [],
   "source": [
    "channel_cate_df.to_json(DIR_PATH + 'channel_cate_1_profiling.json')"
   ]
  },
  {
   "cell_type": "markdown",
   "metadata": {
    "id": "esbuyvomD2HJ"
   },
   "source": [
    "## video "
   ]
  },
  {
   "cell_type": "markdown",
   "metadata": {
    "id": "SnXBJQ5_oA9F"
   },
   "source": [
    "### by channel_cate "
   ]
  },
  {
   "cell_type": "code",
   "execution_count": null,
   "metadata": {
    "id": "1HpzRYr7_5ap"
   },
   "outputs": [],
   "source": [
    "channel_cate_df = (df\n",
    "    .groupby(['channel_category'])\n",
    "    .agg({\n",
    "        'id': 'count',\n",
    "        'title_length': 'median',\n",
    "        'num_tags': 'median',\n",
    "        'delta_upload_date': 'median',\n",
    "        'duration': 'median',\n",
    "        'view_count': 'median',\n",
    "        'like_count': 'median',\n",
    "        'comment_count': 'median',\n",
    "        'dislike_count': 'median',\n",
    "        'like_per_view': 'median',\n",
    "        'comment_per_view': 'median',\n",
    "        'dislike_per_view': 'median',\n",
    "    })\n",
    ")"
   ]
  },
  {
   "cell_type": "code",
   "execution_count": null,
   "metadata": {
    "id": "6t_FUNjWDk2P"
   },
   "outputs": [],
   "source": [
    "channel_cate_df = channel_cate_df.reset_index()"
   ]
  },
  {
   "cell_type": "code",
   "execution_count": null,
   "metadata": {
    "id": "sxavOj30Eygh"
   },
   "outputs": [],
   "source": [
    "channel_cate_df.columns = [\n",
    "    'channel_category', 'num_videos',\n",
    "    'median_title_length', 'median_num_tags',\n",
    "    'median_delta_upload_date', 'median_duration',\n",
    "    'median_view_count', 'median_like_count', \n",
    "    'median_comment_count', 'median_dislike_count',\n",
    "    'median_like_per_view', 'median_comment_per_view',\n",
    "    'median_dislike_per_view', \n",
    "]"
   ]
  },
  {
   "cell_type": "code",
   "execution_count": null,
   "metadata": {
    "id": "oDy0j4hgFZLJ"
   },
   "outputs": [],
   "source": [
    "channel_cate_df.T"
   ]
  },
  {
   "cell_type": "code",
   "execution_count": null,
   "metadata": {
    "id": "_qTs4F8OTMy-"
   },
   "outputs": [],
   "source": [
    "channel_cate_df"
   ]
  },
  {
   "cell_type": "code",
   "execution_count": null,
   "metadata": {
    "id": "WzOqEtS5TNBy"
   },
   "outputs": [],
   "source": [
    "channel_cate_df.to_json(DIR_PATH + 'channel_cate_2_profiling.json')"
   ]
  },
  {
   "cell_type": "markdown",
   "metadata": {
    "id": "yWvNhrZUFbQ_"
   },
   "source": [
    "## by time series "
   ]
  },
  {
   "cell_type": "markdown",
   "metadata": {
    "id": "0GugzS_mM-dT"
   },
   "source": [
    "### number of videos "
   ]
  },
  {
   "cell_type": "code",
   "execution_count": null,
   "metadata": {
    "id": "ZXwOlhJvJqDq"
   },
   "outputs": [],
   "source": [
    "df['upload_date_by_year'] = df['upload_date'].dt.year"
   ]
  },
  {
   "cell_type": "code",
   "execution_count": null,
   "metadata": {
    "id": "Y8FxRXiANL-Q"
   },
   "outputs": [],
   "source": [
    "df"
   ]
  },
  {
   "cell_type": "code",
   "execution_count": null,
   "metadata": {
    "id": "AXtLsY5sJqeL"
   },
   "outputs": [],
   "source": [
    "channel_cate_by_time_series_df = (df\n",
    "    .groupby(['channel_category','upload_date_by_year'])\n",
    "    .agg({\n",
    "        'id': 'count',\n",
    "        'engagement_rate_1': 'median',\n",
    "        'engagement_rate_2': 'median',\n",
    "        'q_score': 'median',\n",
    "    })\n",
    ")\n",
    "\n",
    "channel_cate_by_time_series_df = channel_cate_by_time_series_df.reset_index()\n",
    "channel_cate_by_time_series_df.columns = [\n",
    "    'channel_category', 'upload_date_by_year',\n",
    "    'num_videos', 'median_engagement_rate_1',\n",
    "    'median_engagement_rate_2', 'median_q_score'                                          \n",
    "]"
   ]
  },
  {
   "cell_type": "code",
   "execution_count": null,
   "metadata": {
    "id": "8UjyqKL1ToBF"
   },
   "outputs": [],
   "source": [
    "channel_cate_by_time_series_df.to_json(DIR_PATH + 'channel_cate_time_series_profiling.json')"
   ]
  },
  {
   "cell_type": "code",
   "execution_count": null,
   "metadata": {
    "id": "91_PD_aZKXId"
   },
   "outputs": [],
   "source": [
    "fig = px.line(channel_cate_by_time_series_df, x='upload_date_by_year', y='num_videos', color='channel_category')\n",
    "fig.update_layout(title=\"Number of video by channel category and time series\")\n",
    "fig.update_layout(xaxis_title=\"Year of updoad date\")\n",
    "fig.update_layout(yaxis_title=\"Number of videos\")\n",
    "fig.show()"
   ]
  },
  {
   "cell_type": "markdown",
   "metadata": {
    "id": "PXRXnWfpdDOW"
   },
   "source": [
    "### engagement_rate_1"
   ]
  },
  {
   "cell_type": "code",
   "execution_count": null,
   "metadata": {
    "id": "Y28JE8mfK9pi"
   },
   "outputs": [],
   "source": [
    "fig = px.line(channel_cate_by_time_series_df, x='upload_date_by_year', y='median_engagement_rate_1', color='channel_category')\n",
    "fig.update_layout(title=\"Median engagement rate 1 by channel category and time series\")\n",
    "fig.update_layout(xaxis_title=\"Year of updoad date\")\n",
    "fig.update_layout(yaxis_title=\"Median engagement rate 1\")\n",
    "fig.show()"
   ]
  },
  {
   "cell_type": "markdown",
   "metadata": {
    "id": "5Cgv9k3jdIv3"
   },
   "source": [
    "### engagement_rate_2"
   ]
  },
  {
   "cell_type": "code",
   "execution_count": null,
   "metadata": {
    "id": "FIO661pBNyzA"
   },
   "outputs": [],
   "source": [
    "fig = px.line(channel_cate_by_time_series_df, x='upload_date_by_year', y='median_engagement_rate_2', color='channel_category')\n",
    "fig.update_layout(title=\"Median engagement rate 2 by channel category and time series\")\n",
    "fig.update_layout(xaxis_title=\"Year of updoad date\")\n",
    "fig.update_layout(yaxis_title=\"Median engagement rate 2\")\n",
    "fig.show()"
   ]
  },
  {
   "cell_type": "markdown",
   "metadata": {
    "id": "saN-fikldMN_"
   },
   "source": [
    "### q_score "
   ]
  },
  {
   "cell_type": "code",
   "execution_count": null,
   "metadata": {
    "id": "zTAREVSWN3wi"
   },
   "outputs": [],
   "source": [
    "fig = px.line(channel_cate_by_time_series_df, x='upload_date_by_year', y='median_q_score', color='channel_category')\n",
    "fig.update_layout(title=\"Median Q score by channel category and time series\")\n",
    "fig.update_layout(xaxis_title=\"Year of updoad date\")\n",
    "fig.update_layout(yaxis_title=\"Median Q score\")\n",
    "fig.update_yaxes(range = [0, 1])\n",
    "fig.show()"
   ]
  },
  {
   "cell_type": "markdown",
   "metadata": {
    "id": "5he7I6wbRGzG"
   },
   "source": [
    "## correlation "
   ]
  },
  {
   "cell_type": "markdown",
   "metadata": {
    "id": "pvcYF7nDWAZ5"
   },
   "source": [
    "### by video "
   ]
  },
  {
   "cell_type": "code",
   "execution_count": null,
   "metadata": {
    "id": "-Cz5ovnDW9ov"
   },
   "outputs": [],
   "source": [
    "def plot_corr(df, columns, label: str = ' by video'):\n",
    "    fig, ax = plt.subplots(figsize=(10, 10))\n",
    "    ax = sns.heatmap(df[columns].corr(), annot=True, fmt=\".2f\", linewidths=.5, square = True, cmap=\"Blues\", vmin=-1, vmax=1)\n",
    "    plt.xlabel('Engagement Metrics' + label, size = 15)\n",
    "    plt.ylabel('Engagement Metrics' + label, size = 15)\n",
    "    plt.title('Pearson correlation coefficient of Engagement Metrics' + label, size = 15)\n",
    "    plt.show()"
   ]
  },
  {
   "cell_type": "code",
   "execution_count": null,
   "metadata": {
    "id": "x0g87RSBV9Jz"
   },
   "outputs": [],
   "source": [
    "columns = [\n",
    "    'channel_subscribers',\n",
    "    'delta_upload_date',\n",
    "    'view_count',\n",
    "    'like_count',\n",
    "    'comment_count',\n",
    "    'dislike_count'\n",
    "]"
   ]
  },
  {
   "cell_type": "code",
   "execution_count": null,
   "metadata": {
    "id": "zLmf4_scW-t2"
   },
   "outputs": [],
   "source": [
    "plot_corr(df, columns)"
   ]
  },
  {
   "cell_type": "code",
   "execution_count": null,
   "metadata": {
    "id": "BfYtjwgBWckw"
   },
   "outputs": [],
   "source": [
    "columns = [\n",
    "    'channel_subscribers',\n",
    "    'delta_upload_date',\n",
    "    'engagement_rate_1',\n",
    "    'engagement_rate_2',\n",
    "    'q_score'\n",
    "]"
   ]
  },
  {
   "cell_type": "code",
   "execution_count": null,
   "metadata": {
    "id": "IzkwDqJPWqzX"
   },
   "outputs": [],
   "source": [
    "plot_corr(df, columns)"
   ]
  },
  {
   "cell_type": "markdown",
   "metadata": {
    "id": "m_0TBbnvWteG"
   },
   "source": [
    "### by channel "
   ]
  },
  {
   "cell_type": "code",
   "execution_count": null,
   "metadata": {
    "id": "Y5TxtOg5XgCD"
   },
   "outputs": [],
   "source": [
    "channel_df = (df\n",
    "    .groupby(['channel_id'])\n",
    "    .agg({\n",
    "        'channel_subscribers': 'first',\n",
    "        'channel_category': 'first',\n",
    "        'channel_name': 'first',\n",
    "        'delta_upload_date': 'median',\n",
    "        'view_count': 'median',\n",
    "        'like_count': 'median',\n",
    "        'comment_count': 'median',\n",
    "        'dislike_count': 'median',\n",
    "        'engagement_rate_1': 'median',\n",
    "        'engagement_rate_2': 'median',\n",
    "        'q_score': 'median'})\n",
    ")\n",
    "\n",
    "channel_df = channel_df.reset_index()\n",
    "channel_df.columns = [\n",
    "    'channel_id', 'channel_subscribers', 'channel_category', 'channel_name', 'median_delta_upload_date',\n",
    "    'median_view_count', 'median_like_count', 'median_comment_count', 'median_dislike_count',\n",
    "    'median_engagement_rate_1', 'median_engagement_rate_2', 'median_q_score'              \n",
    "]"
   ]
  },
  {
   "cell_type": "code",
   "execution_count": null,
   "metadata": {
    "id": "M9wFQ5L3YZrL"
   },
   "outputs": [],
   "source": [
    "columns = [\n",
    "    'channel_subscribers',\n",
    "    'median_delta_upload_date',\n",
    "    'median_view_count',\n",
    "    'median_like_count',\n",
    "    'median_comment_count',\n",
    "    'median_dislike_count'\n",
    "]"
   ]
  },
  {
   "cell_type": "code",
   "execution_count": null,
   "metadata": {
    "id": "GMxfRMwcYn0s"
   },
   "outputs": [],
   "source": [
    "plot_corr(channel_df, columns, label=' by channel')"
   ]
  },
  {
   "cell_type": "code",
   "execution_count": null,
   "metadata": {
    "id": "6pRZ_zLrZA8r"
   },
   "outputs": [],
   "source": [
    "columns = [\n",
    "    'channel_subscribers',\n",
    "    'median_delta_upload_date',\n",
    "    'median_engagement_rate_1',\n",
    "    'median_engagement_rate_2',\n",
    "    'median_q_score'\n",
    "]"
   ]
  },
  {
   "cell_type": "code",
   "execution_count": null,
   "metadata": {
    "id": "r1ihAGKRY4th"
   },
   "outputs": [],
   "source": [
    "plot_corr(channel_df, columns, label=' by channel')"
   ]
  },
  {
   "cell_type": "code",
   "execution_count": null,
   "metadata": {
    "id": "Scn2oX3soMMR"
   },
   "outputs": [],
   "source": []
  },
  {
   "cell_type": "markdown",
   "metadata": {
    "id": "Pozazaj_gSij"
   },
   "source": [
    "# Train and test split "
   ]
  },
  {
   "cell_type": "code",
   "execution_count": null,
   "metadata": {
    "id": "_BRhBcZI_gS7"
   },
   "outputs": [],
   "source": [
    "train_df = df[df['upload_date'].dt.year < 2020]\n",
    "val_df = df[df['upload_date'].dt.year == 2020]\n",
    "test_df = df[df['upload_date'].dt.year > 2020]\n",
    "columns = ['id', 'label_1', 'label_2']"
   ]
  },
  {
   "cell_type": "code",
   "execution_count": null,
   "metadata": {
    "id": "f_9p_3I0Al2G"
   },
   "outputs": [],
   "source": [
    "len(train_df[columns])"
   ]
  },
  {
   "cell_type": "code",
   "execution_count": null,
   "metadata": {
    "id": "XaR3Beu9Aos4"
   },
   "outputs": [],
   "source": [
    "len(val_df[columns])"
   ]
  },
  {
   "cell_type": "code",
   "execution_count": null,
   "metadata": {
    "id": "-7vzX9LPAq7X"
   },
   "outputs": [],
   "source": [
    "len(test_df[columns])"
   ]
  },
  {
   "cell_type": "code",
   "execution_count": null,
   "metadata": {
    "id": "swAPGSwKHXeR"
   },
   "outputs": [],
   "source": []
  }
 ],
 "metadata": {
  "colab": {
   "collapsed_sections": [],
   "name": "EDADataset.ipynb",
   "provenance": [],
   "toc_visible": true
  },
  "kernelspec": {
   "display_name": "Python 3",
   "language": "python",
   "name": "python3"
  },
  "language_info": {
   "codemirror_mode": {
    "name": "ipython",
    "version": 3
   },
   "file_extension": ".py",
   "mimetype": "text/x-python",
   "name": "python",
   "nbconvert_exporter": "python",
   "pygments_lexer": "ipython3",
   "version": "3.7.3"
  }
 },
 "nbformat": 4,
 "nbformat_minor": 1
}
