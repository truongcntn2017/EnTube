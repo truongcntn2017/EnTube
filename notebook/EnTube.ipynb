{
  "cells": [
    {
      "cell_type": "markdown",
      "metadata": {
        "id": "JEqyRb_qVb3P"
      },
      "source": [
        "# Git clone"
      ]
    },
    {
      "cell_type": "code",
      "execution_count": 1,
      "metadata": {
        "colab": {
          "base_uri": "https://localhost:8080/"
        },
        "id": "rdAiYd3IVhhg",
        "outputId": "034d9a04-a2e2-434c-84c1-8b7b35f0f4e2"
      },
      "outputs": [
        {
          "name": "stdout",
          "output_type": "stream",
          "text": [
            "Cloning into 'EnTube'...\n"
          ]
        },
        {
          "name": "stdout",
          "output_type": "stream",
          "text": [
            "remote: Enumerating objects: 55, done.\u001b[K\n",
            "remote: Counting objects: 100% (55/55), done.\u001b[K\n",
            "remote: Compressing objects: 100% (40/40), done.\u001b[K\n",
            "remote: Total 55 (delta 9), reused 29 (delta 6), pack-reused 0\u001b[K\n",
            "Unpacking objects: 100% (55/55), 21.53 MiB | 6.09 MiB/s, done.\n"
          ]
        }
      ],
      "source": [
        "!git clone https://github.com/truongcntn2017/EnTube"
      ]
    },
    {
      "cell_type": "code",
      "execution_count": 2,
      "metadata": {
        "colab": {
          "base_uri": "https://localhost:8080/"
        },
        "id": "nyCfggXkVqME",
        "outputId": "9bc95b35-db91-4642-b2e7-93880a6813ce"
      },
      "outputs": [
        {
          "name": "stdout",
          "output_type": "stream",
          "text": [
            "/home/truong/GitWorkspace/EnTube/notebook/EnTube/notebook\n"
          ]
        }
      ],
      "source": [
        "cd EnTube/notebook"
      ]
    },
    {
      "cell_type": "code",
      "execution_count": 3,
      "metadata": {
        "colab": {
          "base_uri": "https://localhost:8080/"
        },
        "id": "XMODmgmGVvbd",
        "outputId": "640c359d-358f-4ff1-cb36-9629f8b886fb"
      },
      "outputs": [
        {
          "name": "stdout",
          "output_type": "stream",
          "text": [
            "Requirement already satisfied: plotly in /home/truong/.local/lib/python3.8/site-packages (from -r requirements.txt (line 1)) (5.17.0)\n",
            "Requirement already satisfied: seaborn in /home/truong/.local/lib/python3.8/site-packages (from -r requirements.txt (line 2)) (0.13.0)\n",
            "Requirement already satisfied: numpy in /home/truong/.local/lib/python3.8/site-packages (from -r requirements.txt (line 3)) (1.24.4)\n",
            "Requirement already satisfied: pandas in /home/truong/.local/lib/python3.8/site-packages (from -r requirements.txt (line 4)) (2.0.3)\n",
            "Requirement already satisfied: tenacity>=6.2.0 in /home/truong/.local/lib/python3.8/site-packages (from plotly->-r requirements.txt (line 1)) (8.2.3)\n",
            "Requirement already satisfied: packaging in /home/truong/.local/lib/python3.8/site-packages (from plotly->-r requirements.txt (line 1)) (23.1)\n",
            "Requirement already satisfied: matplotlib!=3.6.1,>=3.3 in /home/truong/.local/lib/python3.8/site-packages (from seaborn->-r requirements.txt (line 2)) (3.7.3)\n",
            "Requirement already satisfied: python-dateutil>=2.8.2 in /home/truong/.local/lib/python3.8/site-packages (from pandas->-r requirements.txt (line 4)) (2.8.2)\n",
            "Requirement already satisfied: tzdata>=2022.1 in /home/truong/.local/lib/python3.8/site-packages (from pandas->-r requirements.txt (line 4)) (2023.3)\n",
            "Requirement already satisfied: pytz>=2020.1 in /home/truong/.local/lib/python3.8/site-packages (from pandas->-r requirements.txt (line 4)) (2023.3.post1)\n",
            "Requirement already satisfied: pyparsing>=2.3.1 in /home/truong/.local/lib/python3.8/site-packages (from matplotlib!=3.6.1,>=3.3->seaborn->-r requirements.txt (line 2)) (3.1.1)\n",
            "Requirement already satisfied: importlib-resources>=3.2.0; python_version < \"3.10\" in /home/truong/.local/lib/python3.8/site-packages (from matplotlib!=3.6.1,>=3.3->seaborn->-r requirements.txt (line 2)) (6.1.0)\n",
            "Requirement already satisfied: contourpy>=1.0.1 in /home/truong/.local/lib/python3.8/site-packages (from matplotlib!=3.6.1,>=3.3->seaborn->-r requirements.txt (line 2)) (1.1.1)\n",
            "Requirement already satisfied: fonttools>=4.22.0 in /home/truong/.local/lib/python3.8/site-packages (from matplotlib!=3.6.1,>=3.3->seaborn->-r requirements.txt (line 2)) (4.43.0)\n",
            "Requirement already satisfied: kiwisolver>=1.0.1 in /home/truong/.local/lib/python3.8/site-packages (from matplotlib!=3.6.1,>=3.3->seaborn->-r requirements.txt (line 2)) (1.4.5)\n",
            "Requirement already satisfied: pillow>=6.2.0 in /usr/lib/python3/dist-packages (from matplotlib!=3.6.1,>=3.3->seaborn->-r requirements.txt (line 2)) (7.0.0)\n",
            "Requirement already satisfied: cycler>=0.10 in /home/truong/.local/lib/python3.8/site-packages (from matplotlib!=3.6.1,>=3.3->seaborn->-r requirements.txt (line 2)) (0.12.0)\n",
            "Requirement already satisfied: six>=1.5 in /usr/lib/python3/dist-packages (from python-dateutil>=2.8.2->pandas->-r requirements.txt (line 4)) (1.14.0)\n",
            "Requirement already satisfied: zipp>=3.1.0; python_version < \"3.10\" in /home/truong/.local/lib/python3.8/site-packages (from importlib-resources>=3.2.0; python_version < \"3.10\"->matplotlib!=3.6.1,>=3.3->seaborn->-r requirements.txt (line 2)) (3.17.0)\n"
          ]
        }
      ],
      "source": [
        "!pip3 install -r requirements.txt"
      ]
    },
    {
      "cell_type": "markdown",
      "metadata": {
        "id": "PISxjRWlWOjj"
      },
      "source": [
        "# Import package "
      ]
    },
    {
      "cell_type": "code",
      "execution_count": 4,
      "metadata": {
        "id": "mxY2BZG7VwJv"
      },
      "outputs": [],
      "source": [
        "from datetime import datetime as dt\n",
        "\n",
        "import plotly.express as px\n",
        "import numpy as np\n",
        "import pandas as pd\n",
        "import plotly.graph_objects as go\n",
        "import seaborn as sns\n",
        "import matplotlib.pyplot as plt\n",
        "import os"
      ]
    },
    {
      "cell_type": "markdown",
      "metadata": {
        "id": "1Dk3paxtWFT6"
      },
      "source": [
        "# Load data "
      ]
    },
    {
      "cell_type": "code",
      "execution_count": 5,
      "metadata": {
        "id": "_WChXlUQWT2Y"
      },
      "outputs": [],
      "source": [
        "PATH = '../sample_data/entube_final.parquet'"
      ]
    },
    {
      "cell_type": "code",
      "execution_count": 6,
      "metadata": {
        "id": "BtvJlUIrWT_w"
      },
      "outputs": [],
      "source": [
        "df = pd.read_parquet(PATH)"
      ]
    },
    {
      "cell_type": "markdown",
      "metadata": {
        "id": "vGGx3bNfWUQt"
      },
      "source": [
        "# Data Understading"
      ]
    },
    {
      "cell_type": "markdown",
      "metadata": {
        "id": "ZQTslhzKWrUx"
      },
      "source": [
        "## sample "
      ]
    },
    {
      "cell_type": "code",
      "execution_count": 7,
      "metadata": {
        "id": "106elvuiTa4V"
      },
      "outputs": [],
      "source": [
        "df.columns = ['channel_id', 'channel_name', 'channel_category', 'channel_started',\n",
        "       'channel_rank', 'channel_subscribers', 'id', 'title', 'title_length',\n",
        "       'categories', 'description', 'tags', 'num_tags', 'upload_date',\n",
        "       'delta_upload_date', 'duration', 'view_count', 'like_count',\n",
        "       'comment_count', 'dislike_count', 'like_per_view', 'comment_per_view',\n",
        "       'dislike_per_view', 'cl_engagement_rate', 'cld_engagement_rate', 'q_score',\n",
        "       'engagement_rate_label', 'q_score_label']"
      ]
    },
    {
      "cell_type": "code",
      "execution_count": 8,
      "metadata": {
        "colab": {
          "base_uri": "https://localhost:8080/",
          "height": 1000
        },
        "id": "lxnRbI8mWUaW",
        "outputId": "eacba406-eaa2-4b96-d15b-dab17fc0148d"
      },
      "outputs": [
        {
          "data": {
            "text/html": [
              "<div>\n",
              "<style scoped>\n",
              "    .dataframe tbody tr th:only-of-type {\n",
              "        vertical-align: middle;\n",
              "    }\n",
              "\n",
              "    .dataframe tbody tr th {\n",
              "        vertical-align: top;\n",
              "    }\n",
              "\n",
              "    .dataframe thead th {\n",
              "        text-align: right;\n",
              "    }\n",
              "</style>\n",
              "<table border=\"1\" class=\"dataframe\">\n",
              "  <thead>\n",
              "    <tr style=\"text-align: right;\">\n",
              "      <th></th>\n",
              "      <th>channel_id</th>\n",
              "      <th>channel_name</th>\n",
              "      <th>channel_category</th>\n",
              "      <th>channel_started</th>\n",
              "      <th>channel_rank</th>\n",
              "      <th>channel_subscribers</th>\n",
              "      <th>id</th>\n",
              "      <th>title</th>\n",
              "      <th>title_length</th>\n",
              "      <th>categories</th>\n",
              "      <th>...</th>\n",
              "      <th>comment_count</th>\n",
              "      <th>dislike_count</th>\n",
              "      <th>like_per_view</th>\n",
              "      <th>comment_per_view</th>\n",
              "      <th>dislike_per_view</th>\n",
              "      <th>cl_engagement_rate</th>\n",
              "      <th>cld_engagement_rate</th>\n",
              "      <th>q_score</th>\n",
              "      <th>engagement_rate_label</th>\n",
              "      <th>q_score_label</th>\n",
              "    </tr>\n",
              "  </thead>\n",
              "  <tbody>\n",
              "    <tr>\n",
              "      <th>0</th>\n",
              "      <td>UC0jDoh3tVXCaqJ6oTve8ebA</td>\n",
              "      <td>FAP TV</td>\n",
              "      <td>Comedy</td>\n",
              "      <td>2014</td>\n",
              "      <td>2</td>\n",
              "      <td>12800000</td>\n",
              "      <td>nehrVdADdH0</td>\n",
              "      <td>[FAP TV ] Thông Báo Tuyển Diễn Viên Nam Film L...</td>\n",
              "      <td>14</td>\n",
              "      <td>Film &amp; Animation</td>\n",
              "      <td>...</td>\n",
              "      <td>827</td>\n",
              "      <td>105</td>\n",
              "      <td>0.020731</td>\n",
              "      <td>0.002456</td>\n",
              "      <td>0.000312</td>\n",
              "      <td>0.023187</td>\n",
              "      <td>0.023499</td>\n",
              "      <td>0.970364</td>\n",
              "      <td>2</td>\n",
              "      <td>2</td>\n",
              "    </tr>\n",
              "    <tr>\n",
              "      <th>1</th>\n",
              "      <td>UC0jDoh3tVXCaqJ6oTve8ebA</td>\n",
              "      <td>FAP TV</td>\n",
              "      <td>Comedy</td>\n",
              "      <td>2014</td>\n",
              "      <td>2</td>\n",
              "      <td>12800000</td>\n",
              "      <td>K66wOEaBwK4</td>\n",
              "      <td>Phía Sau Một Cô Gái - Soobin Hoàng Sơn | MV Fa...</td>\n",
              "      <td>14</td>\n",
              "      <td>Comedy</td>\n",
              "      <td>...</td>\n",
              "      <td>1594</td>\n",
              "      <td>664</td>\n",
              "      <td>0.010124</td>\n",
              "      <td>0.000622</td>\n",
              "      <td>0.000259</td>\n",
              "      <td>0.010746</td>\n",
              "      <td>0.011005</td>\n",
              "      <td>0.950070</td>\n",
              "      <td>1</td>\n",
              "      <td>2</td>\n",
              "    </tr>\n",
              "    <tr>\n",
              "      <th>2</th>\n",
              "      <td>UC0jDoh3tVXCaqJ6oTve8ebA</td>\n",
              "      <td>FAP TV</td>\n",
              "      <td>Comedy</td>\n",
              "      <td>2014</td>\n",
              "      <td>2</td>\n",
              "      <td>12800000</td>\n",
              "      <td>D00vn3X7oI8</td>\n",
              "      <td>FAPtv Cơm Nguội: Tập 94 - Dấu Ấn Học Đường Phần 2</td>\n",
              "      <td>12</td>\n",
              "      <td>Entertainment</td>\n",
              "      <td>...</td>\n",
              "      <td>2214</td>\n",
              "      <td>3089</td>\n",
              "      <td>0.006007</td>\n",
              "      <td>0.000234</td>\n",
              "      <td>0.000326</td>\n",
              "      <td>0.006241</td>\n",
              "      <td>0.006568</td>\n",
              "      <td>0.896920</td>\n",
              "      <td>1</td>\n",
              "      <td>2</td>\n",
              "    </tr>\n",
              "    <tr>\n",
              "      <th>3</th>\n",
              "      <td>UC0jDoh3tVXCaqJ6oTve8ebA</td>\n",
              "      <td>FAP TV</td>\n",
              "      <td>Comedy</td>\n",
              "      <td>2014</td>\n",
              "      <td>2</td>\n",
              "      <td>12800000</td>\n",
              "      <td>G22G1k3G-kM</td>\n",
              "      <td>FAPtv Cơm Nguội: Tập 100 - Hành Trình Vui Vẻ</td>\n",
              "      <td>10</td>\n",
              "      <td>Entertainment</td>\n",
              "      <td>...</td>\n",
              "      <td>1752</td>\n",
              "      <td>2202</td>\n",
              "      <td>0.007931</td>\n",
              "      <td>0.000228</td>\n",
              "      <td>0.000287</td>\n",
              "      <td>0.008159</td>\n",
              "      <td>0.008446</td>\n",
              "      <td>0.930209</td>\n",
              "      <td>1</td>\n",
              "      <td>2</td>\n",
              "    </tr>\n",
              "    <tr>\n",
              "      <th>4</th>\n",
              "      <td>UC0jDoh3tVXCaqJ6oTve8ebA</td>\n",
              "      <td>FAP TV</td>\n",
              "      <td>Comedy</td>\n",
              "      <td>2014</td>\n",
              "      <td>2</td>\n",
              "      <td>12800000</td>\n",
              "      <td>G5EG7ymPErw</td>\n",
              "      <td>FAPtv Cơm Nguội: Tập 95 - Dấu Ấn Học Đường Phầ...</td>\n",
              "      <td>12</td>\n",
              "      <td>Entertainment</td>\n",
              "      <td>...</td>\n",
              "      <td>2417</td>\n",
              "      <td>2208</td>\n",
              "      <td>0.006485</td>\n",
              "      <td>0.000303</td>\n",
              "      <td>0.000277</td>\n",
              "      <td>0.006789</td>\n",
              "      <td>0.007066</td>\n",
              "      <td>0.918029</td>\n",
              "      <td>1</td>\n",
              "      <td>2</td>\n",
              "    </tr>\n",
              "  </tbody>\n",
              "</table>\n",
              "<p>5 rows × 28 columns</p>\n",
              "</div>"
            ],
            "text/plain": [
              "                 channel_id channel_name channel_category  channel_started  \\\n",
              "0  UC0jDoh3tVXCaqJ6oTve8ebA       FAP TV           Comedy             2014   \n",
              "1  UC0jDoh3tVXCaqJ6oTve8ebA       FAP TV           Comedy             2014   \n",
              "2  UC0jDoh3tVXCaqJ6oTve8ebA       FAP TV           Comedy             2014   \n",
              "3  UC0jDoh3tVXCaqJ6oTve8ebA       FAP TV           Comedy             2014   \n",
              "4  UC0jDoh3tVXCaqJ6oTve8ebA       FAP TV           Comedy             2014   \n",
              "\n",
              "   channel_rank  channel_subscribers           id  \\\n",
              "0             2             12800000  nehrVdADdH0   \n",
              "1             2             12800000  K66wOEaBwK4   \n",
              "2             2             12800000  D00vn3X7oI8   \n",
              "3             2             12800000  G22G1k3G-kM   \n",
              "4             2             12800000  G5EG7ymPErw   \n",
              "\n",
              "                                               title  title_length  \\\n",
              "0  [FAP TV ] Thông Báo Tuyển Diễn Viên Nam Film L...            14   \n",
              "1  Phía Sau Một Cô Gái - Soobin Hoàng Sơn | MV Fa...            14   \n",
              "2  FAPtv Cơm Nguội: Tập 94 - Dấu Ấn Học Đường Phần 2            12   \n",
              "3       FAPtv Cơm Nguội: Tập 100 - Hành Trình Vui Vẻ            10   \n",
              "4  FAPtv Cơm Nguội: Tập 95 - Dấu Ấn Học Đường Phầ...            12   \n",
              "\n",
              "         categories  ... comment_count dislike_count  like_per_view  \\\n",
              "0  Film & Animation  ...           827           105       0.020731   \n",
              "1            Comedy  ...          1594           664       0.010124   \n",
              "2     Entertainment  ...          2214          3089       0.006007   \n",
              "3     Entertainment  ...          1752          2202       0.007931   \n",
              "4     Entertainment  ...          2417          2208       0.006485   \n",
              "\n",
              "  comment_per_view  dislike_per_view  cl_engagement_rate  cld_engagement_rate  \\\n",
              "0         0.002456          0.000312            0.023187             0.023499   \n",
              "1         0.000622          0.000259            0.010746             0.011005   \n",
              "2         0.000234          0.000326            0.006241             0.006568   \n",
              "3         0.000228          0.000287            0.008159             0.008446   \n",
              "4         0.000303          0.000277            0.006789             0.007066   \n",
              "\n",
              "    q_score  engagement_rate_label  q_score_label  \n",
              "0  0.970364                      2              2  \n",
              "1  0.950070                      1              2  \n",
              "2  0.896920                      1              2  \n",
              "3  0.930209                      1              2  \n",
              "4  0.918029                      1              2  \n",
              "\n",
              "[5 rows x 28 columns]"
            ]
          },
          "execution_count": 8,
          "metadata": {},
          "output_type": "execute_result"
        }
      ],
      "source": [
        "df.head(5)"
      ]
    },
    {
      "cell_type": "markdown",
      "metadata": {
        "id": "do6gj_r2WvU1"
      },
      "source": [
        "## size "
      ]
    },
    {
      "cell_type": "code",
      "execution_count": 9,
      "metadata": {
        "colab": {
          "base_uri": "https://localhost:8080/"
        },
        "id": "ZLW9A6IaWyce",
        "outputId": "ebcf09a7-e4bc-4124-87ad-50a9e90cb321"
      },
      "outputs": [
        {
          "data": {
            "text/plain": [
              "23738"
            ]
          },
          "execution_count": 9,
          "metadata": {},
          "output_type": "execute_result"
        }
      ],
      "source": [
        "len(df)"
      ]
    },
    {
      "cell_type": "markdown",
      "metadata": {
        "id": "zP2IynKuWyzg"
      },
      "source": [
        "## missing rate "
      ]
    },
    {
      "cell_type": "code",
      "execution_count": 10,
      "metadata": {
        "colab": {
          "base_uri": "https://localhost:8080/"
        },
        "id": "ayJbX7YyW0uN",
        "outputId": "a2d87f8b-ac5f-4264-d4e1-b30500ebc1f3"
      },
      "outputs": [
        {
          "data": {
            "text/plain": [
              "channel_id               0.000000\n",
              "channel_name             0.000000\n",
              "channel_category         0.000000\n",
              "channel_started          0.000000\n",
              "channel_rank             0.000000\n",
              "channel_subscribers      0.000000\n",
              "id                       0.000000\n",
              "title                    0.000000\n",
              "title_length             0.000000\n",
              "categories               0.000000\n",
              "description              0.017609\n",
              "tags                     0.000000\n",
              "num_tags                 0.000000\n",
              "upload_date              0.000000\n",
              "delta_upload_date        0.000000\n",
              "duration                 0.000000\n",
              "view_count               0.000000\n",
              "like_count               0.000000\n",
              "comment_count            0.000000\n",
              "dislike_count            0.000000\n",
              "like_per_view            0.000000\n",
              "comment_per_view         0.000000\n",
              "dislike_per_view         0.000000\n",
              "cl_engagement_rate       0.000000\n",
              "cld_engagement_rate      0.000000\n",
              "q_score                  0.000000\n",
              "engagement_rate_label    0.000000\n",
              "q_score_label            0.000000\n",
              "dtype: float64"
            ]
          },
          "execution_count": 10,
          "metadata": {},
          "output_type": "execute_result"
        }
      ],
      "source": [
        "df.isnull().mean()"
      ]
    },
    {
      "cell_type": "markdown",
      "metadata": {
        "id": "SJ3xA38LW7IB"
      },
      "source": [
        "## duplicated rate "
      ]
    },
    {
      "cell_type": "code",
      "execution_count": 11,
      "metadata": {
        "colab": {
          "base_uri": "https://localhost:8080/"
        },
        "id": "9K6ZmjLTW1Cq",
        "outputId": "8b1d8806-c317-48b7-8066-452060187d4c"
      },
      "outputs": [
        {
          "data": {
            "text/plain": [
              "0.0"
            ]
          },
          "execution_count": 11,
          "metadata": {},
          "output_type": "execute_result"
        }
      ],
      "source": [
        "1 - len(df.drop_duplicates(['id']))/len(df)"
      ]
    },
    {
      "cell_type": "markdown",
      "metadata": {
        "id": "OMiAAK-PW6Zk"
      },
      "source": [
        "## check filter "
      ]
    },
    {
      "cell_type": "markdown",
      "metadata": {
        "id": "Jr-ZfpIvXEWr"
      },
      "source": [
        "### likes greater dislikes "
      ]
    },
    {
      "cell_type": "code",
      "execution_count": 12,
      "metadata": {
        "id": "pMJEMJGiXIWM"
      },
      "outputs": [],
      "source": [
        "assert len(df[df['like_count'] > df['dislike_count']]) / len(df) == 1"
      ]
    },
    {
      "cell_type": "markdown",
      "metadata": {
        "id": "kxmvuM1bXIq4"
      },
      "source": [
        "### no dislike "
      ]
    },
    {
      "cell_type": "code",
      "execution_count": 13,
      "metadata": {
        "id": "Fpol8QU_XPSs"
      },
      "outputs": [],
      "source": [
        "assert len(df[df['dislike_count'] > 0]) / len(df) == 1"
      ]
    },
    {
      "cell_type": "markdown",
      "metadata": {
        "id": "s9_a7A_1XQs5"
      },
      "source": [
        "### duration "
      ]
    },
    {
      "cell_type": "code",
      "execution_count": 14,
      "metadata": {
        "id": "6cZSlFAKXWt5"
      },
      "outputs": [],
      "source": [
        "assert len(df[df['duration'] >= 1]) / len(df) == 1"
      ]
    },
    {
      "cell_type": "markdown",
      "metadata": {
        "id": "HoorwCZUXYUu"
      },
      "source": [
        "# EDA "
      ]
    },
    {
      "cell_type": "markdown",
      "metadata": {
        "id": "IkGsBAyNXbLP"
      },
      "source": [
        "## label "
      ]
    },
    {
      "cell_type": "code",
      "execution_count": 15,
      "metadata": {
        "id": "-w6og4GlXe0W"
      },
      "outputs": [],
      "source": [
        "pd.options.display.float_format = '{:,.6f}'.format\n",
        "percentiles = [0.01] + [0.05*x for x in range(1, 20)] + [0.99]"
      ]
    },
    {
      "cell_type": "code",
      "execution_count": 16,
      "metadata": {
        "id": "h5XXRLtdXfcX"
      },
      "outputs": [],
      "source": [
        "def get_distribution_from_label(df, label: str, value: int,columns: list):\n",
        "    return df[df[label] == value][columns].describe(percentiles=percentiles)"
      ]
    },
    {
      "cell_type": "markdown",
      "metadata": {
        "id": "0SWSo1TFXhio"
      },
      "source": [
        "### engagement_rate_label"
      ]
    },
    {
      "cell_type": "markdown",
      "metadata": {
        "id": "S1YozDhJXk8E"
      },
      "source": [
        "#### Not Engage "
      ]
    },
    {
      "cell_type": "code",
      "execution_count": 17,
      "metadata": {
        "id": "6pPQcyUgXnKG"
      },
      "outputs": [],
      "source": [
        "label = 'engagement_rate_label'\n",
        "value = 0 # Not Engage\n",
        "columns = ['engagement_rate_label', 'cl_engagement_rate']"
      ]
    },
    {
      "cell_type": "code",
      "execution_count": 18,
      "metadata": {
        "colab": {
          "base_uri": "https://localhost:8080/",
          "height": 865
        },
        "id": "SZJN8R4iXnfV",
        "outputId": "3509c65f-759c-431d-9d03-83a4801a7757"
      },
      "outputs": [
        {
          "data": {
            "text/html": [
              "<div>\n",
              "<style scoped>\n",
              "    .dataframe tbody tr th:only-of-type {\n",
              "        vertical-align: middle;\n",
              "    }\n",
              "\n",
              "    .dataframe tbody tr th {\n",
              "        vertical-align: top;\n",
              "    }\n",
              "\n",
              "    .dataframe thead th {\n",
              "        text-align: right;\n",
              "    }\n",
              "</style>\n",
              "<table border=\"1\" class=\"dataframe\">\n",
              "  <thead>\n",
              "    <tr style=\"text-align: right;\">\n",
              "      <th></th>\n",
              "      <th>engagement_rate_label</th>\n",
              "      <th>cl_engagement_rate</th>\n",
              "    </tr>\n",
              "  </thead>\n",
              "  <tbody>\n",
              "    <tr>\n",
              "      <th>count</th>\n",
              "      <td>8,178.000000</td>\n",
              "      <td>8,178.000000</td>\n",
              "    </tr>\n",
              "    <tr>\n",
              "      <th>mean</th>\n",
              "      <td>0.000000</td>\n",
              "      <td>0.002890</td>\n",
              "    </tr>\n",
              "    <tr>\n",
              "      <th>std</th>\n",
              "      <td>0.000000</td>\n",
              "      <td>0.001121</td>\n",
              "    </tr>\n",
              "    <tr>\n",
              "      <th>min</th>\n",
              "      <td>0.000000</td>\n",
              "      <td>0.000002</td>\n",
              "    </tr>\n",
              "    <tr>\n",
              "      <th>1%</th>\n",
              "      <td>0.000000</td>\n",
              "      <td>0.000497</td>\n",
              "    </tr>\n",
              "    <tr>\n",
              "      <th>5%</th>\n",
              "      <td>0.000000</td>\n",
              "      <td>0.001073</td>\n",
              "    </tr>\n",
              "    <tr>\n",
              "      <th>10%</th>\n",
              "      <td>0.000000</td>\n",
              "      <td>0.001365</td>\n",
              "    </tr>\n",
              "    <tr>\n",
              "      <th>15%</th>\n",
              "      <td>0.000000</td>\n",
              "      <td>0.001609</td>\n",
              "    </tr>\n",
              "    <tr>\n",
              "      <th>20%</th>\n",
              "      <td>0.000000</td>\n",
              "      <td>0.001846</td>\n",
              "    </tr>\n",
              "    <tr>\n",
              "      <th>25%</th>\n",
              "      <td>0.000000</td>\n",
              "      <td>0.002042</td>\n",
              "    </tr>\n",
              "    <tr>\n",
              "      <th>30%</th>\n",
              "      <td>0.000000</td>\n",
              "      <td>0.002226</td>\n",
              "    </tr>\n",
              "    <tr>\n",
              "      <th>35%</th>\n",
              "      <td>0.000000</td>\n",
              "      <td>0.002395</td>\n",
              "    </tr>\n",
              "    <tr>\n",
              "      <th>40%</th>\n",
              "      <td>0.000000</td>\n",
              "      <td>0.002548</td>\n",
              "    </tr>\n",
              "    <tr>\n",
              "      <th>45%</th>\n",
              "      <td>0.000000</td>\n",
              "      <td>0.002717</td>\n",
              "    </tr>\n",
              "    <tr>\n",
              "      <th>50%</th>\n",
              "      <td>0.000000</td>\n",
              "      <td>0.002883</td>\n",
              "    </tr>\n",
              "    <tr>\n",
              "      <th>55%</th>\n",
              "      <td>0.000000</td>\n",
              "      <td>0.003057</td>\n",
              "    </tr>\n",
              "    <tr>\n",
              "      <th>60%</th>\n",
              "      <td>0.000000</td>\n",
              "      <td>0.003250</td>\n",
              "    </tr>\n",
              "    <tr>\n",
              "      <th>65%</th>\n",
              "      <td>0.000000</td>\n",
              "      <td>0.003426</td>\n",
              "    </tr>\n",
              "    <tr>\n",
              "      <th>70%</th>\n",
              "      <td>0.000000</td>\n",
              "      <td>0.003602</td>\n",
              "    </tr>\n",
              "    <tr>\n",
              "      <th>75%</th>\n",
              "      <td>0.000000</td>\n",
              "      <td>0.003799</td>\n",
              "    </tr>\n",
              "    <tr>\n",
              "      <th>80%</th>\n",
              "      <td>0.000000</td>\n",
              "      <td>0.004006</td>\n",
              "    </tr>\n",
              "    <tr>\n",
              "      <th>85%</th>\n",
              "      <td>0.000000</td>\n",
              "      <td>0.004203</td>\n",
              "    </tr>\n",
              "    <tr>\n",
              "      <th>90%</th>\n",
              "      <td>0.000000</td>\n",
              "      <td>0.004421</td>\n",
              "    </tr>\n",
              "    <tr>\n",
              "      <th>95%</th>\n",
              "      <td>0.000000</td>\n",
              "      <td>0.004666</td>\n",
              "    </tr>\n",
              "    <tr>\n",
              "      <th>99%</th>\n",
              "      <td>0.000000</td>\n",
              "      <td>0.004889</td>\n",
              "    </tr>\n",
              "    <tr>\n",
              "      <th>max</th>\n",
              "      <td>0.000000</td>\n",
              "      <td>0.004935</td>\n",
              "    </tr>\n",
              "  </tbody>\n",
              "</table>\n",
              "</div>"
            ],
            "text/plain": [
              "       engagement_rate_label  cl_engagement_rate\n",
              "count           8,178.000000        8,178.000000\n",
              "mean                0.000000            0.002890\n",
              "std                 0.000000            0.001121\n",
              "min                 0.000000            0.000002\n",
              "1%                  0.000000            0.000497\n",
              "5%                  0.000000            0.001073\n",
              "10%                 0.000000            0.001365\n",
              "15%                 0.000000            0.001609\n",
              "20%                 0.000000            0.001846\n",
              "25%                 0.000000            0.002042\n",
              "30%                 0.000000            0.002226\n",
              "35%                 0.000000            0.002395\n",
              "40%                 0.000000            0.002548\n",
              "45%                 0.000000            0.002717\n",
              "50%                 0.000000            0.002883\n",
              "55%                 0.000000            0.003057\n",
              "60%                 0.000000            0.003250\n",
              "65%                 0.000000            0.003426\n",
              "70%                 0.000000            0.003602\n",
              "75%                 0.000000            0.003799\n",
              "80%                 0.000000            0.004006\n",
              "85%                 0.000000            0.004203\n",
              "90%                 0.000000            0.004421\n",
              "95%                 0.000000            0.004666\n",
              "99%                 0.000000            0.004889\n",
              "max                 0.000000            0.004935"
            ]
          },
          "execution_count": 18,
          "metadata": {},
          "output_type": "execute_result"
        }
      ],
      "source": [
        "get_distribution_from_label(df, label, value, columns)"
      ]
    },
    {
      "cell_type": "markdown",
      "metadata": {
        "id": "N5OVgn87XpJt"
      },
      "source": [
        "#### Neutral "
      ]
    },
    {
      "cell_type": "code",
      "execution_count": 19,
      "metadata": {
        "colab": {
          "base_uri": "https://localhost:8080/",
          "height": 865
        },
        "id": "ekJUM9vJXr9X",
        "outputId": "bda11e45-fdcf-4f99-eb4a-3935f81103b0"
      },
      "outputs": [
        {
          "data": {
            "text/html": [
              "<div>\n",
              "<style scoped>\n",
              "    .dataframe tbody tr th:only-of-type {\n",
              "        vertical-align: middle;\n",
              "    }\n",
              "\n",
              "    .dataframe tbody tr th {\n",
              "        vertical-align: top;\n",
              "    }\n",
              "\n",
              "    .dataframe thead th {\n",
              "        text-align: right;\n",
              "    }\n",
              "</style>\n",
              "<table border=\"1\" class=\"dataframe\">\n",
              "  <thead>\n",
              "    <tr style=\"text-align: right;\">\n",
              "      <th></th>\n",
              "      <th>engagement_rate_label</th>\n",
              "      <th>cl_engagement_rate</th>\n",
              "    </tr>\n",
              "  </thead>\n",
              "  <tbody>\n",
              "    <tr>\n",
              "      <th>count</th>\n",
              "      <td>7,107.000000</td>\n",
              "      <td>7,107.000000</td>\n",
              "    </tr>\n",
              "    <tr>\n",
              "      <th>mean</th>\n",
              "      <td>1.000000</td>\n",
              "      <td>0.007792</td>\n",
              "    </tr>\n",
              "    <tr>\n",
              "      <th>std</th>\n",
              "      <td>0.000000</td>\n",
              "      <td>0.001888</td>\n",
              "    </tr>\n",
              "    <tr>\n",
              "      <th>min</th>\n",
              "      <td>1.000000</td>\n",
              "      <td>0.004937</td>\n",
              "    </tr>\n",
              "    <tr>\n",
              "      <th>1%</th>\n",
              "      <td>1.000000</td>\n",
              "      <td>0.004989</td>\n",
              "    </tr>\n",
              "    <tr>\n",
              "      <th>5%</th>\n",
              "      <td>1.000000</td>\n",
              "      <td>0.005179</td>\n",
              "    </tr>\n",
              "    <tr>\n",
              "      <th>10%</th>\n",
              "      <td>1.000000</td>\n",
              "      <td>0.005411</td>\n",
              "    </tr>\n",
              "    <tr>\n",
              "      <th>15%</th>\n",
              "      <td>1.000000</td>\n",
              "      <td>0.005654</td>\n",
              "    </tr>\n",
              "    <tr>\n",
              "      <th>20%</th>\n",
              "      <td>1.000000</td>\n",
              "      <td>0.005900</td>\n",
              "    </tr>\n",
              "    <tr>\n",
              "      <th>25%</th>\n",
              "      <td>1.000000</td>\n",
              "      <td>0.006146</td>\n",
              "    </tr>\n",
              "    <tr>\n",
              "      <th>30%</th>\n",
              "      <td>1.000000</td>\n",
              "      <td>0.006410</td>\n",
              "    </tr>\n",
              "    <tr>\n",
              "      <th>35%</th>\n",
              "      <td>1.000000</td>\n",
              "      <td>0.006671</td>\n",
              "    </tr>\n",
              "    <tr>\n",
              "      <th>40%</th>\n",
              "      <td>1.000000</td>\n",
              "      <td>0.006934</td>\n",
              "    </tr>\n",
              "    <tr>\n",
              "      <th>45%</th>\n",
              "      <td>1.000000</td>\n",
              "      <td>0.007236</td>\n",
              "    </tr>\n",
              "    <tr>\n",
              "      <th>50%</th>\n",
              "      <td>1.000000</td>\n",
              "      <td>0.007571</td>\n",
              "    </tr>\n",
              "    <tr>\n",
              "      <th>55%</th>\n",
              "      <td>1.000000</td>\n",
              "      <td>0.007885</td>\n",
              "    </tr>\n",
              "    <tr>\n",
              "      <th>60%</th>\n",
              "      <td>1.000000</td>\n",
              "      <td>0.008221</td>\n",
              "    </tr>\n",
              "    <tr>\n",
              "      <th>65%</th>\n",
              "      <td>1.000000</td>\n",
              "      <td>0.008578</td>\n",
              "    </tr>\n",
              "    <tr>\n",
              "      <th>70%</th>\n",
              "      <td>1.000000</td>\n",
              "      <td>0.008927</td>\n",
              "    </tr>\n",
              "    <tr>\n",
              "      <th>75%</th>\n",
              "      <td>1.000000</td>\n",
              "      <td>0.009314</td>\n",
              "    </tr>\n",
              "    <tr>\n",
              "      <th>80%</th>\n",
              "      <td>1.000000</td>\n",
              "      <td>0.009709</td>\n",
              "    </tr>\n",
              "    <tr>\n",
              "      <th>85%</th>\n",
              "      <td>1.000000</td>\n",
              "      <td>0.010131</td>\n",
              "    </tr>\n",
              "    <tr>\n",
              "      <th>90%</th>\n",
              "      <td>1.000000</td>\n",
              "      <td>0.010621</td>\n",
              "    </tr>\n",
              "    <tr>\n",
              "      <th>95%</th>\n",
              "      <td>1.000000</td>\n",
              "      <td>0.011120</td>\n",
              "    </tr>\n",
              "    <tr>\n",
              "      <th>99%</th>\n",
              "      <td>1.000000</td>\n",
              "      <td>0.011545</td>\n",
              "    </tr>\n",
              "    <tr>\n",
              "      <th>max</th>\n",
              "      <td>1.000000</td>\n",
              "      <td>0.011633</td>\n",
              "    </tr>\n",
              "  </tbody>\n",
              "</table>\n",
              "</div>"
            ],
            "text/plain": [
              "       engagement_rate_label  cl_engagement_rate\n",
              "count           7,107.000000        7,107.000000\n",
              "mean                1.000000            0.007792\n",
              "std                 0.000000            0.001888\n",
              "min                 1.000000            0.004937\n",
              "1%                  1.000000            0.004989\n",
              "5%                  1.000000            0.005179\n",
              "10%                 1.000000            0.005411\n",
              "15%                 1.000000            0.005654\n",
              "20%                 1.000000            0.005900\n",
              "25%                 1.000000            0.006146\n",
              "30%                 1.000000            0.006410\n",
              "35%                 1.000000            0.006671\n",
              "40%                 1.000000            0.006934\n",
              "45%                 1.000000            0.007236\n",
              "50%                 1.000000            0.007571\n",
              "55%                 1.000000            0.007885\n",
              "60%                 1.000000            0.008221\n",
              "65%                 1.000000            0.008578\n",
              "70%                 1.000000            0.008927\n",
              "75%                 1.000000            0.009314\n",
              "80%                 1.000000            0.009709\n",
              "85%                 1.000000            0.010131\n",
              "90%                 1.000000            0.010621\n",
              "95%                 1.000000            0.011120\n",
              "99%                 1.000000            0.011545\n",
              "max                 1.000000            0.011633"
            ]
          },
          "execution_count": 19,
          "metadata": {},
          "output_type": "execute_result"
        }
      ],
      "source": [
        "get_distribution_from_label(df, label, 1, columns)"
      ]
    },
    {
      "cell_type": "markdown",
      "metadata": {
        "id": "nw3bzhr4XuQA"
      },
      "source": [
        "#### Engage"
      ]
    },
    {
      "cell_type": "code",
      "execution_count": 20,
      "metadata": {
        "colab": {
          "base_uri": "https://localhost:8080/",
          "height": 865
        },
        "id": "OebjC7BDXwQ5",
        "outputId": "40243821-d390-4aba-b848-29757d82dc7d"
      },
      "outputs": [
        {
          "data": {
            "text/html": [
              "<div>\n",
              "<style scoped>\n",
              "    .dataframe tbody tr th:only-of-type {\n",
              "        vertical-align: middle;\n",
              "    }\n",
              "\n",
              "    .dataframe tbody tr th {\n",
              "        vertical-align: top;\n",
              "    }\n",
              "\n",
              "    .dataframe thead th {\n",
              "        text-align: right;\n",
              "    }\n",
              "</style>\n",
              "<table border=\"1\" class=\"dataframe\">\n",
              "  <thead>\n",
              "    <tr style=\"text-align: right;\">\n",
              "      <th></th>\n",
              "      <th>engagement_rate_label</th>\n",
              "      <th>cl_engagement_rate</th>\n",
              "    </tr>\n",
              "  </thead>\n",
              "  <tbody>\n",
              "    <tr>\n",
              "      <th>count</th>\n",
              "      <td>8,453.000000</td>\n",
              "      <td>8,453.000000</td>\n",
              "    </tr>\n",
              "    <tr>\n",
              "      <th>mean</th>\n",
              "      <td>2.000000</td>\n",
              "      <td>0.028089</td>\n",
              "    </tr>\n",
              "    <tr>\n",
              "      <th>std</th>\n",
              "      <td>0.000000</td>\n",
              "      <td>0.040511</td>\n",
              "    </tr>\n",
              "    <tr>\n",
              "      <th>min</th>\n",
              "      <td>2.000000</td>\n",
              "      <td>0.011633</td>\n",
              "    </tr>\n",
              "    <tr>\n",
              "      <th>1%</th>\n",
              "      <td>2.000000</td>\n",
              "      <td>0.011761</td>\n",
              "    </tr>\n",
              "    <tr>\n",
              "      <th>5%</th>\n",
              "      <td>2.000000</td>\n",
              "      <td>0.012273</td>\n",
              "    </tr>\n",
              "    <tr>\n",
              "      <th>10%</th>\n",
              "      <td>2.000000</td>\n",
              "      <td>0.012939</td>\n",
              "    </tr>\n",
              "    <tr>\n",
              "      <th>15%</th>\n",
              "      <td>2.000000</td>\n",
              "      <td>0.013685</td>\n",
              "    </tr>\n",
              "    <tr>\n",
              "      <th>20%</th>\n",
              "      <td>2.000000</td>\n",
              "      <td>0.014426</td>\n",
              "    </tr>\n",
              "    <tr>\n",
              "      <th>25%</th>\n",
              "      <td>2.000000</td>\n",
              "      <td>0.015270</td>\n",
              "    </tr>\n",
              "    <tr>\n",
              "      <th>30%</th>\n",
              "      <td>2.000000</td>\n",
              "      <td>0.016128</td>\n",
              "    </tr>\n",
              "    <tr>\n",
              "      <th>35%</th>\n",
              "      <td>2.000000</td>\n",
              "      <td>0.016995</td>\n",
              "    </tr>\n",
              "    <tr>\n",
              "      <th>40%</th>\n",
              "      <td>2.000000</td>\n",
              "      <td>0.017939</td>\n",
              "    </tr>\n",
              "    <tr>\n",
              "      <th>45%</th>\n",
              "      <td>2.000000</td>\n",
              "      <td>0.019003</td>\n",
              "    </tr>\n",
              "    <tr>\n",
              "      <th>50%</th>\n",
              "      <td>2.000000</td>\n",
              "      <td>0.020088</td>\n",
              "    </tr>\n",
              "    <tr>\n",
              "      <th>55%</th>\n",
              "      <td>2.000000</td>\n",
              "      <td>0.021409</td>\n",
              "    </tr>\n",
              "    <tr>\n",
              "      <th>60%</th>\n",
              "      <td>2.000000</td>\n",
              "      <td>0.022896</td>\n",
              "    </tr>\n",
              "    <tr>\n",
              "      <th>65%</th>\n",
              "      <td>2.000000</td>\n",
              "      <td>0.024411</td>\n",
              "    </tr>\n",
              "    <tr>\n",
              "      <th>70%</th>\n",
              "      <td>2.000000</td>\n",
              "      <td>0.026432</td>\n",
              "    </tr>\n",
              "    <tr>\n",
              "      <th>75%</th>\n",
              "      <td>2.000000</td>\n",
              "      <td>0.028891</td>\n",
              "    </tr>\n",
              "    <tr>\n",
              "      <th>80%</th>\n",
              "      <td>2.000000</td>\n",
              "      <td>0.032060</td>\n",
              "    </tr>\n",
              "    <tr>\n",
              "      <th>85%</th>\n",
              "      <td>2.000000</td>\n",
              "      <td>0.036680</td>\n",
              "    </tr>\n",
              "    <tr>\n",
              "      <th>90%</th>\n",
              "      <td>2.000000</td>\n",
              "      <td>0.044352</td>\n",
              "    </tr>\n",
              "    <tr>\n",
              "      <th>95%</th>\n",
              "      <td>2.000000</td>\n",
              "      <td>0.061149</td>\n",
              "    </tr>\n",
              "    <tr>\n",
              "      <th>99%</th>\n",
              "      <td>2.000000</td>\n",
              "      <td>0.150831</td>\n",
              "    </tr>\n",
              "    <tr>\n",
              "      <th>max</th>\n",
              "      <td>2.000000</td>\n",
              "      <td>1.126157</td>\n",
              "    </tr>\n",
              "  </tbody>\n",
              "</table>\n",
              "</div>"
            ],
            "text/plain": [
              "       engagement_rate_label  cl_engagement_rate\n",
              "count           8,453.000000        8,453.000000\n",
              "mean                2.000000            0.028089\n",
              "std                 0.000000            0.040511\n",
              "min                 2.000000            0.011633\n",
              "1%                  2.000000            0.011761\n",
              "5%                  2.000000            0.012273\n",
              "10%                 2.000000            0.012939\n",
              "15%                 2.000000            0.013685\n",
              "20%                 2.000000            0.014426\n",
              "25%                 2.000000            0.015270\n",
              "30%                 2.000000            0.016128\n",
              "35%                 2.000000            0.016995\n",
              "40%                 2.000000            0.017939\n",
              "45%                 2.000000            0.019003\n",
              "50%                 2.000000            0.020088\n",
              "55%                 2.000000            0.021409\n",
              "60%                 2.000000            0.022896\n",
              "65%                 2.000000            0.024411\n",
              "70%                 2.000000            0.026432\n",
              "75%                 2.000000            0.028891\n",
              "80%                 2.000000            0.032060\n",
              "85%                 2.000000            0.036680\n",
              "90%                 2.000000            0.044352\n",
              "95%                 2.000000            0.061149\n",
              "99%                 2.000000            0.150831\n",
              "max                 2.000000            1.126157"
            ]
          },
          "execution_count": 20,
          "metadata": {},
          "output_type": "execute_result"
        }
      ],
      "source": [
        "get_distribution_from_label(df, label, 2, columns)"
      ]
    },
    {
      "cell_type": "markdown",
      "metadata": {
        "id": "gl4MC07cXxvn"
      },
      "source": [
        "### q_score_label "
      ]
    },
    {
      "cell_type": "code",
      "execution_count": 21,
      "metadata": {
        "id": "a29H_bhdX2IO"
      },
      "outputs": [],
      "source": [
        "label = 'q_score_label'\n",
        "value = 0 # Not Engage\n",
        "columns = ['q_score_label', 'q_score']"
      ]
    },
    {
      "cell_type": "markdown",
      "metadata": {
        "id": "1pw5ICjvXz0U"
      },
      "source": [
        "#### Not Engage "
      ]
    },
    {
      "cell_type": "code",
      "execution_count": 22,
      "metadata": {
        "colab": {
          "base_uri": "https://localhost:8080/",
          "height": 865
        },
        "id": "MwUf5XXnX2VH",
        "outputId": "c8837813-e087-4c4f-c178-ea59b82c540c"
      },
      "outputs": [
        {
          "data": {
            "text/html": [
              "<div>\n",
              "<style scoped>\n",
              "    .dataframe tbody tr th:only-of-type {\n",
              "        vertical-align: middle;\n",
              "    }\n",
              "\n",
              "    .dataframe tbody tr th {\n",
              "        vertical-align: top;\n",
              "    }\n",
              "\n",
              "    .dataframe thead th {\n",
              "        text-align: right;\n",
              "    }\n",
              "</style>\n",
              "<table border=\"1\" class=\"dataframe\">\n",
              "  <thead>\n",
              "    <tr style=\"text-align: right;\">\n",
              "      <th></th>\n",
              "      <th>q_score_label</th>\n",
              "      <th>q_score</th>\n",
              "    </tr>\n",
              "  </thead>\n",
              "  <tbody>\n",
              "    <tr>\n",
              "      <th>count</th>\n",
              "      <td>8,365.000000</td>\n",
              "      <td>8,365.000000</td>\n",
              "    </tr>\n",
              "    <tr>\n",
              "      <th>mean</th>\n",
              "      <td>0.000000</td>\n",
              "      <td>0.572580</td>\n",
              "    </tr>\n",
              "    <tr>\n",
              "      <th>std</th>\n",
              "      <td>0.000000</td>\n",
              "      <td>0.166587</td>\n",
              "    </tr>\n",
              "    <tr>\n",
              "      <th>min</th>\n",
              "      <td>0.000000</td>\n",
              "      <td>0.013158</td>\n",
              "    </tr>\n",
              "    <tr>\n",
              "      <th>1%</th>\n",
              "      <td>0.000000</td>\n",
              "      <td>0.094802</td>\n",
              "    </tr>\n",
              "    <tr>\n",
              "      <th>5%</th>\n",
              "      <td>0.000000</td>\n",
              "      <td>0.184915</td>\n",
              "    </tr>\n",
              "    <tr>\n",
              "      <th>10%</th>\n",
              "      <td>0.000000</td>\n",
              "      <td>0.333333</td>\n",
              "    </tr>\n",
              "    <tr>\n",
              "      <th>15%</th>\n",
              "      <td>0.000000</td>\n",
              "      <td>0.409231</td>\n",
              "    </tr>\n",
              "    <tr>\n",
              "      <th>20%</th>\n",
              "      <td>0.000000</td>\n",
              "      <td>0.458300</td>\n",
              "    </tr>\n",
              "    <tr>\n",
              "      <th>25%</th>\n",
              "      <td>0.000000</td>\n",
              "      <td>0.500000</td>\n",
              "    </tr>\n",
              "    <tr>\n",
              "      <th>30%</th>\n",
              "      <td>0.000000</td>\n",
              "      <td>0.521392</td>\n",
              "    </tr>\n",
              "    <tr>\n",
              "      <th>35%</th>\n",
              "      <td>0.000000</td>\n",
              "      <td>0.550712</td>\n",
              "    </tr>\n",
              "    <tr>\n",
              "      <th>40%</th>\n",
              "      <td>0.000000</td>\n",
              "      <td>0.576342</td>\n",
              "    </tr>\n",
              "    <tr>\n",
              "      <th>45%</th>\n",
              "      <td>0.000000</td>\n",
              "      <td>0.600000</td>\n",
              "    </tr>\n",
              "    <tr>\n",
              "      <th>50%</th>\n",
              "      <td>0.000000</td>\n",
              "      <td>0.615789</td>\n",
              "    </tr>\n",
              "    <tr>\n",
              "      <th>55%</th>\n",
              "      <td>0.000000</td>\n",
              "      <td>0.636364</td>\n",
              "    </tr>\n",
              "    <tr>\n",
              "      <th>60%</th>\n",
              "      <td>0.000000</td>\n",
              "      <td>0.654881</td>\n",
              "    </tr>\n",
              "    <tr>\n",
              "      <th>65%</th>\n",
              "      <td>0.000000</td>\n",
              "      <td>0.666667</td>\n",
              "    </tr>\n",
              "    <tr>\n",
              "      <th>70%</th>\n",
              "      <td>0.000000</td>\n",
              "      <td>0.684702</td>\n",
              "    </tr>\n",
              "    <tr>\n",
              "      <th>75%</th>\n",
              "      <td>0.000000</td>\n",
              "      <td>0.702830</td>\n",
              "    </tr>\n",
              "    <tr>\n",
              "      <th>80%</th>\n",
              "      <td>0.000000</td>\n",
              "      <td>0.714286</td>\n",
              "    </tr>\n",
              "    <tr>\n",
              "      <th>85%</th>\n",
              "      <td>0.000000</td>\n",
              "      <td>0.729203</td>\n",
              "    </tr>\n",
              "    <tr>\n",
              "      <th>90%</th>\n",
              "      <td>0.000000</td>\n",
              "      <td>0.743871</td>\n",
              "    </tr>\n",
              "    <tr>\n",
              "      <th>95%</th>\n",
              "      <td>0.000000</td>\n",
              "      <td>0.752809</td>\n",
              "    </tr>\n",
              "    <tr>\n",
              "      <th>99%</th>\n",
              "      <td>0.000000</td>\n",
              "      <td>0.764706</td>\n",
              "    </tr>\n",
              "    <tr>\n",
              "      <th>max</th>\n",
              "      <td>0.000000</td>\n",
              "      <td>0.764706</td>\n",
              "    </tr>\n",
              "  </tbody>\n",
              "</table>\n",
              "</div>"
            ],
            "text/plain": [
              "       q_score_label      q_score\n",
              "count   8,365.000000 8,365.000000\n",
              "mean        0.000000     0.572580\n",
              "std         0.000000     0.166587\n",
              "min         0.000000     0.013158\n",
              "1%          0.000000     0.094802\n",
              "5%          0.000000     0.184915\n",
              "10%         0.000000     0.333333\n",
              "15%         0.000000     0.409231\n",
              "20%         0.000000     0.458300\n",
              "25%         0.000000     0.500000\n",
              "30%         0.000000     0.521392\n",
              "35%         0.000000     0.550712\n",
              "40%         0.000000     0.576342\n",
              "45%         0.000000     0.600000\n",
              "50%         0.000000     0.615789\n",
              "55%         0.000000     0.636364\n",
              "60%         0.000000     0.654881\n",
              "65%         0.000000     0.666667\n",
              "70%         0.000000     0.684702\n",
              "75%         0.000000     0.702830\n",
              "80%         0.000000     0.714286\n",
              "85%         0.000000     0.729203\n",
              "90%         0.000000     0.743871\n",
              "95%         0.000000     0.752809\n",
              "99%         0.000000     0.764706\n",
              "max         0.000000     0.764706"
            ]
          },
          "execution_count": 22,
          "metadata": {},
          "output_type": "execute_result"
        }
      ],
      "source": [
        "get_distribution_from_label(df, label, value, columns)"
      ]
    },
    {
      "cell_type": "markdown",
      "metadata": {
        "id": "QmeAXDuHX69p"
      },
      "source": [
        "#### Neutral"
      ]
    },
    {
      "cell_type": "code",
      "execution_count": 23,
      "metadata": {
        "colab": {
          "base_uri": "https://localhost:8080/",
          "height": 865
        },
        "id": "cVXMNnGwX-1K",
        "outputId": "53e4a898-378a-44e2-fadf-576c8dc00746"
      },
      "outputs": [
        {
          "data": {
            "text/html": [
              "<div>\n",
              "<style scoped>\n",
              "    .dataframe tbody tr th:only-of-type {\n",
              "        vertical-align: middle;\n",
              "    }\n",
              "\n",
              "    .dataframe tbody tr th {\n",
              "        vertical-align: top;\n",
              "    }\n",
              "\n",
              "    .dataframe thead th {\n",
              "        text-align: right;\n",
              "    }\n",
              "</style>\n",
              "<table border=\"1\" class=\"dataframe\">\n",
              "  <thead>\n",
              "    <tr style=\"text-align: right;\">\n",
              "      <th></th>\n",
              "      <th>q_score_label</th>\n",
              "      <th>q_score</th>\n",
              "    </tr>\n",
              "  </thead>\n",
              "  <tbody>\n",
              "    <tr>\n",
              "      <th>count</th>\n",
              "      <td>6,949.000000</td>\n",
              "      <td>6,949.000000</td>\n",
              "    </tr>\n",
              "    <tr>\n",
              "      <th>mean</th>\n",
              "      <td>1.000000</td>\n",
              "      <td>0.837657</td>\n",
              "    </tr>\n",
              "    <tr>\n",
              "      <th>std</th>\n",
              "      <td>0.000000</td>\n",
              "      <td>0.036972</td>\n",
              "    </tr>\n",
              "    <tr>\n",
              "      <th>min</th>\n",
              "      <td>1.000000</td>\n",
              "      <td>0.764745</td>\n",
              "    </tr>\n",
              "    <tr>\n",
              "      <th>1%</th>\n",
              "      <td>1.000000</td>\n",
              "      <td>0.767857</td>\n",
              "    </tr>\n",
              "    <tr>\n",
              "      <th>5%</th>\n",
              "      <td>1.000000</td>\n",
              "      <td>0.777715</td>\n",
              "    </tr>\n",
              "    <tr>\n",
              "      <th>10%</th>\n",
              "      <td>1.000000</td>\n",
              "      <td>0.782609</td>\n",
              "    </tr>\n",
              "    <tr>\n",
              "      <th>15%</th>\n",
              "      <td>1.000000</td>\n",
              "      <td>0.791127</td>\n",
              "    </tr>\n",
              "    <tr>\n",
              "      <th>20%</th>\n",
              "      <td>1.000000</td>\n",
              "      <td>0.800000</td>\n",
              "    </tr>\n",
              "    <tr>\n",
              "      <th>25%</th>\n",
              "      <td>1.000000</td>\n",
              "      <td>0.806452</td>\n",
              "    </tr>\n",
              "    <tr>\n",
              "      <th>30%</th>\n",
              "      <td>1.000000</td>\n",
              "      <td>0.814815</td>\n",
              "    </tr>\n",
              "    <tr>\n",
              "      <th>35%</th>\n",
              "      <td>1.000000</td>\n",
              "      <td>0.821149</td>\n",
              "    </tr>\n",
              "    <tr>\n",
              "      <th>40%</th>\n",
              "      <td>1.000000</td>\n",
              "      <td>0.828868</td>\n",
              "    </tr>\n",
              "    <tr>\n",
              "      <th>45%</th>\n",
              "      <td>1.000000</td>\n",
              "      <td>0.833950</td>\n",
              "    </tr>\n",
              "    <tr>\n",
              "      <th>50%</th>\n",
              "      <td>1.000000</td>\n",
              "      <td>0.841270</td>\n",
              "    </tr>\n",
              "    <tr>\n",
              "      <th>55%</th>\n",
              "      <td>1.000000</td>\n",
              "      <td>0.846154</td>\n",
              "    </tr>\n",
              "    <tr>\n",
              "      <th>60%</th>\n",
              "      <td>1.000000</td>\n",
              "      <td>0.853163</td>\n",
              "    </tr>\n",
              "    <tr>\n",
              "      <th>65%</th>\n",
              "      <td>1.000000</td>\n",
              "      <td>0.857988</td>\n",
              "    </tr>\n",
              "    <tr>\n",
              "      <th>70%</th>\n",
              "      <td>1.000000</td>\n",
              "      <td>0.864865</td>\n",
              "    </tr>\n",
              "    <tr>\n",
              "      <th>75%</th>\n",
              "      <td>1.000000</td>\n",
              "      <td>0.869565</td>\n",
              "    </tr>\n",
              "    <tr>\n",
              "      <th>80%</th>\n",
              "      <td>1.000000</td>\n",
              "      <td>0.875000</td>\n",
              "    </tr>\n",
              "    <tr>\n",
              "      <th>85%</th>\n",
              "      <td>1.000000</td>\n",
              "      <td>0.880577</td>\n",
              "    </tr>\n",
              "    <tr>\n",
              "      <th>90%</th>\n",
              "      <td>1.000000</td>\n",
              "      <td>0.885407</td>\n",
              "    </tr>\n",
              "    <tr>\n",
              "      <th>95%</th>\n",
              "      <td>1.000000</td>\n",
              "      <td>0.890571</td>\n",
              "    </tr>\n",
              "    <tr>\n",
              "      <th>99%</th>\n",
              "      <td>1.000000</td>\n",
              "      <td>0.894737</td>\n",
              "    </tr>\n",
              "    <tr>\n",
              "      <th>max</th>\n",
              "      <td>1.000000</td>\n",
              "      <td>0.894737</td>\n",
              "    </tr>\n",
              "  </tbody>\n",
              "</table>\n",
              "</div>"
            ],
            "text/plain": [
              "       q_score_label      q_score\n",
              "count   6,949.000000 6,949.000000\n",
              "mean        1.000000     0.837657\n",
              "std         0.000000     0.036972\n",
              "min         1.000000     0.764745\n",
              "1%          1.000000     0.767857\n",
              "5%          1.000000     0.777715\n",
              "10%         1.000000     0.782609\n",
              "15%         1.000000     0.791127\n",
              "20%         1.000000     0.800000\n",
              "25%         1.000000     0.806452\n",
              "30%         1.000000     0.814815\n",
              "35%         1.000000     0.821149\n",
              "40%         1.000000     0.828868\n",
              "45%         1.000000     0.833950\n",
              "50%         1.000000     0.841270\n",
              "55%         1.000000     0.846154\n",
              "60%         1.000000     0.853163\n",
              "65%         1.000000     0.857988\n",
              "70%         1.000000     0.864865\n",
              "75%         1.000000     0.869565\n",
              "80%         1.000000     0.875000\n",
              "85%         1.000000     0.880577\n",
              "90%         1.000000     0.885407\n",
              "95%         1.000000     0.890571\n",
              "99%         1.000000     0.894737\n",
              "max         1.000000     0.894737"
            ]
          },
          "execution_count": 23,
          "metadata": {},
          "output_type": "execute_result"
        }
      ],
      "source": [
        "get_distribution_from_label(df, label, 1, columns)"
      ]
    },
    {
      "cell_type": "markdown",
      "metadata": {
        "id": "lgarJrD7X_IS"
      },
      "source": [
        "#### Engage "
      ]
    },
    {
      "cell_type": "code",
      "execution_count": 24,
      "metadata": {
        "colab": {
          "base_uri": "https://localhost:8080/",
          "height": 865
        },
        "id": "z98jD8fOYDkm",
        "outputId": "3cc5c7ab-a2ed-4b24-bed6-ed465af5b527"
      },
      "outputs": [
        {
          "data": {
            "text/html": [
              "<div>\n",
              "<style scoped>\n",
              "    .dataframe tbody tr th:only-of-type {\n",
              "        vertical-align: middle;\n",
              "    }\n",
              "\n",
              "    .dataframe tbody tr th {\n",
              "        vertical-align: top;\n",
              "    }\n",
              "\n",
              "    .dataframe thead th {\n",
              "        text-align: right;\n",
              "    }\n",
              "</style>\n",
              "<table border=\"1\" class=\"dataframe\">\n",
              "  <thead>\n",
              "    <tr style=\"text-align: right;\">\n",
              "      <th></th>\n",
              "      <th>q_score_label</th>\n",
              "      <th>q_score</th>\n",
              "    </tr>\n",
              "  </thead>\n",
              "  <tbody>\n",
              "    <tr>\n",
              "      <th>count</th>\n",
              "      <td>8,424.000000</td>\n",
              "      <td>8,424.000000</td>\n",
              "    </tr>\n",
              "    <tr>\n",
              "      <th>mean</th>\n",
              "      <td>2.000000</td>\n",
              "      <td>0.937025</td>\n",
              "    </tr>\n",
              "    <tr>\n",
              "      <th>std</th>\n",
              "      <td>0.000000</td>\n",
              "      <td>0.023348</td>\n",
              "    </tr>\n",
              "    <tr>\n",
              "      <th>min</th>\n",
              "      <td>2.000000</td>\n",
              "      <td>0.894777</td>\n",
              "    </tr>\n",
              "    <tr>\n",
              "      <th>1%</th>\n",
              "      <td>2.000000</td>\n",
              "      <td>0.896371</td>\n",
              "    </tr>\n",
              "    <tr>\n",
              "      <th>5%</th>\n",
              "      <td>2.000000</td>\n",
              "      <td>0.900183</td>\n",
              "    </tr>\n",
              "    <tr>\n",
              "      <th>10%</th>\n",
              "      <td>2.000000</td>\n",
              "      <td>0.905411</td>\n",
              "    </tr>\n",
              "    <tr>\n",
              "      <th>15%</th>\n",
              "      <td>2.000000</td>\n",
              "      <td>0.910105</td>\n",
              "    </tr>\n",
              "    <tr>\n",
              "      <th>20%</th>\n",
              "      <td>2.000000</td>\n",
              "      <td>0.914600</td>\n",
              "    </tr>\n",
              "    <tr>\n",
              "      <th>25%</th>\n",
              "      <td>2.000000</td>\n",
              "      <td>0.918473</td>\n",
              "    </tr>\n",
              "    <tr>\n",
              "      <th>30%</th>\n",
              "      <td>2.000000</td>\n",
              "      <td>0.922284</td>\n",
              "    </tr>\n",
              "    <tr>\n",
              "      <th>35%</th>\n",
              "      <td>2.000000</td>\n",
              "      <td>0.925926</td>\n",
              "    </tr>\n",
              "    <tr>\n",
              "      <th>40%</th>\n",
              "      <td>2.000000</td>\n",
              "      <td>0.928968</td>\n",
              "    </tr>\n",
              "    <tr>\n",
              "      <th>45%</th>\n",
              "      <td>2.000000</td>\n",
              "      <td>0.932767</td>\n",
              "    </tr>\n",
              "    <tr>\n",
              "      <th>50%</th>\n",
              "      <td>2.000000</td>\n",
              "      <td>0.936075</td>\n",
              "    </tr>\n",
              "    <tr>\n",
              "      <th>55%</th>\n",
              "      <td>2.000000</td>\n",
              "      <td>0.939513</td>\n",
              "    </tr>\n",
              "    <tr>\n",
              "      <th>60%</th>\n",
              "      <td>2.000000</td>\n",
              "      <td>0.942950</td>\n",
              "    </tr>\n",
              "    <tr>\n",
              "      <th>65%</th>\n",
              "      <td>2.000000</td>\n",
              "      <td>0.946861</td>\n",
              "    </tr>\n",
              "    <tr>\n",
              "      <th>70%</th>\n",
              "      <td>2.000000</td>\n",
              "      <td>0.950448</td>\n",
              "    </tr>\n",
              "    <tr>\n",
              "      <th>75%</th>\n",
              "      <td>2.000000</td>\n",
              "      <td>0.954545</td>\n",
              "    </tr>\n",
              "    <tr>\n",
              "      <th>80%</th>\n",
              "      <td>2.000000</td>\n",
              "      <td>0.958628</td>\n",
              "    </tr>\n",
              "    <tr>\n",
              "      <th>85%</th>\n",
              "      <td>2.000000</td>\n",
              "      <td>0.963270</td>\n",
              "    </tr>\n",
              "    <tr>\n",
              "      <th>90%</th>\n",
              "      <td>2.000000</td>\n",
              "      <td>0.968573</td>\n",
              "    </tr>\n",
              "    <tr>\n",
              "      <th>95%</th>\n",
              "      <td>2.000000</td>\n",
              "      <td>0.976653</td>\n",
              "    </tr>\n",
              "    <tr>\n",
              "      <th>99%</th>\n",
              "      <td>2.000000</td>\n",
              "      <td>0.989346</td>\n",
              "    </tr>\n",
              "    <tr>\n",
              "      <th>max</th>\n",
              "      <td>2.000000</td>\n",
              "      <td>0.998071</td>\n",
              "    </tr>\n",
              "  </tbody>\n",
              "</table>\n",
              "</div>"
            ],
            "text/plain": [
              "       q_score_label      q_score\n",
              "count   8,424.000000 8,424.000000\n",
              "mean        2.000000     0.937025\n",
              "std         0.000000     0.023348\n",
              "min         2.000000     0.894777\n",
              "1%          2.000000     0.896371\n",
              "5%          2.000000     0.900183\n",
              "10%         2.000000     0.905411\n",
              "15%         2.000000     0.910105\n",
              "20%         2.000000     0.914600\n",
              "25%         2.000000     0.918473\n",
              "30%         2.000000     0.922284\n",
              "35%         2.000000     0.925926\n",
              "40%         2.000000     0.928968\n",
              "45%         2.000000     0.932767\n",
              "50%         2.000000     0.936075\n",
              "55%         2.000000     0.939513\n",
              "60%         2.000000     0.942950\n",
              "65%         2.000000     0.946861\n",
              "70%         2.000000     0.950448\n",
              "75%         2.000000     0.954545\n",
              "80%         2.000000     0.958628\n",
              "85%         2.000000     0.963270\n",
              "90%         2.000000     0.968573\n",
              "95%         2.000000     0.976653\n",
              "99%         2.000000     0.989346\n",
              "max         2.000000     0.998071"
            ]
          },
          "execution_count": 24,
          "metadata": {},
          "output_type": "execute_result"
        }
      ],
      "source": [
        "get_distribution_from_label(df, label, 2, columns)"
      ]
    },
    {
      "cell_type": "markdown",
      "metadata": {
        "id": "uwkgGMKPYD8u"
      },
      "source": [
        "## channel "
      ]
    },
    {
      "cell_type": "code",
      "execution_count": 25,
      "metadata": {
        "id": "jka0JDOLYb3i"
      },
      "outputs": [],
      "source": [
        "channel_df = (df\n",
        "    .groupby(['channel_id'])\n",
        "    .agg({'id': lambda x: x.nunique(),\n",
        "          'channel_name': 'first',\n",
        "          'channel_category': 'first',\n",
        "          'channel_started': 'first',\n",
        "          'channel_rank': 'first', \n",
        "          'channel_subscribers': 'first'})\n",
        ")\n",
        "\n",
        "channel_df = channel_df.reset_index()\n",
        "channel_df.columns = [\n",
        "    'channel_id', 'num_videos', 'channel_name',\n",
        "    'channel_category', 'channel_started', 'channel_rank', 'channel_subscribers'              \n",
        "]"
      ]
    },
    {
      "cell_type": "code",
      "execution_count": 26,
      "metadata": {
        "colab": {
          "base_uri": "https://localhost:8080/",
          "height": 865
        },
        "id": "wZLj-YooYevd",
        "outputId": "85c08992-6dc8-417b-c708-b44f6fde58fc"
      },
      "outputs": [
        {
          "data": {
            "text/html": [
              "<div>\n",
              "<style scoped>\n",
              "    .dataframe tbody tr th:only-of-type {\n",
              "        vertical-align: middle;\n",
              "    }\n",
              "\n",
              "    .dataframe tbody tr th {\n",
              "        vertical-align: top;\n",
              "    }\n",
              "\n",
              "    .dataframe thead th {\n",
              "        text-align: right;\n",
              "    }\n",
              "</style>\n",
              "<table border=\"1\" class=\"dataframe\">\n",
              "  <thead>\n",
              "    <tr style=\"text-align: right;\">\n",
              "      <th></th>\n",
              "      <th>num_videos</th>\n",
              "      <th>channel_started</th>\n",
              "      <th>channel_rank</th>\n",
              "      <th>channel_subscribers</th>\n",
              "    </tr>\n",
              "  </thead>\n",
              "  <tbody>\n",
              "    <tr>\n",
              "      <th>count</th>\n",
              "      <td>72.000000</td>\n",
              "      <td>72.000000</td>\n",
              "      <td>72.000000</td>\n",
              "      <td>72.000000</td>\n",
              "    </tr>\n",
              "    <tr>\n",
              "      <th>mean</th>\n",
              "      <td>329.694444</td>\n",
              "      <td>2,013.819444</td>\n",
              "      <td>1,576.930556</td>\n",
              "      <td>859,009.388889</td>\n",
              "    </tr>\n",
              "    <tr>\n",
              "      <th>std</th>\n",
              "      <td>349.159378</td>\n",
              "      <td>3.045784</td>\n",
              "      <td>990.928407</td>\n",
              "      <td>1,838,520.951069</td>\n",
              "    </tr>\n",
              "    <tr>\n",
              "      <th>min</th>\n",
              "      <td>11.000000</td>\n",
              "      <td>2,006.000000</td>\n",
              "      <td>2.000000</td>\n",
              "      <td>10,000.000000</td>\n",
              "    </tr>\n",
              "    <tr>\n",
              "      <th>1%</th>\n",
              "      <td>11.000000</td>\n",
              "      <td>2,006.710000</td>\n",
              "      <td>16.200000</td>\n",
              "      <td>10,142.000000</td>\n",
              "    </tr>\n",
              "    <tr>\n",
              "      <th>5%</th>\n",
              "      <td>29.550000</td>\n",
              "      <td>2,009.000000</td>\n",
              "      <td>77.200000</td>\n",
              "      <td>14,565.000000</td>\n",
              "    </tr>\n",
              "    <tr>\n",
              "      <th>10%</th>\n",
              "      <td>41.100000</td>\n",
              "      <td>2,010.000000</td>\n",
              "      <td>108.600000</td>\n",
              "      <td>15,600.000000</td>\n",
              "    </tr>\n",
              "    <tr>\n",
              "      <th>15%</th>\n",
              "      <td>56.950000</td>\n",
              "      <td>2,010.000000</td>\n",
              "      <td>152.350000</td>\n",
              "      <td>19,190.000000</td>\n",
              "    </tr>\n",
              "    <tr>\n",
              "      <th>20%</th>\n",
              "      <td>70.200000</td>\n",
              "      <td>2,011.000000</td>\n",
              "      <td>185.200000</td>\n",
              "      <td>21,859.000000</td>\n",
              "    </tr>\n",
              "    <tr>\n",
              "      <th>25%</th>\n",
              "      <td>87.750000</td>\n",
              "      <td>2,011.750000</td>\n",
              "      <td>258.750000</td>\n",
              "      <td>28,450.000000</td>\n",
              "    </tr>\n",
              "    <tr>\n",
              "      <th>30%</th>\n",
              "      <td>115.400000</td>\n",
              "      <td>2,012.000000</td>\n",
              "      <td>1,481.500000</td>\n",
              "      <td>34,730.000000</td>\n",
              "    </tr>\n",
              "    <tr>\n",
              "      <th>35%</th>\n",
              "      <td>137.700000</td>\n",
              "      <td>2,013.000000</td>\n",
              "      <td>1,549.900000</td>\n",
              "      <td>53,920.000000</td>\n",
              "    </tr>\n",
              "    <tr>\n",
              "      <th>40%</th>\n",
              "      <td>147.600000</td>\n",
              "      <td>2,013.000000</td>\n",
              "      <td>1,633.600000</td>\n",
              "      <td>59,820.000000</td>\n",
              "    </tr>\n",
              "    <tr>\n",
              "      <th>45%</th>\n",
              "      <td>171.900000</td>\n",
              "      <td>2,013.950000</td>\n",
              "      <td>1,764.050000</td>\n",
              "      <td>73,260.000000</td>\n",
              "    </tr>\n",
              "    <tr>\n",
              "      <th>50%</th>\n",
              "      <td>213.500000</td>\n",
              "      <td>2,014.000000</td>\n",
              "      <td>1,906.000000</td>\n",
              "      <td>81,400.000000</td>\n",
              "    </tr>\n",
              "    <tr>\n",
              "      <th>55%</th>\n",
              "      <td>237.200000</td>\n",
              "      <td>2,015.000000</td>\n",
              "      <td>1,955.800000</td>\n",
              "      <td>106,200.000000</td>\n",
              "    </tr>\n",
              "    <tr>\n",
              "      <th>60%</th>\n",
              "      <td>261.800000</td>\n",
              "      <td>2,015.000000</td>\n",
              "      <td>2,065.400000</td>\n",
              "      <td>130,600.000000</td>\n",
              "    </tr>\n",
              "    <tr>\n",
              "      <th>65%</th>\n",
              "      <td>313.100000</td>\n",
              "      <td>2,016.000000</td>\n",
              "      <td>2,116.350000</td>\n",
              "      <td>151,050.000000</td>\n",
              "    </tr>\n",
              "    <tr>\n",
              "      <th>70%</th>\n",
              "      <td>383.400000</td>\n",
              "      <td>2,016.000000</td>\n",
              "      <td>2,323.400000</td>\n",
              "      <td>167,700.000000</td>\n",
              "    </tr>\n",
              "    <tr>\n",
              "      <th>75%</th>\n",
              "      <td>423.250000</td>\n",
              "      <td>2,016.000000</td>\n",
              "      <td>2,412.500000</td>\n",
              "      <td>1,330,000.000000</td>\n",
              "    </tr>\n",
              "    <tr>\n",
              "      <th>80%</th>\n",
              "      <td>481.200000</td>\n",
              "      <td>2,017.000000</td>\n",
              "      <td>2,535.600000</td>\n",
              "      <td>1,686,000.000000</td>\n",
              "    </tr>\n",
              "    <tr>\n",
              "      <th>85%</th>\n",
              "      <td>613.000000</td>\n",
              "      <td>2,017.000000</td>\n",
              "      <td>2,594.850000</td>\n",
              "      <td>1,931,500.000000</td>\n",
              "    </tr>\n",
              "    <tr>\n",
              "      <th>90%</th>\n",
              "      <td>872.200000</td>\n",
              "      <td>2,017.000000</td>\n",
              "      <td>2,668.800000</td>\n",
              "      <td>2,476,000.000000</td>\n",
              "    </tr>\n",
              "    <tr>\n",
              "      <th>95%</th>\n",
              "      <td>1,034.000000</td>\n",
              "      <td>2,018.000000</td>\n",
              "      <td>2,696.150000</td>\n",
              "      <td>3,133,000.000000</td>\n",
              "    </tr>\n",
              "    <tr>\n",
              "      <th>99%</th>\n",
              "      <td>1,497.830000</td>\n",
              "      <td>2,019.000000</td>\n",
              "      <td>2,827.450000</td>\n",
              "      <td>8,085,600.000000</td>\n",
              "    </tr>\n",
              "    <tr>\n",
              "      <th>max</th>\n",
              "      <td>1,517.000000</td>\n",
              "      <td>2,019.000000</td>\n",
              "      <td>2,831.000000</td>\n",
              "      <td>12,800,000.000000</td>\n",
              "    </tr>\n",
              "  </tbody>\n",
              "</table>\n",
              "</div>"
            ],
            "text/plain": [
              "        num_videos  channel_started  channel_rank  channel_subscribers\n",
              "count    72.000000        72.000000     72.000000            72.000000\n",
              "mean    329.694444     2,013.819444  1,576.930556       859,009.388889\n",
              "std     349.159378         3.045784    990.928407     1,838,520.951069\n",
              "min      11.000000     2,006.000000      2.000000        10,000.000000\n",
              "1%       11.000000     2,006.710000     16.200000        10,142.000000\n",
              "5%       29.550000     2,009.000000     77.200000        14,565.000000\n",
              "10%      41.100000     2,010.000000    108.600000        15,600.000000\n",
              "15%      56.950000     2,010.000000    152.350000        19,190.000000\n",
              "20%      70.200000     2,011.000000    185.200000        21,859.000000\n",
              "25%      87.750000     2,011.750000    258.750000        28,450.000000\n",
              "30%     115.400000     2,012.000000  1,481.500000        34,730.000000\n",
              "35%     137.700000     2,013.000000  1,549.900000        53,920.000000\n",
              "40%     147.600000     2,013.000000  1,633.600000        59,820.000000\n",
              "45%     171.900000     2,013.950000  1,764.050000        73,260.000000\n",
              "50%     213.500000     2,014.000000  1,906.000000        81,400.000000\n",
              "55%     237.200000     2,015.000000  1,955.800000       106,200.000000\n",
              "60%     261.800000     2,015.000000  2,065.400000       130,600.000000\n",
              "65%     313.100000     2,016.000000  2,116.350000       151,050.000000\n",
              "70%     383.400000     2,016.000000  2,323.400000       167,700.000000\n",
              "75%     423.250000     2,016.000000  2,412.500000     1,330,000.000000\n",
              "80%     481.200000     2,017.000000  2,535.600000     1,686,000.000000\n",
              "85%     613.000000     2,017.000000  2,594.850000     1,931,500.000000\n",
              "90%     872.200000     2,017.000000  2,668.800000     2,476,000.000000\n",
              "95%   1,034.000000     2,018.000000  2,696.150000     3,133,000.000000\n",
              "99%   1,497.830000     2,019.000000  2,827.450000     8,085,600.000000\n",
              "max   1,517.000000     2,019.000000  2,831.000000    12,800,000.000000"
            ]
          },
          "execution_count": 26,
          "metadata": {},
          "output_type": "execute_result"
        }
      ],
      "source": [
        "channel_df.describe(percentiles=percentiles)"
      ]
    },
    {
      "cell_type": "code",
      "execution_count": 27,
      "metadata": {
        "id": "OqSTDlH4YgeR"
      },
      "outputs": [],
      "source": [
        "channel_df = (df\n",
        "    .groupby(['channel_id'])\n",
        "    .agg({'id': lambda x: x.nunique(),\n",
        "          'channel_name': 'first',\n",
        "          'channel_category': 'first',\n",
        "          'channel_started': 'first',\n",
        "          'channel_rank': 'first', \n",
        "          'channel_subscribers': 'first',\n",
        "          'title_length': 'median',\n",
        "          'num_tags': 'median',\n",
        "          'delta_upload_date': 'median',\n",
        "          'duration': 'median',\n",
        "          'view_count': 'median',\n",
        "          'like_count': 'median',\n",
        "          'comment_count': 'median',\n",
        "          'dislike_count': 'median',\n",
        "          'like_per_view': 'median',\n",
        "          'comment_per_view': 'median',\n",
        "          'dislike_per_view': 'median',\n",
        "          'cl_engagement_rate': 'median',\n",
        "          'cld_engagement_rate': 'median',\n",
        "          'q_score': 'median'})\n",
        ")"
      ]
    },
    {
      "cell_type": "code",
      "execution_count": 28,
      "metadata": {
        "id": "ntk-lGCGYgvh"
      },
      "outputs": [],
      "source": [
        "channel_df = channel_df.reset_index()\n",
        "channel_df.columns = [\n",
        "    'channel_id', \n",
        "    'num_videos', \n",
        "    'channel_name',\n",
        "    'channel_category', \n",
        "    'channel_started', \n",
        "    'channel_rank', \n",
        "    'channel_subscribers',\n",
        "    'median_title_length', \n",
        "    'median_num_tags',\n",
        "    'median_delta_upload_date',\n",
        "    'median_duration',\n",
        "    'median_view_count',\n",
        "    'median_like_count', \n",
        "    'median_comment_count', \n",
        "    'median_dislike_count',\n",
        "    'median_like_per_view', \n",
        "    'median_comment_per_view',\n",
        "    'median_dislike_per_view', \n",
        "    'median_cl_engagement_rate',\n",
        "    'median_cld_engagement_rate', \n",
        "    'median_q_score'     \n",
        "]"
      ]
    },
    {
      "cell_type": "markdown",
      "metadata": {
        "id": "yO-gt3emYqJr"
      },
      "source": [
        "### by channel_cate "
      ]
    },
    {
      "cell_type": "code",
      "execution_count": 29,
      "metadata": {
        "id": "61a5mJWnZrEd"
      },
      "outputs": [],
      "source": [
        "channel_cate_df = (channel_df\n",
        "    .groupby(['channel_category'])\n",
        "    .agg({\n",
        "        'channel_name': 'count',\n",
        "        'channel_started': 'min',\n",
        "        'channel_rank': 'median',\n",
        "        'channel_subscribers': 'median',\n",
        "        'num_videos': 'median'\n",
        "    })\n",
        ")"
      ]
    },
    {
      "cell_type": "code",
      "execution_count": 30,
      "metadata": {
        "id": "3S461aN3ZssD"
      },
      "outputs": [],
      "source": [
        "channel_cate_df = channel_cate_df.reset_index()"
      ]
    },
    {
      "cell_type": "code",
      "execution_count": 31,
      "metadata": {
        "id": "skuBt3-tZuG_"
      },
      "outputs": [],
      "source": [
        "channel_cate_df.columns = [\n",
        "    'channel_category', 'num_channels', 'min_channel_started', \n",
        "    'median_channel_rank', 'median_channel_subscribers', 'median_num_videos'\n",
        "]"
      ]
    },
    {
      "cell_type": "markdown",
      "metadata": {
        "id": "NM5wN0VyZwEp"
      },
      "source": [
        "## video "
      ]
    },
    {
      "cell_type": "markdown",
      "metadata": {
        "id": "uOrwCgaUZ_MQ"
      },
      "source": [
        "### by channel_cate "
      ]
    },
    {
      "cell_type": "code",
      "execution_count": 32,
      "metadata": {
        "id": "D5XrkQjnZ0KR"
      },
      "outputs": [],
      "source": [
        "channel_cate_df = (df\n",
        "    .groupby(['channel_category'])\n",
        "    .agg({\n",
        "        'id': 'count',\n",
        "        'title_length': 'median',\n",
        "        'num_tags': 'median',\n",
        "        'delta_upload_date': 'median',\n",
        "        'duration': 'median',\n",
        "        'view_count': 'median',\n",
        "        'like_count': 'median',\n",
        "        'comment_count': 'median',\n",
        "        'dislike_count': 'median',\n",
        "        'like_per_view': 'median',\n",
        "        'comment_per_view': 'median',\n",
        "        'dislike_per_view': 'median',\n",
        "    })\n",
        ")"
      ]
    },
    {
      "cell_type": "code",
      "execution_count": 33,
      "metadata": {
        "id": "UApS3SLnZ77A"
      },
      "outputs": [],
      "source": [
        "channel_cate_df = channel_cate_df.reset_index()"
      ]
    },
    {
      "cell_type": "code",
      "execution_count": 34,
      "metadata": {
        "id": "cv7t-I3sZ8hd"
      },
      "outputs": [],
      "source": [
        "channel_cate_df.columns = [\n",
        "    'channel_category', 'num_videos',\n",
        "    'median_title_length', 'median_num_tags',\n",
        "    'median_delta_upload_date', 'median_duration',\n",
        "    'median_view_count', 'median_like_count', \n",
        "    'median_comment_count', 'median_dislike_count',\n",
        "    'median_like_per_view', 'median_comment_per_view',\n",
        "    'median_dislike_per_view', \n",
        "]"
      ]
    },
    {
      "cell_type": "code",
      "execution_count": 35,
      "metadata": {
        "colab": {
          "base_uri": "https://localhost:8080/",
          "height": 457
        },
        "id": "01krF5u8aB1F",
        "outputId": "69738d11-e02a-45eb-d754-1d84a1b71ce5"
      },
      "outputs": [
        {
          "data": {
            "text/html": [
              "<div>\n",
              "<style scoped>\n",
              "    .dataframe tbody tr th:only-of-type {\n",
              "        vertical-align: middle;\n",
              "    }\n",
              "\n",
              "    .dataframe tbody tr th {\n",
              "        vertical-align: top;\n",
              "    }\n",
              "\n",
              "    .dataframe thead th {\n",
              "        text-align: right;\n",
              "    }\n",
              "</style>\n",
              "<table border=\"1\" class=\"dataframe\">\n",
              "  <thead>\n",
              "    <tr style=\"text-align: right;\">\n",
              "      <th></th>\n",
              "      <th>0</th>\n",
              "      <th>1</th>\n",
              "      <th>2</th>\n",
              "      <th>3</th>\n",
              "    </tr>\n",
              "  </thead>\n",
              "  <tbody>\n",
              "    <tr>\n",
              "      <th>channel_category</th>\n",
              "      <td>Comedy</td>\n",
              "      <td>Education</td>\n",
              "      <td>Science &amp; Technology</td>\n",
              "      <td>Travel &amp; Events</td>\n",
              "    </tr>\n",
              "    <tr>\n",
              "      <th>num_videos</th>\n",
              "      <td>6604</td>\n",
              "      <td>3881</td>\n",
              "      <td>8449</td>\n",
              "      <td>4804</td>\n",
              "    </tr>\n",
              "    <tr>\n",
              "      <th>median_title_length</th>\n",
              "      <td>17.000000</td>\n",
              "      <td>14.000000</td>\n",
              "      <td>12.000000</td>\n",
              "      <td>15.000000</td>\n",
              "    </tr>\n",
              "    <tr>\n",
              "      <th>median_num_tags</th>\n",
              "      <td>13.000000</td>\n",
              "      <td>13.000000</td>\n",
              "      <td>9.000000</td>\n",
              "      <td>12.000000</td>\n",
              "    </tr>\n",
              "    <tr>\n",
              "      <th>median_delta_upload_date</th>\n",
              "      <td>916.000000</td>\n",
              "      <td>1,129.000000</td>\n",
              "      <td>1,483.000000</td>\n",
              "      <td>870.000000</td>\n",
              "    </tr>\n",
              "    <tr>\n",
              "      <th>median_duration</th>\n",
              "      <td>17.966667</td>\n",
              "      <td>9.016667</td>\n",
              "      <td>5.950000</td>\n",
              "      <td>13.883333</td>\n",
              "    </tr>\n",
              "    <tr>\n",
              "      <th>median_view_count</th>\n",
              "      <td>140,783.000000</td>\n",
              "      <td>61,817.000000</td>\n",
              "      <td>28,233.000000</td>\n",
              "      <td>8,974.000000</td>\n",
              "    </tr>\n",
              "    <tr>\n",
              "      <th>median_like_count</th>\n",
              "      <td>745.500000</td>\n",
              "      <td>403.000000</td>\n",
              "      <td>103.000000</td>\n",
              "      <td>63.000000</td>\n",
              "    </tr>\n",
              "    <tr>\n",
              "      <th>median_comment_count</th>\n",
              "      <td>44.000000</td>\n",
              "      <td>20.000000</td>\n",
              "      <td>32.000000</td>\n",
              "      <td>9.000000</td>\n",
              "    </tr>\n",
              "    <tr>\n",
              "      <th>median_dislike_count</th>\n",
              "      <td>81.000000</td>\n",
              "      <td>27.000000</td>\n",
              "      <td>12.000000</td>\n",
              "      <td>5.000000</td>\n",
              "    </tr>\n",
              "    <tr>\n",
              "      <th>median_like_per_view</th>\n",
              "      <td>0.004204</td>\n",
              "      <td>0.008433</td>\n",
              "      <td>0.008051</td>\n",
              "      <td>0.006985</td>\n",
              "    </tr>\n",
              "    <tr>\n",
              "      <th>median_comment_per_view</th>\n",
              "      <td>0.000315</td>\n",
              "      <td>0.001005</td>\n",
              "      <td>0.001153</td>\n",
              "      <td>0.001029</td>\n",
              "    </tr>\n",
              "    <tr>\n",
              "      <th>median_dislike_per_view</th>\n",
              "      <td>0.000527</td>\n",
              "      <td>0.000690</td>\n",
              "      <td>0.000536</td>\n",
              "      <td>0.000561</td>\n",
              "    </tr>\n",
              "  </tbody>\n",
              "</table>\n",
              "</div>"
            ],
            "text/plain": [
              "                                      0             1                     2  \\\n",
              "channel_category                 Comedy     Education  Science & Technology   \n",
              "num_videos                         6604          3881                  8449   \n",
              "median_title_length           17.000000     14.000000             12.000000   \n",
              "median_num_tags               13.000000     13.000000              9.000000   \n",
              "median_delta_upload_date     916.000000  1,129.000000          1,483.000000   \n",
              "median_duration               17.966667      9.016667              5.950000   \n",
              "median_view_count        140,783.000000 61,817.000000         28,233.000000   \n",
              "median_like_count            745.500000    403.000000            103.000000   \n",
              "median_comment_count          44.000000     20.000000             32.000000   \n",
              "median_dislike_count          81.000000     27.000000             12.000000   \n",
              "median_like_per_view           0.004204      0.008433              0.008051   \n",
              "median_comment_per_view        0.000315      0.001005              0.001153   \n",
              "median_dislike_per_view        0.000527      0.000690              0.000536   \n",
              "\n",
              "                                        3  \n",
              "channel_category          Travel & Events  \n",
              "num_videos                           4804  \n",
              "median_title_length             15.000000  \n",
              "median_num_tags                 12.000000  \n",
              "median_delta_upload_date       870.000000  \n",
              "median_duration                 13.883333  \n",
              "median_view_count            8,974.000000  \n",
              "median_like_count               63.000000  \n",
              "median_comment_count             9.000000  \n",
              "median_dislike_count             5.000000  \n",
              "median_like_per_view             0.006985  \n",
              "median_comment_per_view          0.001029  \n",
              "median_dislike_per_view          0.000561  "
            ]
          },
          "execution_count": 35,
          "metadata": {},
          "output_type": "execute_result"
        }
      ],
      "source": [
        "\n",
        "channel_cate_df.T"
      ]
    },
    {
      "cell_type": "markdown",
      "metadata": {
        "id": "ZoHG76UDakl7"
      },
      "source": [
        "## correlation "
      ]
    },
    {
      "cell_type": "markdown",
      "metadata": {
        "id": "jmkUUrImaktL"
      },
      "source": [
        "### by video "
      ]
    },
    {
      "cell_type": "code",
      "execution_count": 73,
      "metadata": {
        "id": "0Hv7anZNapAT"
      },
      "outputs": [],
      "source": [
        "def plot_corr(df, columns, label: str = ' by video'):\n",
        "    fig, ax = plt.subplots(figsize=(8, 8))\n",
        "    ax = sns.heatmap(df[columns].corr(), annot=True, fmt=\".2f\", linewidths=.5, square = True, cmap=\"Blues\", vmin=-1, vmax=1)\n",
        "    plt.xlabel('Engagement Metrics' + label, size = 10)\n",
        "    plt.ylabel('Engagement Metrics' + label, size = 10)\n",
        "    plt.title('Correlation coefficient of Engagement Metrics' + label, size = 12)\n",
        "    plt.show()"
      ]
    },
    {
      "cell_type": "code",
      "execution_count": 74,
      "metadata": {
        "id": "eZgP0JlHaqJc"
      },
      "outputs": [],
      "source": [
        "columns = [\n",
        "    'channel_subscribers',\n",
        "    'delta_upload_date',\n",
        "    'view_count',\n",
        "    'like_count',\n",
        "    'comment_count',\n",
        "    'dislike_count',\n",
        "    'cl_engagement_rate',\n",
        "    'cld_engagement_rate',\n",
        "    'q_score'\n",
        "]"
      ]
    },
    {
      "cell_type": "code",
      "execution_count": 75,
      "metadata": {
        "colab": {
          "base_uri": "https://localhost:8080/",
          "height": 658
        },
        "id": "Wnc2asbcawlJ",
        "outputId": "62dfe8e0-e7d2-4d38-d03b-61cfb09bc8c1"
      },
      "outputs": [
        {
          "data": {
            "image/png": "[encoded data removed]",
            "text/plain": [
              "<Figure size 800x800 with 2 Axes>"
            ]
          },
          "metadata": {},
          "output_type": "display_data"
        }
      ],
      "source": [
        "plot_corr(df, columns)"
      ]
    },
    {
      "cell_type": "markdown",
      "metadata": {
        "id": "yPLLWta_a7VE"
      },
      "source": [
        "### by channel "
      ]
    },
    {
      "cell_type": "code",
      "execution_count": 77,
      "metadata": {
        "id": "AS-G1UWga9Uh"
      },
      "outputs": [],
      "source": [
        "channel_df = (df\n",
        "    .groupby(['channel_id'])\n",
        "    .agg({\n",
        "        'channel_subscribers': 'first',\n",
        "        'channel_category': 'first',\n",
        "        'channel_name': 'first',\n",
        "        'delta_upload_date': 'median',\n",
        "        'view_count': 'median',\n",
        "        'like_count': 'median',\n",
        "        'comment_count': 'median',\n",
        "        'dislike_count': 'median',\n",
        "        'cl_engagement_rate': 'median',\n",
        "        'cld_engagement_rate': 'median',\n",
        "        'q_score': 'median'})\n",
        ")\n",
        "\n",
        "channel_df = channel_df.reset_index()\n",
        "channel_df.columns = [\n",
        "    'channel_id', 'channel_subscribers', 'channel_category', 'channel_name', 'median_delta_upload_date',\n",
        "    'median_view_count', 'median_like_count', 'median_comment_count', 'median_dislike_count',\n",
        "    'median_cl_engagement_rate', 'median_cld_engagement_rate', 'median_q_score'              \n",
        "]"
      ]
    },
    {
      "cell_type": "code",
      "execution_count": 78,
      "metadata": {
        "id": "mgyhsLj6bBY2"
      },
      "outputs": [],
      "source": [
        "columns = [\n",
        "    'channel_subscribers',\n",
        "    'median_delta_upload_date',\n",
        "    'median_view_count',\n",
        "    'median_like_count',\n",
        "    'median_comment_count',\n",
        "    'median_dislike_count',\n",
        "    'median_cl_engagement_rate',\n",
        "    'median_cld_engagement_rate',\n",
        "    'median_q_score'\n",
        "]"
      ]
    },
    {
      "cell_type": "code",
      "execution_count": 79,
      "metadata": {
        "colab": {
          "base_uri": "https://localhost:8080/",
          "height": 690
        },
        "id": "s2STzvu-bBjP",
        "outputId": "88fd3031-b7e0-404b-ecd7-db8c0279fdc6"
      },
      "outputs": [
        {
          "data": {
            "image/png": "[encoded data removed]",
            "text/plain": [
              "<Figure size 800x800 with 2 Axes>"
            ]
          },
          "metadata": {},
          "output_type": "display_data"
        }
      ],
      "source": [
        "plot_corr(channel_df, columns, label=' by channel')"
      ]
    },
    {
      "cell_type": "markdown",
      "metadata": {
        "id": "XSwm1CGqaD20"
      },
      "source": [
        "## by time series "
      ]
    },
    {
      "cell_type": "markdown",
      "metadata": {
        "id": "BQl8tD0eaJkE"
      },
      "source": [
        "### number of videos "
      ]
    },
    {
      "cell_type": "code",
      "execution_count": 42,
      "metadata": {
        "id": "ZK4RHEOBaKft"
      },
      "outputs": [],
      "source": [
        "df['upload_date_by_year'] = df['upload_date'].dt.year"
      ]
    },
    {
      "cell_type": "code",
      "execution_count": 43,
      "metadata": {
        "id": "bda4crFlaLqH"
      },
      "outputs": [],
      "source": [
        "channel_cate_by_time_series_df = (df\n",
        "    .groupby(['channel_category','upload_date_by_year'])\n",
        "    .agg({\n",
        "        'id': 'count',\n",
        "        'cl_engagement_rate': 'median',\n",
        "        'cld_engagement_rate': 'median',\n",
        "        'q_score': 'median',\n",
        "    })\n",
        ")\n",
        "\n",
        "channel_cate_by_time_series_df = channel_cate_by_time_series_df.reset_index()\n",
        "channel_cate_by_time_series_df.columns = [\n",
        "    'channel_category', 'upload_date_by_year',\n",
        "    'num_videos', 'median_cl_engagement_rate',\n",
        "    'median_cld_engagement_rate', 'median_q_score'                                          \n",
        "]"
      ]
    },
    {
      "cell_type": "code",
      "execution_count": 44,
      "metadata": {},
      "outputs": [],
      "source": [
        "# !pip3 install notebook"
      ]
    },
    {
      "cell_type": "code",
      "execution_count": 45,
      "metadata": {
        "colab": {
          "base_uri": "https://localhost:8080/",
          "height": 562
        },
        "id": "Rb3wbdp3aNIZ",
        "outputId": "61099ddf-1baf-4b4a-adda-37d61c80bda7"
      },
      "outputs": [
        {
          "data": {
            "application/vnd.plotly.v1+json": {
              "config": {
                "plotlyServerURL": "https://plot.ly"
              },
              "data": [
                {
                  "hovertemplate": "channel_category=Comedy<br>upload_date_by_year=%{x}<br>num_videos=%{y}<extra></extra>",
                  "legendgroup": "Comedy",
                  "line": {
                    "color": "#636efa",
                    "dash": "solid"
                  },
                  "marker": {
                    "symbol": "circle"
                  },
                  "mode": "lines",
                  "name": "Comedy",
                  "orientation": "v",
                  "showlegend": true,
                  "type": "scatter",
                  "x": [
                    2011,
                    2012,
                    2013,
                    2014,
                    2015,
                    2016,
                    2017,
                    2018,
                    2019,
                    2020,
                    2021
                  ],
                  "xaxis": "x",
                  "y": [
                    3,
                    13,
                    18,
                    53,
                    138,
                    751,
                    1117,
                    910,
                    1186,
                    1205,
                    1210
                  ],
                  "yaxis": "y"
                },
                {
                  "hovertemplate": "channel_category=Education<br>upload_date_by_year=%{x}<br>num_videos=%{y}<extra></extra>",
                  "legendgroup": "Education",
                  "line": {
                    "color": "#EF553B",
                    "dash": "solid"
                  },
                  "marker": {
                    "symbol": "circle"
                  },
                  "mode": "lines",
                  "name": "Education",
                  "orientation": "v",
                  "showlegend": true,
                  "type": "scatter",
                  "x": [
                    2010,
                    2011,
                    2012,
                    2013,
                    2014,
                    2015,
                    2016,
                    2017,
                    2018,
                    2019,
                    2020,
                    2021
                  ],
                  "xaxis": "x",
                  "y": [
                    3,
                    16,
                    61,
                    33,
                    259,
                    317,
                    218,
                    466,
                    846,
                    771,
                    456,
                    435
                  ],
                  "yaxis": "y"
                },
                {
                  "hovertemplate": "channel_category=Science & Technology<br>upload_date_by_year=%{x}<br>num_videos=%{y}<extra></extra>",
                  "legendgroup": "Science & Technology",
                  "line": {
                    "color": "#00cc96",
                    "dash": "solid"
                  },
                  "marker": {
                    "symbol": "circle"
                  },
                  "mode": "lines",
                  "name": "Science & Technology",
                  "orientation": "v",
                  "showlegend": true,
                  "type": "scatter",
                  "x": [
                    2010,
                    2011,
                    2012,
                    2013,
                    2014,
                    2015,
                    2016,
                    2017,
                    2018,
                    2019,
                    2020,
                    2021
                  ],
                  "xaxis": "x",
                  "y": [
                    16,
                    85,
                    117,
                    224,
                    504,
                    917,
                    1183,
                    1568,
                    1017,
                    1245,
                    1000,
                    573
                  ],
                  "yaxis": "y"
                },
                {
                  "hovertemplate": "channel_category=Travel & Events<br>upload_date_by_year=%{x}<br>num_videos=%{y}<extra></extra>",
                  "legendgroup": "Travel & Events",
                  "line": {
                    "color": "#ab63fa",
                    "dash": "solid"
                  },
                  "marker": {
                    "symbol": "circle"
                  },
                  "mode": "lines",
                  "name": "Travel & Events",
                  "orientation": "v",
                  "showlegend": true,
                  "type": "scatter",
                  "x": [
                    2013,
                    2014,
                    2015,
                    2016,
                    2017,
                    2018,
                    2019,
                    2020,
                    2021
                  ],
                  "xaxis": "x",
                  "y": [
                    1,
                    137,
                    48,
                    332,
                    562,
                    848,
                    1042,
                    1247,
                    587
                  ],
                  "yaxis": "y"
                }
              ],
              "layout": {
                "legend": {
                  "title": {
                    "text": "channel_category"
                  },
                  "tracegroupgap": 0
                },
                "margin": {
                  "t": 60
                },
                "template": {
                  "data": {
                    "bar": [
                      {
                        "error_x": {
                          "color": "#2a3f5f"
                        },
                        "error_y": {
                          "color": "#2a3f5f"
                        },
                        "marker": {
                          "line": {
                            "color": "#E5ECF6",
                            "width": 0.5
                          },
                          "pattern": {
                            "fillmode": "overlay",
                            "size": 10,
                            "solidity": 0.2
                          }
                        },
                        "type": "bar"
                      }
                    ],
                    "barpolar": [
                      {
                        "marker": {
                          "line": {
                            "color": "#E5ECF6",
                            "width": 0.5
                          },
                          "pattern": {
                            "fillmode": "overlay",
                            "size": 10,
                            "solidity": 0.2
                          }
                        },
                        "type": "barpolar"
                      }
                    ],
                    "carpet": [
                      {
                        "aaxis": {
                          "endlinecolor": "#2a3f5f",
                          "gridcolor": "white",
                          "linecolor": "white",
                          "minorgridcolor": "white",
                          "startlinecolor": "#2a3f5f"
                        },
                        "baxis": {
                          "endlinecolor": "#2a3f5f",
                          "gridcolor": "white",
                          "linecolor": "white",
                          "minorgridcolor": "white",
                          "startlinecolor": "#2a3f5f"
                        },
                        "type": "carpet"
                      }
                    ],
                    "choropleth": [
                      {
                        "colorbar": {
                          "outlinewidth": 0,
                          "ticks": ""
                        },
                        "type": "choropleth"
                      }
                    ],
                    "contour": [
                      {
                        "colorbar": {
                          "outlinewidth": 0,
                          "ticks": ""
                        },
                        "colorscale": [
                          [
                            0,
                            "#0d0887"
                          ],
                          [
                            0.1111111111111111,
                            "#46039f"
                          ],
                          [
                            0.2222222222222222,
                            "#7201a8"
                          ],
                          [
                            0.3333333333333333,
                            "#9c179e"
                          ],
                          [
                            0.4444444444444444,
                            "#bd3786"
                          ],
                          [
                            0.5555555555555556,
                            "#d8576b"
                          ],
                          [
                            0.6666666666666666,
                            "#ed7953"
                          ],
                          [
                            0.7777777777777778,
                            "#fb9f3a"
                          ],
                          [
                            0.8888888888888888,
                            "#fdca26"
                          ],
                          [
                            1,
                            "#f0f921"
                          ]
                        ],
                        "type": "contour"
                      }
                    ],
                    "contourcarpet": [
                      {
                        "colorbar": {
                          "outlinewidth": 0,
                          "ticks": ""
                        },
                        "type": "contourcarpet"
                      }
                    ],
                    "heatmap": [
                      {
                        "colorbar": {
                          "outlinewidth": 0,
                          "ticks": ""
                        },
                        "colorscale": [
                          [
                            0,
                            "#0d0887"
                          ],
                          [
                            0.1111111111111111,
                            "#46039f"
                          ],
                          [
                            0.2222222222222222,
                            "#7201a8"
                          ],
                          [
                            0.3333333333333333,
                            "#9c179e"
                          ],
                          [
                            0.4444444444444444,
                            "#bd3786"
                          ],
                          [
                            0.5555555555555556,
                            "#d8576b"
                          ],
                          [
                            0.6666666666666666,
                            "#ed7953"
                          ],
                          [
                            0.7777777777777778,
                            "#fb9f3a"
                          ],
                          [
                            0.8888888888888888,
                            "#fdca26"
                          ],
                          [
                            1,
                            "#f0f921"
                          ]
                        ],
                        "type": "heatmap"
                      }
                    ],
                    "heatmapgl": [
                      {
                        "colorbar": {
                          "outlinewidth": 0,
                          "ticks": ""
                        },
                        "colorscale": [
                          [
                            0,
                            "#0d0887"
                          ],
                          [
                            0.1111111111111111,
                            "#46039f"
                          ],
                          [
                            0.2222222222222222,
                            "#7201a8"
                          ],
                          [
                            0.3333333333333333,
                            "#9c179e"
                          ],
                          [
                            0.4444444444444444,
                            "#bd3786"
                          ],
                          [
                            0.5555555555555556,
                            "#d8576b"
                          ],
                          [
                            0.6666666666666666,
                            "#ed7953"
                          ],
                          [
                            0.7777777777777778,
                            "#fb9f3a"
                          ],
                          [
                            0.8888888888888888,
                            "#fdca26"
                          ],
                          [
                            1,
                            "#f0f921"
                          ]
                        ],
                        "type": "heatmapgl"
                      }
                    ],
                    "histogram": [
                      {
                        "marker": {
                          "pattern": {
                            "fillmode": "overlay",
                            "size": 10,
                            "solidity": 0.2
                          }
                        },
                        "type": "histogram"
                      }
                    ],
                    "histogram2d": [
                      {
                        "colorbar": {
                          "outlinewidth": 0,
                          "ticks": ""
                        },
                        "colorscale": [
                          [
                            0,
                            "#0d0887"
                          ],
                          [
                            0.1111111111111111,
                            "#46039f"
                          ],
                          [
                            0.2222222222222222,
                            "#7201a8"
                          ],
                          [
                            0.3333333333333333,
                            "#9c179e"
                          ],
                          [
                            0.4444444444444444,
                            "#bd3786"
                          ],
                          [
                            0.5555555555555556,
                            "#d8576b"
                          ],
                          [
                            0.6666666666666666,
                            "#ed7953"
                          ],
                          [
                            0.7777777777777778,
                            "#fb9f3a"
                          ],
                          [
                            0.8888888888888888,
                            "#fdca26"
                          ],
                          [
                            1,
                            "#f0f921"
                          ]
                        ],
                        "type": "histogram2d"
                      }
                    ],
                    "histogram2dcontour": [
                      {
                        "colorbar": {
                          "outlinewidth": 0,
                          "ticks": ""
                        },
                        "colorscale": [
                          [
                            0,
                            "#0d0887"
                          ],
                          [
                            0.1111111111111111,
                            "#46039f"
                          ],
                          [
                            0.2222222222222222,
                            "#7201a8"
                          ],
                          [
                            0.3333333333333333,
                            "#9c179e"
                          ],
                          [
                            0.4444444444444444,
                            "#bd3786"
                          ],
                          [
                            0.5555555555555556,
                            "#d8576b"
                          ],
                          [
                            0.6666666666666666,
                            "#ed7953"
                          ],
                          [
                            0.7777777777777778,
                            "#fb9f3a"
                          ],
                          [
                            0.8888888888888888,
                            "#fdca26"
                          ],
                          [
                            1,
                            "#f0f921"
                          ]
                        ],
                        "type": "histogram2dcontour"
                      }
                    ],
                    "mesh3d": [
                      {
                        "colorbar": {
                          "outlinewidth": 0,
                          "ticks": ""
                        },
                        "type": "mesh3d"
                      }
                    ],
                    "parcoords": [
                      {
                        "line": {
                          "colorbar": {
                            "outlinewidth": 0,
                            "ticks": ""
                          }
                        },
                        "type": "parcoords"
                      }
                    ],
                    "pie": [
                      {
                        "automargin": true,
                        "type": "pie"
                      }
                    ],
                    "scatter": [
                      {
                        "fillpattern": {
                          "fillmode": "overlay",
                          "size": 10,
                          "solidity": 0.2
                        },
                        "type": "scatter"
                      }
                    ],
                    "scatter3d": [
                      {
                        "line": {
                          "colorbar": {
                            "outlinewidth": 0,
                            "ticks": ""
                          }
                        },
                        "marker": {
                          "colorbar": {
                            "outlinewidth": 0,
                            "ticks": ""
                          }
                        },
                        "type": "scatter3d"
                      }
                    ],
                    "scattercarpet": [
                      {
                        "marker": {
                          "colorbar": {
                            "outlinewidth": 0,
                            "ticks": ""
                          }
                        },
                        "type": "scattercarpet"
                      }
                    ],
                    "scattergeo": [
                      {
                        "marker": {
                          "colorbar": {
                            "outlinewidth": 0,
                            "ticks": ""
                          }
                        },
                        "type": "scattergeo"
                      }
                    ],
                    "scattergl": [
                      {
                        "marker": {
                          "colorbar": {
                            "outlinewidth": 0,
                            "ticks": ""
                          }
                        },
                        "type": "scattergl"
                      }
                    ],
                    "scattermapbox": [
                      {
                        "marker": {
                          "colorbar": {
                            "outlinewidth": 0,
                            "ticks": ""
                          }
                        },
                        "type": "scattermapbox"
                      }
                    ],
                    "scatterpolar": [
                      {
                        "marker": {
                          "colorbar": {
                            "outlinewidth": 0,
                            "ticks": ""
                          }
                        },
                        "type": "scatterpolar"
                      }
                    ],
                    "scatterpolargl": [
                      {
                        "marker": {
                          "colorbar": {
                            "outlinewidth": 0,
                            "ticks": ""
                          }
                        },
                        "type": "scatterpolargl"
                      }
                    ],
                    "scatterternary": [
                      {
                        "marker": {
                          "colorbar": {
                            "outlinewidth": 0,
                            "ticks": ""
                          }
                        },
                        "type": "scatterternary"
                      }
                    ],
                    "surface": [
                      {
                        "colorbar": {
                          "outlinewidth": 0,
                          "ticks": ""
                        },
                        "colorscale": [
                          [
                            0,
                            "#0d0887"
                          ],
                          [
                            0.1111111111111111,
                            "#46039f"
                          ],
                          [
                            0.2222222222222222,
                            "#7201a8"
                          ],
                          [
                            0.3333333333333333,
                            "#9c179e"
                          ],
                          [
                            0.4444444444444444,
                            "#bd3786"
                          ],
                          [
                            0.5555555555555556,
                            "#d8576b"
                          ],
                          [
                            0.6666666666666666,
                            "#ed7953"
                          ],
                          [
                            0.7777777777777778,
                            "#fb9f3a"
                          ],
                          [
                            0.8888888888888888,
                            "#fdca26"
                          ],
                          [
                            1,
                            "#f0f921"
                          ]
                        ],
                        "type": "surface"
                      }
                    ],
                    "table": [
                      {
                        "cells": {
                          "fill": {
                            "color": "#EBF0F8"
                          },
                          "line": {
                            "color": "white"
                          }
                        },
                        "header": {
                          "fill": {
                            "color": "#C8D4E3"
                          },
                          "line": {
                            "color": "white"
                          }
                        },
                        "type": "table"
                      }
                    ]
                  },
                  "layout": {
                    "annotationdefaults": {
                      "arrowcolor": "#2a3f5f",
                      "arrowhead": 0,
                      "arrowwidth": 1
                    },
                    "autotypenumbers": "strict",
                    "coloraxis": {
                      "colorbar": {
                        "outlinewidth": 0,
                        "ticks": ""
                      }
                    },
                    "colorscale": {
                      "diverging": [
                        [
                          0,
                          "#8e0152"
                        ],
                        [
                          0.1,
                          "#c51b7d"
                        ],
                        [
                          0.2,
                          "#de77ae"
                        ],
                        [
                          0.3,
                          "#f1b6da"
                        ],
                        [
                          0.4,
                          "#fde0ef"
                        ],
                        [
                          0.5,
                          "#f7f7f7"
                        ],
                        [
                          0.6,
                          "#e6f5d0"
                        ],
                        [
                          0.7,
                          "#b8e186"
                        ],
                        [
                          0.8,
                          "#7fbc41"
                        ],
                        [
                          0.9,
                          "#4d9221"
                        ],
                        [
                          1,
                          "#276419"
                        ]
                      ],
                      "sequential": [
                        [
                          0,
                          "#0d0887"
                        ],
                        [
                          0.1111111111111111,
                          "#46039f"
                        ],
                        [
                          0.2222222222222222,
                          "#7201a8"
                        ],
                        [
                          0.3333333333333333,
                          "#9c179e"
                        ],
                        [
                          0.4444444444444444,
                          "#bd3786"
                        ],
                        [
                          0.5555555555555556,
                          "#d8576b"
                        ],
                        [
                          0.6666666666666666,
                          "#ed7953"
                        ],
                        [
                          0.7777777777777778,
                          "#fb9f3a"
                        ],
                        [
                          0.8888888888888888,
                          "#fdca26"
                        ],
                        [
                          1,
                          "#f0f921"
                        ]
                      ],
                      "sequentialminus": [
                        [
                          0,
                          "#0d0887"
                        ],
                        [
                          0.1111111111111111,
                          "#46039f"
                        ],
                        [
                          0.2222222222222222,
                          "#7201a8"
                        ],
                        [
                          0.3333333333333333,
                          "#9c179e"
                        ],
                        [
                          0.4444444444444444,
                          "#bd3786"
                        ],
                        [
                          0.5555555555555556,
                          "#d8576b"
                        ],
                        [
                          0.6666666666666666,
                          "#ed7953"
                        ],
                        [
                          0.7777777777777778,
                          "#fb9f3a"
                        ],
                        [
                          0.8888888888888888,
                          "#fdca26"
                        ],
                        [
                          1,
                          "#f0f921"
                        ]
                      ]
                    },
                    "colorway": [
                      "#636efa",
                      "#EF553B",
                      "#00cc96",
                      "#ab63fa",
                      "#FFA15A",
                      "#19d3f3",
                      "#FF6692",
                      "#B6E880",
                      "#FF97FF",
                      "#FECB52"
                    ],
                    "font": {
                      "color": "#2a3f5f"
                    },
                    "geo": {
                      "bgcolor": "white",
                      "lakecolor": "white",
                      "landcolor": "#E5ECF6",
                      "showlakes": true,
                      "showland": true,
                      "subunitcolor": "white"
                    },
                    "hoverlabel": {
                      "align": "left"
                    },
                    "hovermode": "closest",
                    "mapbox": {
                      "style": "light"
                    },
                    "paper_bgcolor": "white",
                    "plot_bgcolor": "#E5ECF6",
                    "polar": {
                      "angularaxis": {
                        "gridcolor": "white",
                        "linecolor": "white",
                        "ticks": ""
                      },
                      "bgcolor": "#E5ECF6",
                      "radialaxis": {
                        "gridcolor": "white",
                        "linecolor": "white",
                        "ticks": ""
                      }
                    },
                    "scene": {
                      "xaxis": {
                        "backgroundcolor": "#E5ECF6",
                        "gridcolor": "white",
                        "gridwidth": 2,
                        "linecolor": "white",
                        "showbackground": true,
                        "ticks": "",
                        "zerolinecolor": "white"
                      },
                      "yaxis": {
                        "backgroundcolor": "#E5ECF6",
                        "gridcolor": "white",
                        "gridwidth": 2,
                        "linecolor": "white",
                        "showbackground": true,
                        "ticks": "",
                        "zerolinecolor": "white"
                      },
                      "zaxis": {
                        "backgroundcolor": "#E5ECF6",
                        "gridcolor": "white",
                        "gridwidth": 2,
                        "linecolor": "white",
                        "showbackground": true,
                        "ticks": "",
                        "zerolinecolor": "white"
                      }
                    },
                    "shapedefaults": {
                      "line": {
                        "color": "#2a3f5f"
                      }
                    },
                    "ternary": {
                      "aaxis": {
                        "gridcolor": "white",
                        "linecolor": "white",
                        "ticks": ""
                      },
                      "baxis": {
                        "gridcolor": "white",
                        "linecolor": "white",
                        "ticks": ""
                      },
                      "bgcolor": "#E5ECF6",
                      "caxis": {
                        "gridcolor": "white",
                        "linecolor": "white",
                        "ticks": ""
                      }
                    },
                    "title": {
                      "x": 0.05
                    },
                    "xaxis": {
                      "automargin": true,
                      "gridcolor": "white",
                      "linecolor": "white",
                      "ticks": "",
                      "title": {
                        "standoff": 15
                      },
                      "zerolinecolor": "white",
                      "zerolinewidth": 2
                    },
                    "yaxis": {
                      "automargin": true,
                      "gridcolor": "white",
                      "linecolor": "white",
                      "ticks": "",
                      "title": {
                        "standoff": 15
                      },
                      "zerolinecolor": "white",
                      "zerolinewidth": 2
                    }
                  }
                },
                "title": {
                  "text": "Number of video by channel category and time series"
                },
                "xaxis": {
                  "anchor": "y",
                  "domain": [
                    0,
                    1
                  ],
                  "title": {
                    "text": "Year of updoad date"
                  }
                },
                "yaxis": {
                  "anchor": "x",
                  "domain": [
                    0,
                    1
                  ],
                  "title": {
                    "text": "Number of videos"
                  }
                }
              }
            }
          },
          "metadata": {},
          "output_type": "display_data"
        }
      ],
      "source": [
        "fig = px.line(channel_cate_by_time_series_df, x='upload_date_by_year', y='num_videos', color='channel_category')\n",
        "fig.update_layout(title=\"Number of video by channel category and time series\")\n",
        "fig.update_layout(xaxis_title=\"Year of updoad date\")\n",
        "fig.update_layout(yaxis_title=\"Number of videos\")\n",
        "fig.show()"
      ]
    },
    {
      "cell_type": "markdown",
      "metadata": {
        "id": "CsOQsIWEaPAy"
      },
      "source": [
        "### cl_engagement_rate"
      ]
    },
    {
      "cell_type": "code",
      "execution_count": 46,
      "metadata": {
        "colab": {
          "base_uri": "https://localhost:8080/",
          "height": 542
        },
        "id": "sqYKlWW7aS5e",
        "outputId": "bd04688c-5fbe-4624-ff9e-7a3c8f3443d9"
      },
      "outputs": [
        {
          "data": {
            "application/vnd.plotly.v1+json": {
              "config": {
                "plotlyServerURL": "https://plot.ly"
              },
              "data": [
                {
                  "hovertemplate": "channel_category=Comedy<br>upload_date_by_year=%{x}<br>median_cl_engagement_rate=%{y}<extra></extra>",
                  "legendgroup": "Comedy",
                  "line": {
                    "color": "#636efa",
                    "dash": "solid"
                  },
                  "marker": {
                    "symbol": "circle"
                  },
                  "mode": "lines",
                  "name": "Comedy",
                  "orientation": "v",
                  "showlegend": true,
                  "type": "scatter",
                  "x": [
                    2011,
                    2012,
                    2013,
                    2014,
                    2015,
                    2016,
                    2017,
                    2018,
                    2019,
                    2020,
                    2021
                  ],
                  "xaxis": "x",
                  "y": [
                    0.0027526558565275413,
                    0.003349280553258006,
                    0.002950756374858354,
                    0.005003719710269731,
                    0.004688865137605776,
                    0.005059881777516951,
                    0.003848481079698773,
                    0.004043905006629361,
                    0.003959545248889128,
                    0.00544305724725944,
                    0.0068018452857446475
                  ],
                  "yaxis": "y"
                },
                {
                  "hovertemplate": "channel_category=Education<br>upload_date_by_year=%{x}<br>median_cl_engagement_rate=%{y}<extra></extra>",
                  "legendgroup": "Education",
                  "line": {
                    "color": "#EF553B",
                    "dash": "solid"
                  },
                  "marker": {
                    "symbol": "circle"
                  },
                  "mode": "lines",
                  "name": "Education",
                  "orientation": "v",
                  "showlegend": true,
                  "type": "scatter",
                  "x": [
                    2010,
                    2011,
                    2012,
                    2013,
                    2014,
                    2015,
                    2016,
                    2017,
                    2018,
                    2019,
                    2020,
                    2021
                  ],
                  "xaxis": "x",
                  "y": [
                    0.0024200053777897286,
                    0.002754285841730463,
                    0.0012105560487450568,
                    0.008846382629105995,
                    0.0026136198635109626,
                    0.0059291395516992045,
                    0.006655060973848255,
                    0.011201474842704482,
                    0.013064448621511463,
                    0.01658676958038902,
                    0.015507127166588879,
                    0.006137120813606874
                  ],
                  "yaxis": "y"
                },
                {
                  "hovertemplate": "channel_category=Science & Technology<br>upload_date_by_year=%{x}<br>median_cl_engagement_rate=%{y}<extra></extra>",
                  "legendgroup": "Science & Technology",
                  "line": {
                    "color": "#00cc96",
                    "dash": "solid"
                  },
                  "marker": {
                    "symbol": "circle"
                  },
                  "mode": "lines",
                  "name": "Science & Technology",
                  "orientation": "v",
                  "showlegend": true,
                  "type": "scatter",
                  "x": [
                    2010,
                    2011,
                    2012,
                    2013,
                    2014,
                    2015,
                    2016,
                    2017,
                    2018,
                    2019,
                    2020,
                    2021
                  ],
                  "xaxis": "x",
                  "y": [
                    0.0008207657246210402,
                    0.0014031013377845513,
                    0.002292233061463831,
                    0.002849609101859078,
                    0.0024874154282141306,
                    0.0031875864557647203,
                    0.0058487675811168365,
                    0.009103438005068385,
                    0.014395886889460155,
                    0.017602307195067377,
                    0.01972283306054199,
                    0.023690528581574808
                  ],
                  "yaxis": "y"
                },
                {
                  "hovertemplate": "channel_category=Travel & Events<br>upload_date_by_year=%{x}<br>median_cl_engagement_rate=%{y}<extra></extra>",
                  "legendgroup": "Travel & Events",
                  "line": {
                    "color": "#ab63fa",
                    "dash": "solid"
                  },
                  "marker": {
                    "symbol": "circle"
                  },
                  "mode": "lines",
                  "name": "Travel & Events",
                  "orientation": "v",
                  "showlegend": true,
                  "type": "scatter",
                  "x": [
                    2013,
                    2014,
                    2015,
                    2016,
                    2017,
                    2018,
                    2019,
                    2020,
                    2021
                  ],
                  "xaxis": "x",
                  "y": [
                    0.0028084067194553393,
                    0.0023785926660059463,
                    0.004341962801286766,
                    0.004264499357266425,
                    0.0065890747473758985,
                    0.00984327927175649,
                    0.009677950331463759,
                    0.008258064516129033,
                    0.013019218846869188
                  ],
                  "yaxis": "y"
                }
              ],
              "layout": {
                "legend": {
                  "title": {
                    "text": "channel_category"
                  },
                  "tracegroupgap": 0
                },
                "margin": {
                  "t": 60
                },
                "template": {
                  "data": {
                    "bar": [
                      {
                        "error_x": {
                          "color": "#2a3f5f"
                        },
                        "error_y": {
                          "color": "#2a3f5f"
                        },
                        "marker": {
                          "line": {
                            "color": "#E5ECF6",
                            "width": 0.5
                          },
                          "pattern": {
                            "fillmode": "overlay",
                            "size": 10,
                            "solidity": 0.2
                          }
                        },
                        "type": "bar"
                      }
                    ],
                    "barpolar": [
                      {
                        "marker": {
                          "line": {
                            "color": "#E5ECF6",
                            "width": 0.5
                          },
                          "pattern": {
                            "fillmode": "overlay",
                            "size": 10,
                            "solidity": 0.2
                          }
                        },
                        "type": "barpolar"
                      }
                    ],
                    "carpet": [
                      {
                        "aaxis": {
                          "endlinecolor": "#2a3f5f",
                          "gridcolor": "white",
                          "linecolor": "white",
                          "minorgridcolor": "white",
                          "startlinecolor": "#2a3f5f"
                        },
                        "baxis": {
                          "endlinecolor": "#2a3f5f",
                          "gridcolor": "white",
                          "linecolor": "white",
                          "minorgridcolor": "white",
                          "startlinecolor": "#2a3f5f"
                        },
                        "type": "carpet"
                      }
                    ],
                    "choropleth": [
                      {
                        "colorbar": {
                          "outlinewidth": 0,
                          "ticks": ""
                        },
                        "type": "choropleth"
                      }
                    ],
                    "contour": [
                      {
                        "colorbar": {
                          "outlinewidth": 0,
                          "ticks": ""
                        },
                        "colorscale": [
                          [
                            0,
                            "#0d0887"
                          ],
                          [
                            0.1111111111111111,
                            "#46039f"
                          ],
                          [
                            0.2222222222222222,
                            "#7201a8"
                          ],
                          [
                            0.3333333333333333,
                            "#9c179e"
                          ],
                          [
                            0.4444444444444444,
                            "#bd3786"
                          ],
                          [
                            0.5555555555555556,
                            "#d8576b"
                          ],
                          [
                            0.6666666666666666,
                            "#ed7953"
                          ],
                          [
                            0.7777777777777778,
                            "#fb9f3a"
                          ],
                          [
                            0.8888888888888888,
                            "#fdca26"
                          ],
                          [
                            1,
                            "#f0f921"
                          ]
                        ],
                        "type": "contour"
                      }
                    ],
                    "contourcarpet": [
                      {
                        "colorbar": {
                          "outlinewidth": 0,
                          "ticks": ""
                        },
                        "type": "contourcarpet"
                      }
                    ],
                    "heatmap": [
                      {
                        "colorbar": {
                          "outlinewidth": 0,
                          "ticks": ""
                        },
                        "colorscale": [
                          [
                            0,
                            "#0d0887"
                          ],
                          [
                            0.1111111111111111,
                            "#46039f"
                          ],
                          [
                            0.2222222222222222,
                            "#7201a8"
                          ],
                          [
                            0.3333333333333333,
                            "#9c179e"
                          ],
                          [
                            0.4444444444444444,
                            "#bd3786"
                          ],
                          [
                            0.5555555555555556,
                            "#d8576b"
                          ],
                          [
                            0.6666666666666666,
                            "#ed7953"
                          ],
                          [
                            0.7777777777777778,
                            "#fb9f3a"
                          ],
                          [
                            0.8888888888888888,
                            "#fdca26"
                          ],
                          [
                            1,
                            "#f0f921"
                          ]
                        ],
                        "type": "heatmap"
                      }
                    ],
                    "heatmapgl": [
                      {
                        "colorbar": {
                          "outlinewidth": 0,
                          "ticks": ""
                        },
                        "colorscale": [
                          [
                            0,
                            "#0d0887"
                          ],
                          [
                            0.1111111111111111,
                            "#46039f"
                          ],
                          [
                            0.2222222222222222,
                            "#7201a8"
                          ],
                          [
                            0.3333333333333333,
                            "#9c179e"
                          ],
                          [
                            0.4444444444444444,
                            "#bd3786"
                          ],
                          [
                            0.5555555555555556,
                            "#d8576b"
                          ],
                          [
                            0.6666666666666666,
                            "#ed7953"
                          ],
                          [
                            0.7777777777777778,
                            "#fb9f3a"
                          ],
                          [
                            0.8888888888888888,
                            "#fdca26"
                          ],
                          [
                            1,
                            "#f0f921"
                          ]
                        ],
                        "type": "heatmapgl"
                      }
                    ],
                    "histogram": [
                      {
                        "marker": {
                          "pattern": {
                            "fillmode": "overlay",
                            "size": 10,
                            "solidity": 0.2
                          }
                        },
                        "type": "histogram"
                      }
                    ],
                    "histogram2d": [
                      {
                        "colorbar": {
                          "outlinewidth": 0,
                          "ticks": ""
                        },
                        "colorscale": [
                          [
                            0,
                            "#0d0887"
                          ],
                          [
                            0.1111111111111111,
                            "#46039f"
                          ],
                          [
                            0.2222222222222222,
                            "#7201a8"
                          ],
                          [
                            0.3333333333333333,
                            "#9c179e"
                          ],
                          [
                            0.4444444444444444,
                            "#bd3786"
                          ],
                          [
                            0.5555555555555556,
                            "#d8576b"
                          ],
                          [
                            0.6666666666666666,
                            "#ed7953"
                          ],
                          [
                            0.7777777777777778,
                            "#fb9f3a"
                          ],
                          [
                            0.8888888888888888,
                            "#fdca26"
                          ],
                          [
                            1,
                            "#f0f921"
                          ]
                        ],
                        "type": "histogram2d"
                      }
                    ],
                    "histogram2dcontour": [
                      {
                        "colorbar": {
                          "outlinewidth": 0,
                          "ticks": ""
                        },
                        "colorscale": [
                          [
                            0,
                            "#0d0887"
                          ],
                          [
                            0.1111111111111111,
                            "#46039f"
                          ],
                          [
                            0.2222222222222222,
                            "#7201a8"
                          ],
                          [
                            0.3333333333333333,
                            "#9c179e"
                          ],
                          [
                            0.4444444444444444,
                            "#bd3786"
                          ],
                          [
                            0.5555555555555556,
                            "#d8576b"
                          ],
                          [
                            0.6666666666666666,
                            "#ed7953"
                          ],
                          [
                            0.7777777777777778,
                            "#fb9f3a"
                          ],
                          [
                            0.8888888888888888,
                            "#fdca26"
                          ],
                          [
                            1,
                            "#f0f921"
                          ]
                        ],
                        "type": "histogram2dcontour"
                      }
                    ],
                    "mesh3d": [
                      {
                        "colorbar": {
                          "outlinewidth": 0,
                          "ticks": ""
                        },
                        "type": "mesh3d"
                      }
                    ],
                    "parcoords": [
                      {
                        "line": {
                          "colorbar": {
                            "outlinewidth": 0,
                            "ticks": ""
                          }
                        },
                        "type": "parcoords"
                      }
                    ],
                    "pie": [
                      {
                        "automargin": true,
                        "type": "pie"
                      }
                    ],
                    "scatter": [
                      {
                        "fillpattern": {
                          "fillmode": "overlay",
                          "size": 10,
                          "solidity": 0.2
                        },
                        "type": "scatter"
                      }
                    ],
                    "scatter3d": [
                      {
                        "line": {
                          "colorbar": {
                            "outlinewidth": 0,
                            "ticks": ""
                          }
                        },
                        "marker": {
                          "colorbar": {
                            "outlinewidth": 0,
                            "ticks": ""
                          }
                        },
                        "type": "scatter3d"
                      }
                    ],
                    "scattercarpet": [
                      {
                        "marker": {
                          "colorbar": {
                            "outlinewidth": 0,
                            "ticks": ""
                          }
                        },
                        "type": "scattercarpet"
                      }
                    ],
                    "scattergeo": [
                      {
                        "marker": {
                          "colorbar": {
                            "outlinewidth": 0,
                            "ticks": ""
                          }
                        },
                        "type": "scattergeo"
                      }
                    ],
                    "scattergl": [
                      {
                        "marker": {
                          "colorbar": {
                            "outlinewidth": 0,
                            "ticks": ""
                          }
                        },
                        "type": "scattergl"
                      }
                    ],
                    "scattermapbox": [
                      {
                        "marker": {
                          "colorbar": {
                            "outlinewidth": 0,
                            "ticks": ""
                          }
                        },
                        "type": "scattermapbox"
                      }
                    ],
                    "scatterpolar": [
                      {
                        "marker": {
                          "colorbar": {
                            "outlinewidth": 0,
                            "ticks": ""
                          }
                        },
                        "type": "scatterpolar"
                      }
                    ],
                    "scatterpolargl": [
                      {
                        "marker": {
                          "colorbar": {
                            "outlinewidth": 0,
                            "ticks": ""
                          }
                        },
                        "type": "scatterpolargl"
                      }
                    ],
                    "scatterternary": [
                      {
                        "marker": {
                          "colorbar": {
                            "outlinewidth": 0,
                            "ticks": ""
                          }
                        },
                        "type": "scatterternary"
                      }
                    ],
                    "surface": [
                      {
                        "colorbar": {
                          "outlinewidth": 0,
                          "ticks": ""
                        },
                        "colorscale": [
                          [
                            0,
                            "#0d0887"
                          ],
                          [
                            0.1111111111111111,
                            "#46039f"
                          ],
                          [
                            0.2222222222222222,
                            "#7201a8"
                          ],
                          [
                            0.3333333333333333,
                            "#9c179e"
                          ],
                          [
                            0.4444444444444444,
                            "#bd3786"
                          ],
                          [
                            0.5555555555555556,
                            "#d8576b"
                          ],
                          [
                            0.6666666666666666,
                            "#ed7953"
                          ],
                          [
                            0.7777777777777778,
                            "#fb9f3a"
                          ],
                          [
                            0.8888888888888888,
                            "#fdca26"
                          ],
                          [
                            1,
                            "#f0f921"
                          ]
                        ],
                        "type": "surface"
                      }
                    ],
                    "table": [
                      {
                        "cells": {
                          "fill": {
                            "color": "#EBF0F8"
                          },
                          "line": {
                            "color": "white"
                          }
                        },
                        "header": {
                          "fill": {
                            "color": "#C8D4E3"
                          },
                          "line": {
                            "color": "white"
                          }
                        },
                        "type": "table"
                      }
                    ]
                  },
                  "layout": {
                    "annotationdefaults": {
                      "arrowcolor": "#2a3f5f",
                      "arrowhead": 0,
                      "arrowwidth": 1
                    },
                    "autotypenumbers": "strict",
                    "coloraxis": {
                      "colorbar": {
                        "outlinewidth": 0,
                        "ticks": ""
                      }
                    },
                    "colorscale": {
                      "diverging": [
                        [
                          0,
                          "#8e0152"
                        ],
                        [
                          0.1,
                          "#c51b7d"
                        ],
                        [
                          0.2,
                          "#de77ae"
                        ],
                        [
                          0.3,
                          "#f1b6da"
                        ],
                        [
                          0.4,
                          "#fde0ef"
                        ],
                        [
                          0.5,
                          "#f7f7f7"
                        ],
                        [
                          0.6,
                          "#e6f5d0"
                        ],
                        [
                          0.7,
                          "#b8e186"
                        ],
                        [
                          0.8,
                          "#7fbc41"
                        ],
                        [
                          0.9,
                          "#4d9221"
                        ],
                        [
                          1,
                          "#276419"
                        ]
                      ],
                      "sequential": [
                        [
                          0,
                          "#0d0887"
                        ],
                        [
                          0.1111111111111111,
                          "#46039f"
                        ],
                        [
                          0.2222222222222222,
                          "#7201a8"
                        ],
                        [
                          0.3333333333333333,
                          "#9c179e"
                        ],
                        [
                          0.4444444444444444,
                          "#bd3786"
                        ],
                        [
                          0.5555555555555556,
                          "#d8576b"
                        ],
                        [
                          0.6666666666666666,
                          "#ed7953"
                        ],
                        [
                          0.7777777777777778,
                          "#fb9f3a"
                        ],
                        [
                          0.8888888888888888,
                          "#fdca26"
                        ],
                        [
                          1,
                          "#f0f921"
                        ]
                      ],
                      "sequentialminus": [
                        [
                          0,
                          "#0d0887"
                        ],
                        [
                          0.1111111111111111,
                          "#46039f"
                        ],
                        [
                          0.2222222222222222,
                          "#7201a8"
                        ],
                        [
                          0.3333333333333333,
                          "#9c179e"
                        ],
                        [
                          0.4444444444444444,
                          "#bd3786"
                        ],
                        [
                          0.5555555555555556,
                          "#d8576b"
                        ],
                        [
                          0.6666666666666666,
                          "#ed7953"
                        ],
                        [
                          0.7777777777777778,
                          "#fb9f3a"
                        ],
                        [
                          0.8888888888888888,
                          "#fdca26"
                        ],
                        [
                          1,
                          "#f0f921"
                        ]
                      ]
                    },
                    "colorway": [
                      "#636efa",
                      "#EF553B",
                      "#00cc96",
                      "#ab63fa",
                      "#FFA15A",
                      "#19d3f3",
                      "#FF6692",
                      "#B6E880",
                      "#FF97FF",
                      "#FECB52"
                    ],
                    "font": {
                      "color": "#2a3f5f"
                    },
                    "geo": {
                      "bgcolor": "white",
                      "lakecolor": "white",
                      "landcolor": "#E5ECF6",
                      "showlakes": true,
                      "showland": true,
                      "subunitcolor": "white"
                    },
                    "hoverlabel": {
                      "align": "left"
                    },
                    "hovermode": "closest",
                    "mapbox": {
                      "style": "light"
                    },
                    "paper_bgcolor": "white",
                    "plot_bgcolor": "#E5ECF6",
                    "polar": {
                      "angularaxis": {
                        "gridcolor": "white",
                        "linecolor": "white",
                        "ticks": ""
                      },
                      "bgcolor": "#E5ECF6",
                      "radialaxis": {
                        "gridcolor": "white",
                        "linecolor": "white",
                        "ticks": ""
                      }
                    },
                    "scene": {
                      "xaxis": {
                        "backgroundcolor": "#E5ECF6",
                        "gridcolor": "white",
                        "gridwidth": 2,
                        "linecolor": "white",
                        "showbackground": true,
                        "ticks": "",
                        "zerolinecolor": "white"
                      },
                      "yaxis": {
                        "backgroundcolor": "#E5ECF6",
                        "gridcolor": "white",
                        "gridwidth": 2,
                        "linecolor": "white",
                        "showbackground": true,
                        "ticks": "",
                        "zerolinecolor": "white"
                      },
                      "zaxis": {
                        "backgroundcolor": "#E5ECF6",
                        "gridcolor": "white",
                        "gridwidth": 2,
                        "linecolor": "white",
                        "showbackground": true,
                        "ticks": "",
                        "zerolinecolor": "white"
                      }
                    },
                    "shapedefaults": {
                      "line": {
                        "color": "#2a3f5f"
                      }
                    },
                    "ternary": {
                      "aaxis": {
                        "gridcolor": "white",
                        "linecolor": "white",
                        "ticks": ""
                      },
                      "baxis": {
                        "gridcolor": "white",
                        "linecolor": "white",
                        "ticks": ""
                      },
                      "bgcolor": "#E5ECF6",
                      "caxis": {
                        "gridcolor": "white",
                        "linecolor": "white",
                        "ticks": ""
                      }
                    },
                    "title": {
                      "x": 0.05
                    },
                    "xaxis": {
                      "automargin": true,
                      "gridcolor": "white",
                      "linecolor": "white",
                      "ticks": "",
                      "title": {
                        "standoff": 15
                      },
                      "zerolinecolor": "white",
                      "zerolinewidth": 2
                    },
                    "yaxis": {
                      "automargin": true,
                      "gridcolor": "white",
                      "linecolor": "white",
                      "ticks": "",
                      "title": {
                        "standoff": 15
                      },
                      "zerolinecolor": "white",
                      "zerolinewidth": 2
                    }
                  }
                },
                "title": {
                  "text": "Median cl engagement rate by channel category and time series"
                },
                "xaxis": {
                  "anchor": "y",
                  "domain": [
                    0,
                    1
                  ],
                  "title": {
                    "text": "Year of updoad date"
                  }
                },
                "yaxis": {
                  "anchor": "x",
                  "domain": [
                    0,
                    1
                  ],
                  "title": {
                    "text": "Median cl engagement rate"
                  }
                }
              }
            }
          },
          "metadata": {},
          "output_type": "display_data"
        }
      ],
      "source": [
        "fig = px.line(channel_cate_by_time_series_df, x='upload_date_by_year', y='median_cl_engagement_rate', color='channel_category')\n",
        "fig.update_layout(title=\"Median cl engagement rate by channel category and time series\")\n",
        "fig.update_layout(xaxis_title=\"Year of updoad date\")\n",
        "fig.update_layout(yaxis_title=\"Median cl engagement rate\")\n",
        "fig.show()"
      ]
    },
    {
      "cell_type": "markdown",
      "metadata": {
        "id": "kK-wfvDHaUei"
      },
      "source": [
        "### cld_engagement_rate"
      ]
    },
    {
      "cell_type": "code",
      "execution_count": 47,
      "metadata": {
        "colab": {
          "base_uri": "https://localhost:8080/",
          "height": 542
        },
        "id": "XmZCw9bfaYcI",
        "outputId": "dfd88eac-69d3-40ca-de88-c455949c3d81"
      },
      "outputs": [
        {
          "data": {
            "application/vnd.plotly.v1+json": {
              "config": {
                "plotlyServerURL": "https://plot.ly"
              },
              "data": [
                {
                  "hovertemplate": "channel_category=Comedy<br>upload_date_by_year=%{x}<br>median_cld_engagement_rate=%{y}<extra></extra>",
                  "legendgroup": "Comedy",
                  "line": {
                    "color": "#636efa",
                    "dash": "solid"
                  },
                  "marker": {
                    "symbol": "circle"
                  },
                  "mode": "lines",
                  "name": "Comedy",
                  "orientation": "v",
                  "showlegend": true,
                  "type": "scatter",
                  "x": [
                    2011,
                    2012,
                    2013,
                    2014,
                    2015,
                    2016,
                    2017,
                    2018,
                    2019,
                    2020,
                    2021
                  ],
                  "xaxis": "x",
                  "y": [
                    0.003452605147520402,
                    0.0034786546973536985,
                    0.003145468610978175,
                    0.0052696838189708614,
                    0.004999185606142691,
                    0.005304774296867181,
                    0.004179437169127891,
                    0.004522883181989134,
                    0.004906147825983443,
                    0.00638080653394589,
                    0.007648086529114681
                  ],
                  "yaxis": "y"
                },
                {
                  "hovertemplate": "channel_category=Education<br>upload_date_by_year=%{x}<br>median_cld_engagement_rate=%{y}<extra></extra>",
                  "legendgroup": "Education",
                  "line": {
                    "color": "#EF553B",
                    "dash": "solid"
                  },
                  "marker": {
                    "symbol": "circle"
                  },
                  "mode": "lines",
                  "name": "Education",
                  "orientation": "v",
                  "showlegend": true,
                  "type": "scatter",
                  "x": [
                    2010,
                    2011,
                    2012,
                    2013,
                    2014,
                    2015,
                    2016,
                    2017,
                    2018,
                    2019,
                    2020,
                    2021
                  ],
                  "xaxis": "x",
                  "y": [
                    0.00260317355043027,
                    0.0030992969829048804,
                    0.0014506845255117691,
                    0.009185548071034905,
                    0.002906992749035132,
                    0.0062113096253501796,
                    0.007377435337096715,
                    0.012166323498934557,
                    0.01399277739837549,
                    0.01773838337585312,
                    0.016305171008902233,
                    0.007964587045501986
                  ],
                  "yaxis": "y"
                },
                {
                  "hovertemplate": "channel_category=Science & Technology<br>upload_date_by_year=%{x}<br>median_cld_engagement_rate=%{y}<extra></extra>",
                  "legendgroup": "Science & Technology",
                  "line": {
                    "color": "#00cc96",
                    "dash": "solid"
                  },
                  "marker": {
                    "symbol": "circle"
                  },
                  "mode": "lines",
                  "name": "Science & Technology",
                  "orientation": "v",
                  "showlegend": true,
                  "type": "scatter",
                  "x": [
                    2010,
                    2011,
                    2012,
                    2013,
                    2014,
                    2015,
                    2016,
                    2017,
                    2018,
                    2019,
                    2020,
                    2021
                  ],
                  "xaxis": "x",
                  "y": [
                    0.0010561874464732313,
                    0.0016186970597365736,
                    0.002550846106543376,
                    0.0031714531087833784,
                    0.0027962673482421724,
                    0.003616411023818431,
                    0.006367833344704464,
                    0.009865843660732612,
                    0.015114873035066504,
                    0.018227598542327368,
                    0.020497149843545212,
                    0.024418361972152934
                  ],
                  "yaxis": "y"
                },
                {
                  "hovertemplate": "channel_category=Travel & Events<br>upload_date_by_year=%{x}<br>median_cld_engagement_rate=%{y}<extra></extra>",
                  "legendgroup": "Travel & Events",
                  "line": {
                    "color": "#ab63fa",
                    "dash": "solid"
                  },
                  "marker": {
                    "symbol": "circle"
                  },
                  "mode": "lines",
                  "name": "Travel & Events",
                  "orientation": "v",
                  "showlegend": true,
                  "type": "scatter",
                  "x": [
                    2013,
                    2014,
                    2015,
                    2016,
                    2017,
                    2018,
                    2019,
                    2020,
                    2021
                  ],
                  "xaxis": "x",
                  "y": [
                    0.0030119144527492045,
                    0.0027397260273972603,
                    0.004725830270763108,
                    0.004504471102849809,
                    0.007131191836612143,
                    0.010635084093624892,
                    0.010667345780310016,
                    0.009001500250041674,
                    0.013837638376383762
                  ],
                  "yaxis": "y"
                }
              ],
              "layout": {
                "legend": {
                  "title": {
                    "text": "channel_category"
                  },
                  "tracegroupgap": 0
                },
                "margin": {
                  "t": 60
                },
                "template": {
                  "data": {
                    "bar": [
                      {
                        "error_x": {
                          "color": "#2a3f5f"
                        },
                        "error_y": {
                          "color": "#2a3f5f"
                        },
                        "marker": {
                          "line": {
                            "color": "#E5ECF6",
                            "width": 0.5
                          },
                          "pattern": {
                            "fillmode": "overlay",
                            "size": 10,
                            "solidity": 0.2
                          }
                        },
                        "type": "bar"
                      }
                    ],
                    "barpolar": [
                      {
                        "marker": {
                          "line": {
                            "color": "#E5ECF6",
                            "width": 0.5
                          },
                          "pattern": {
                            "fillmode": "overlay",
                            "size": 10,
                            "solidity": 0.2
                          }
                        },
                        "type": "barpolar"
                      }
                    ],
                    "carpet": [
                      {
                        "aaxis": {
                          "endlinecolor": "#2a3f5f",
                          "gridcolor": "white",
                          "linecolor": "white",
                          "minorgridcolor": "white",
                          "startlinecolor": "#2a3f5f"
                        },
                        "baxis": {
                          "endlinecolor": "#2a3f5f",
                          "gridcolor": "white",
                          "linecolor": "white",
                          "minorgridcolor": "white",
                          "startlinecolor": "#2a3f5f"
                        },
                        "type": "carpet"
                      }
                    ],
                    "choropleth": [
                      {
                        "colorbar": {
                          "outlinewidth": 0,
                          "ticks": ""
                        },
                        "type": "choropleth"
                      }
                    ],
                    "contour": [
                      {
                        "colorbar": {
                          "outlinewidth": 0,
                          "ticks": ""
                        },
                        "colorscale": [
                          [
                            0,
                            "#0d0887"
                          ],
                          [
                            0.1111111111111111,
                            "#46039f"
                          ],
                          [
                            0.2222222222222222,
                            "#7201a8"
                          ],
                          [
                            0.3333333333333333,
                            "#9c179e"
                          ],
                          [
                            0.4444444444444444,
                            "#bd3786"
                          ],
                          [
                            0.5555555555555556,
                            "#d8576b"
                          ],
                          [
                            0.6666666666666666,
                            "#ed7953"
                          ],
                          [
                            0.7777777777777778,
                            "#fb9f3a"
                          ],
                          [
                            0.8888888888888888,
                            "#fdca26"
                          ],
                          [
                            1,
                            "#f0f921"
                          ]
                        ],
                        "type": "contour"
                      }
                    ],
                    "contourcarpet": [
                      {
                        "colorbar": {
                          "outlinewidth": 0,
                          "ticks": ""
                        },
                        "type": "contourcarpet"
                      }
                    ],
                    "heatmap": [
                      {
                        "colorbar": {
                          "outlinewidth": 0,
                          "ticks": ""
                        },
                        "colorscale": [
                          [
                            0,
                            "#0d0887"
                          ],
                          [
                            0.1111111111111111,
                            "#46039f"
                          ],
                          [
                            0.2222222222222222,
                            "#7201a8"
                          ],
                          [
                            0.3333333333333333,
                            "#9c179e"
                          ],
                          [
                            0.4444444444444444,
                            "#bd3786"
                          ],
                          [
                            0.5555555555555556,
                            "#d8576b"
                          ],
                          [
                            0.6666666666666666,
                            "#ed7953"
                          ],
                          [
                            0.7777777777777778,
                            "#fb9f3a"
                          ],
                          [
                            0.8888888888888888,
                            "#fdca26"
                          ],
                          [
                            1,
                            "#f0f921"
                          ]
                        ],
                        "type": "heatmap"
                      }
                    ],
                    "heatmapgl": [
                      {
                        "colorbar": {
                          "outlinewidth": 0,
                          "ticks": ""
                        },
                        "colorscale": [
                          [
                            0,
                            "#0d0887"
                          ],
                          [
                            0.1111111111111111,
                            "#46039f"
                          ],
                          [
                            0.2222222222222222,
                            "#7201a8"
                          ],
                          [
                            0.3333333333333333,
                            "#9c179e"
                          ],
                          [
                            0.4444444444444444,
                            "#bd3786"
                          ],
                          [
                            0.5555555555555556,
                            "#d8576b"
                          ],
                          [
                            0.6666666666666666,
                            "#ed7953"
                          ],
                          [
                            0.7777777777777778,
                            "#fb9f3a"
                          ],
                          [
                            0.8888888888888888,
                            "#fdca26"
                          ],
                          [
                            1,
                            "#f0f921"
                          ]
                        ],
                        "type": "heatmapgl"
                      }
                    ],
                    "histogram": [
                      {
                        "marker": {
                          "pattern": {
                            "fillmode": "overlay",
                            "size": 10,
                            "solidity": 0.2
                          }
                        },
                        "type": "histogram"
                      }
                    ],
                    "histogram2d": [
                      {
                        "colorbar": {
                          "outlinewidth": 0,
                          "ticks": ""
                        },
                        "colorscale": [
                          [
                            0,
                            "#0d0887"
                          ],
                          [
                            0.1111111111111111,
                            "#46039f"
                          ],
                          [
                            0.2222222222222222,
                            "#7201a8"
                          ],
                          [
                            0.3333333333333333,
                            "#9c179e"
                          ],
                          [
                            0.4444444444444444,
                            "#bd3786"
                          ],
                          [
                            0.5555555555555556,
                            "#d8576b"
                          ],
                          [
                            0.6666666666666666,
                            "#ed7953"
                          ],
                          [
                            0.7777777777777778,
                            "#fb9f3a"
                          ],
                          [
                            0.8888888888888888,
                            "#fdca26"
                          ],
                          [
                            1,
                            "#f0f921"
                          ]
                        ],
                        "type": "histogram2d"
                      }
                    ],
                    "histogram2dcontour": [
                      {
                        "colorbar": {
                          "outlinewidth": 0,
                          "ticks": ""
                        },
                        "colorscale": [
                          [
                            0,
                            "#0d0887"
                          ],
                          [
                            0.1111111111111111,
                            "#46039f"
                          ],
                          [
                            0.2222222222222222,
                            "#7201a8"
                          ],
                          [
                            0.3333333333333333,
                            "#9c179e"
                          ],
                          [
                            0.4444444444444444,
                            "#bd3786"
                          ],
                          [
                            0.5555555555555556,
                            "#d8576b"
                          ],
                          [
                            0.6666666666666666,
                            "#ed7953"
                          ],
                          [
                            0.7777777777777778,
                            "#fb9f3a"
                          ],
                          [
                            0.8888888888888888,
                            "#fdca26"
                          ],
                          [
                            1,
                            "#f0f921"
                          ]
                        ],
                        "type": "histogram2dcontour"
                      }
                    ],
                    "mesh3d": [
                      {
                        "colorbar": {
                          "outlinewidth": 0,
                          "ticks": ""
                        },
                        "type": "mesh3d"
                      }
                    ],
                    "parcoords": [
                      {
                        "line": {
                          "colorbar": {
                            "outlinewidth": 0,
                            "ticks": ""
                          }
                        },
                        "type": "parcoords"
                      }
                    ],
                    "pie": [
                      {
                        "automargin": true,
                        "type": "pie"
                      }
                    ],
                    "scatter": [
                      {
                        "fillpattern": {
                          "fillmode": "overlay",
                          "size": 10,
                          "solidity": 0.2
                        },
                        "type": "scatter"
                      }
                    ],
                    "scatter3d": [
                      {
                        "line": {
                          "colorbar": {
                            "outlinewidth": 0,
                            "ticks": ""
                          }
                        },
                        "marker": {
                          "colorbar": {
                            "outlinewidth": 0,
                            "ticks": ""
                          }
                        },
                        "type": "scatter3d"
                      }
                    ],
                    "scattercarpet": [
                      {
                        "marker": {
                          "colorbar": {
                            "outlinewidth": 0,
                            "ticks": ""
                          }
                        },
                        "type": "scattercarpet"
                      }
                    ],
                    "scattergeo": [
                      {
                        "marker": {
                          "colorbar": {
                            "outlinewidth": 0,
                            "ticks": ""
                          }
                        },
                        "type": "scattergeo"
                      }
                    ],
                    "scattergl": [
                      {
                        "marker": {
                          "colorbar": {
                            "outlinewidth": 0,
                            "ticks": ""
                          }
                        },
                        "type": "scattergl"
                      }
                    ],
                    "scattermapbox": [
                      {
                        "marker": {
                          "colorbar": {
                            "outlinewidth": 0,
                            "ticks": ""
                          }
                        },
                        "type": "scattermapbox"
                      }
                    ],
                    "scatterpolar": [
                      {
                        "marker": {
                          "colorbar": {
                            "outlinewidth": 0,
                            "ticks": ""
                          }
                        },
                        "type": "scatterpolar"
                      }
                    ],
                    "scatterpolargl": [
                      {
                        "marker": {
                          "colorbar": {
                            "outlinewidth": 0,
                            "ticks": ""
                          }
                        },
                        "type": "scatterpolargl"
                      }
                    ],
                    "scatterternary": [
                      {
                        "marker": {
                          "colorbar": {
                            "outlinewidth": 0,
                            "ticks": ""
                          }
                        },
                        "type": "scatterternary"
                      }
                    ],
                    "surface": [
                      {
                        "colorbar": {
                          "outlinewidth": 0,
                          "ticks": ""
                        },
                        "colorscale": [
                          [
                            0,
                            "#0d0887"
                          ],
                          [
                            0.1111111111111111,
                            "#46039f"
                          ],
                          [
                            0.2222222222222222,
                            "#7201a8"
                          ],
                          [
                            0.3333333333333333,
                            "#9c179e"
                          ],
                          [
                            0.4444444444444444,
                            "#bd3786"
                          ],
                          [
                            0.5555555555555556,
                            "#d8576b"
                          ],
                          [
                            0.6666666666666666,
                            "#ed7953"
                          ],
                          [
                            0.7777777777777778,
                            "#fb9f3a"
                          ],
                          [
                            0.8888888888888888,
                            "#fdca26"
                          ],
                          [
                            1,
                            "#f0f921"
                          ]
                        ],
                        "type": "surface"
                      }
                    ],
                    "table": [
                      {
                        "cells": {
                          "fill": {
                            "color": "#EBF0F8"
                          },
                          "line": {
                            "color": "white"
                          }
                        },
                        "header": {
                          "fill": {
                            "color": "#C8D4E3"
                          },
                          "line": {
                            "color": "white"
                          }
                        },
                        "type": "table"
                      }
                    ]
                  },
                  "layout": {
                    "annotationdefaults": {
                      "arrowcolor": "#2a3f5f",
                      "arrowhead": 0,
                      "arrowwidth": 1
                    },
                    "autotypenumbers": "strict",
                    "coloraxis": {
                      "colorbar": {
                        "outlinewidth": 0,
                        "ticks": ""
                      }
                    },
                    "colorscale": {
                      "diverging": [
                        [
                          0,
                          "#8e0152"
                        ],
                        [
                          0.1,
                          "#c51b7d"
                        ],
                        [
                          0.2,
                          "#de77ae"
                        ],
                        [
                          0.3,
                          "#f1b6da"
                        ],
                        [
                          0.4,
                          "#fde0ef"
                        ],
                        [
                          0.5,
                          "#f7f7f7"
                        ],
                        [
                          0.6,
                          "#e6f5d0"
                        ],
                        [
                          0.7,
                          "#b8e186"
                        ],
                        [
                          0.8,
                          "#7fbc41"
                        ],
                        [
                          0.9,
                          "#4d9221"
                        ],
                        [
                          1,
                          "#276419"
                        ]
                      ],
                      "sequential": [
                        [
                          0,
                          "#0d0887"
                        ],
                        [
                          0.1111111111111111,
                          "#46039f"
                        ],
                        [
                          0.2222222222222222,
                          "#7201a8"
                        ],
                        [
                          0.3333333333333333,
                          "#9c179e"
                        ],
                        [
                          0.4444444444444444,
                          "#bd3786"
                        ],
                        [
                          0.5555555555555556,
                          "#d8576b"
                        ],
                        [
                          0.6666666666666666,
                          "#ed7953"
                        ],
                        [
                          0.7777777777777778,
                          "#fb9f3a"
                        ],
                        [
                          0.8888888888888888,
                          "#fdca26"
                        ],
                        [
                          1,
                          "#f0f921"
                        ]
                      ],
                      "sequentialminus": [
                        [
                          0,
                          "#0d0887"
                        ],
                        [
                          0.1111111111111111,
                          "#46039f"
                        ],
                        [
                          0.2222222222222222,
                          "#7201a8"
                        ],
                        [
                          0.3333333333333333,
                          "#9c179e"
                        ],
                        [
                          0.4444444444444444,
                          "#bd3786"
                        ],
                        [
                          0.5555555555555556,
                          "#d8576b"
                        ],
                        [
                          0.6666666666666666,
                          "#ed7953"
                        ],
                        [
                          0.7777777777777778,
                          "#fb9f3a"
                        ],
                        [
                          0.8888888888888888,
                          "#fdca26"
                        ],
                        [
                          1,
                          "#f0f921"
                        ]
                      ]
                    },
                    "colorway": [
                      "#636efa",
                      "#EF553B",
                      "#00cc96",
                      "#ab63fa",
                      "#FFA15A",
                      "#19d3f3",
                      "#FF6692",
                      "#B6E880",
                      "#FF97FF",
                      "#FECB52"
                    ],
                    "font": {
                      "color": "#2a3f5f"
                    },
                    "geo": {
                      "bgcolor": "white",
                      "lakecolor": "white",
                      "landcolor": "#E5ECF6",
                      "showlakes": true,
                      "showland": true,
                      "subunitcolor": "white"
                    },
                    "hoverlabel": {
                      "align": "left"
                    },
                    "hovermode": "closest",
                    "mapbox": {
                      "style": "light"
                    },
                    "paper_bgcolor": "white",
                    "plot_bgcolor": "#E5ECF6",
                    "polar": {
                      "angularaxis": {
                        "gridcolor": "white",
                        "linecolor": "white",
                        "ticks": ""
                      },
                      "bgcolor": "#E5ECF6",
                      "radialaxis": {
                        "gridcolor": "white",
                        "linecolor": "white",
                        "ticks": ""
                      }
                    },
                    "scene": {
                      "xaxis": {
                        "backgroundcolor": "#E5ECF6",
                        "gridcolor": "white",
                        "gridwidth": 2,
                        "linecolor": "white",
                        "showbackground": true,
                        "ticks": "",
                        "zerolinecolor": "white"
                      },
                      "yaxis": {
                        "backgroundcolor": "#E5ECF6",
                        "gridcolor": "white",
                        "gridwidth": 2,
                        "linecolor": "white",
                        "showbackground": true,
                        "ticks": "",
                        "zerolinecolor": "white"
                      },
                      "zaxis": {
                        "backgroundcolor": "#E5ECF6",
                        "gridcolor": "white",
                        "gridwidth": 2,
                        "linecolor": "white",
                        "showbackground": true,
                        "ticks": "",
                        "zerolinecolor": "white"
                      }
                    },
                    "shapedefaults": {
                      "line": {
                        "color": "#2a3f5f"
                      }
                    },
                    "ternary": {
                      "aaxis": {
                        "gridcolor": "white",
                        "linecolor": "white",
                        "ticks": ""
                      },
                      "baxis": {
                        "gridcolor": "white",
                        "linecolor": "white",
                        "ticks": ""
                      },
                      "bgcolor": "#E5ECF6",
                      "caxis": {
                        "gridcolor": "white",
                        "linecolor": "white",
                        "ticks": ""
                      }
                    },
                    "title": {
                      "x": 0.05
                    },
                    "xaxis": {
                      "automargin": true,
                      "gridcolor": "white",
                      "linecolor": "white",
                      "ticks": "",
                      "title": {
                        "standoff": 15
                      },
                      "zerolinecolor": "white",
                      "zerolinewidth": 2
                    },
                    "yaxis": {
                      "automargin": true,
                      "gridcolor": "white",
                      "linecolor": "white",
                      "ticks": "",
                      "title": {
                        "standoff": 15
                      },
                      "zerolinecolor": "white",
                      "zerolinewidth": 2
                    }
                  }
                },
                "title": {
                  "text": "Median cld engagement rate by channel category and time series"
                },
                "xaxis": {
                  "anchor": "y",
                  "domain": [
                    0,
                    1
                  ],
                  "title": {
                    "text": "Year of updoad date"
                  }
                },
                "yaxis": {
                  "anchor": "x",
                  "domain": [
                    0,
                    1
                  ],
                  "title": {
                    "text": "Median cld engagement rate"
                  }
                }
              }
            }
          },
          "metadata": {},
          "output_type": "display_data"
        }
      ],
      "source": [
        "fig = px.line(channel_cate_by_time_series_df, x='upload_date_by_year', y='median_cld_engagement_rate', color='channel_category')\n",
        "fig.update_layout(title=\"Median cld engagement rate by channel category and time series\")\n",
        "fig.update_layout(xaxis_title=\"Year of updoad date\")\n",
        "fig.update_layout(yaxis_title=\"Median cld engagement rate\")\n",
        "fig.show()"
      ]
    },
    {
      "cell_type": "markdown",
      "metadata": {
        "id": "7GPbjhx5aaEh"
      },
      "source": [
        "### q_score "
      ]
    },
    {
      "cell_type": "code",
      "execution_count": 63,
      "metadata": {
        "colab": {
          "base_uri": "https://localhost:8080/",
          "height": 542
        },
        "id": "f3X1AqYLacdA",
        "outputId": "6a0734ff-c75e-45d8-9384-a83f4b210cd9"
      },
      "outputs": [
        {
          "data": {
            "application/vnd.plotly.v1+json": {
              "config": {
                "plotlyServerURL": "https://plot.ly"
              },
              "data": [
                {
                  "hovertemplate": "channel_category=Comedy<br>upload_date_by_year=%{x}<br>median_q_score=%{y}<extra></extra>",
                  "legendgroup": "Comedy",
                  "line": {
                    "color": "#636efa",
                    "dash": "solid"
                  },
                  "marker": {
                    "symbol": "circle"
                  },
                  "mode": "lines",
                  "name": "Comedy",
                  "orientation": "v",
                  "showlegend": true,
                  "type": "scatter",
                  "x": [
                    2011,
                    2012,
                    2013,
                    2014,
                    2015,
                    2016,
                    2017,
                    2018,
                    2019,
                    2020,
                    2021
                  ],
                  "xaxis": "x",
                  "y": [
                    0.6666666666666666,
                    0.9118715196513598,
                    0.8168923275306255,
                    0.8946328164934401,
                    0.9051305985174671,
                    0.8809523809523809,
                    0.8,
                    0.777787024707797,
                    0.6832074327274786,
                    0.727810650887574,
                    0.7662686010169334
                  ],
                  "yaxis": "y"
                },
                {
                  "hovertemplate": "channel_category=Education<br>upload_date_by_year=%{x}<br>median_q_score=%{y}<extra></extra>",
                  "legendgroup": "Education",
                  "line": {
                    "color": "#EF553B",
                    "dash": "solid"
                  },
                  "marker": {
                    "symbol": "circle"
                  },
                  "mode": "lines",
                  "name": "Education",
                  "orientation": "v",
                  "showlegend": true,
                  "type": "scatter",
                  "x": [
                    2010,
                    2011,
                    2012,
                    2013,
                    2014,
                    2015,
                    2016,
                    2017,
                    2018,
                    2019,
                    2020,
                    2021
                  ],
                  "xaxis": "x",
                  "y": [
                    0.7393431167016072,
                    0.6666666666666666,
                    0.6266666666666667,
                    0.9312442957103741,
                    0.7894736842105263,
                    0.8986262434864993,
                    0.8381937580869996,
                    0.8384648750281305,
                    0.8719617682198327,
                    0.8867313915857605,
                    0.9180162774439529,
                    0.881619937694704
                  ],
                  "yaxis": "y"
                },
                {
                  "hovertemplate": "channel_category=Science & Technology<br>upload_date_by_year=%{x}<br>median_q_score=%{y}<extra></extra>",
                  "legendgroup": "Science & Technology",
                  "line": {
                    "color": "#00cc96",
                    "dash": "solid"
                  },
                  "marker": {
                    "symbol": "circle"
                  },
                  "mode": "lines",
                  "name": "Science & Technology",
                  "orientation": "v",
                  "showlegend": true,
                  "type": "scatter",
                  "x": [
                    2010,
                    2011,
                    2012,
                    2013,
                    2014,
                    2015,
                    2016,
                    2017,
                    2018,
                    2019,
                    2020,
                    2021
                  ],
                  "xaxis": "x",
                  "y": [
                    0.7142857142857143,
                    0.7446808510638298,
                    0.7695852534562212,
                    0.7777777777777778,
                    0.7525510204081632,
                    0.7954545454545454,
                    0.8518518518518519,
                    0.8245614035087719,
                    0.899235030335004,
                    0.9182041820418204,
                    0.9202956105873765,
                    0.9328201539538139
                  ],
                  "yaxis": "y"
                },
                {
                  "hovertemplate": "channel_category=Travel & Events<br>upload_date_by_year=%{x}<br>median_q_score=%{y}<extra></extra>",
                  "legendgroup": "Travel & Events",
                  "line": {
                    "color": "#ab63fa",
                    "dash": "solid"
                  },
                  "marker": {
                    "symbol": "circle"
                  },
                  "mode": "lines",
                  "name": "Travel & Events",
                  "orientation": "v",
                  "showlegend": true,
                  "type": "scatter",
                  "x": [
                    2013,
                    2014,
                    2015,
                    2016,
                    2017,
                    2018,
                    2019,
                    2020,
                    2021
                  ],
                  "xaxis": "x",
                  "y": [
                    0.8646153846153846,
                    0.7222222222222222,
                    0.8497132379997716,
                    0.8465355510387145,
                    0.849256625535339,
                    0.8568225496476618,
                    0.8518518518518519,
                    0.8333333333333334,
                    0.8632162661737524
                  ],
                  "yaxis": "y"
                }
              ],
              "layout": {
                "legend": {
                  "title": {
                    "text": "channel_category"
                  },
                  "tracegroupgap": 0
                },
                "margin": {
                  "t": 60
                },
                "template": {
                  "data": {
                    "bar": [
                      {
                        "error_x": {
                          "color": "#2a3f5f"
                        },
                        "error_y": {
                          "color": "#2a3f5f"
                        },
                        "marker": {
                          "line": {
                            "color": "#E5ECF6",
                            "width": 0.5
                          },
                          "pattern": {
                            "fillmode": "overlay",
                            "size": 10,
                            "solidity": 0.2
                          }
                        },
                        "type": "bar"
                      }
                    ],
                    "barpolar": [
                      {
                        "marker": {
                          "line": {
                            "color": "#E5ECF6",
                            "width": 0.5
                          },
                          "pattern": {
                            "fillmode": "overlay",
                            "size": 10,
                            "solidity": 0.2
                          }
                        },
                        "type": "barpolar"
                      }
                    ],
                    "carpet": [
                      {
                        "aaxis": {
                          "endlinecolor": "#2a3f5f",
                          "gridcolor": "white",
                          "linecolor": "white",
                          "minorgridcolor": "white",
                          "startlinecolor": "#2a3f5f"
                        },
                        "baxis": {
                          "endlinecolor": "#2a3f5f",
                          "gridcolor": "white",
                          "linecolor": "white",
                          "minorgridcolor": "white",
                          "startlinecolor": "#2a3f5f"
                        },
                        "type": "carpet"
                      }
                    ],
                    "choropleth": [
                      {
                        "colorbar": {
                          "outlinewidth": 0,
                          "ticks": ""
                        },
                        "type": "choropleth"
                      }
                    ],
                    "contour": [
                      {
                        "colorbar": {
                          "outlinewidth": 0,
                          "ticks": ""
                        },
                        "colorscale": [
                          [
                            0,
                            "#0d0887"
                          ],
                          [
                            0.1111111111111111,
                            "#46039f"
                          ],
                          [
                            0.2222222222222222,
                            "#7201a8"
                          ],
                          [
                            0.3333333333333333,
                            "#9c179e"
                          ],
                          [
                            0.4444444444444444,
                            "#bd3786"
                          ],
                          [
                            0.5555555555555556,
                            "#d8576b"
                          ],
                          [
                            0.6666666666666666,
                            "#ed7953"
                          ],
                          [
                            0.7777777777777778,
                            "#fb9f3a"
                          ],
                          [
                            0.8888888888888888,
                            "#fdca26"
                          ],
                          [
                            1,
                            "#f0f921"
                          ]
                        ],
                        "type": "contour"
                      }
                    ],
                    "contourcarpet": [
                      {
                        "colorbar": {
                          "outlinewidth": 0,
                          "ticks": ""
                        },
                        "type": "contourcarpet"
                      }
                    ],
                    "heatmap": [
                      {
                        "colorbar": {
                          "outlinewidth": 0,
                          "ticks": ""
                        },
                        "colorscale": [
                          [
                            0,
                            "#0d0887"
                          ],
                          [
                            0.1111111111111111,
                            "#46039f"
                          ],
                          [
                            0.2222222222222222,
                            "#7201a8"
                          ],
                          [
                            0.3333333333333333,
                            "#9c179e"
                          ],
                          [
                            0.4444444444444444,
                            "#bd3786"
                          ],
                          [
                            0.5555555555555556,
                            "#d8576b"
                          ],
                          [
                            0.6666666666666666,
                            "#ed7953"
                          ],
                          [
                            0.7777777777777778,
                            "#fb9f3a"
                          ],
                          [
                            0.8888888888888888,
                            "#fdca26"
                          ],
                          [
                            1,
                            "#f0f921"
                          ]
                        ],
                        "type": "heatmap"
                      }
                    ],
                    "heatmapgl": [
                      {
                        "colorbar": {
                          "outlinewidth": 0,
                          "ticks": ""
                        },
                        "colorscale": [
                          [
                            0,
                            "#0d0887"
                          ],
                          [
                            0.1111111111111111,
                            "#46039f"
                          ],
                          [
                            0.2222222222222222,
                            "#7201a8"
                          ],
                          [
                            0.3333333333333333,
                            "#9c179e"
                          ],
                          [
                            0.4444444444444444,
                            "#bd3786"
                          ],
                          [
                            0.5555555555555556,
                            "#d8576b"
                          ],
                          [
                            0.6666666666666666,
                            "#ed7953"
                          ],
                          [
                            0.7777777777777778,
                            "#fb9f3a"
                          ],
                          [
                            0.8888888888888888,
                            "#fdca26"
                          ],
                          [
                            1,
                            "#f0f921"
                          ]
                        ],
                        "type": "heatmapgl"
                      }
                    ],
                    "histogram": [
                      {
                        "marker": {
                          "pattern": {
                            "fillmode": "overlay",
                            "size": 10,
                            "solidity": 0.2
                          }
                        },
                        "type": "histogram"
                      }
                    ],
                    "histogram2d": [
                      {
                        "colorbar": {
                          "outlinewidth": 0,
                          "ticks": ""
                        },
                        "colorscale": [
                          [
                            0,
                            "#0d0887"
                          ],
                          [
                            0.1111111111111111,
                            "#46039f"
                          ],
                          [
                            0.2222222222222222,
                            "#7201a8"
                          ],
                          [
                            0.3333333333333333,
                            "#9c179e"
                          ],
                          [
                            0.4444444444444444,
                            "#bd3786"
                          ],
                          [
                            0.5555555555555556,
                            "#d8576b"
                          ],
                          [
                            0.6666666666666666,
                            "#ed7953"
                          ],
                          [
                            0.7777777777777778,
                            "#fb9f3a"
                          ],
                          [
                            0.8888888888888888,
                            "#fdca26"
                          ],
                          [
                            1,
                            "#f0f921"
                          ]
                        ],
                        "type": "histogram2d"
                      }
                    ],
                    "histogram2dcontour": [
                      {
                        "colorbar": {
                          "outlinewidth": 0,
                          "ticks": ""
                        },
                        "colorscale": [
                          [
                            0,
                            "#0d0887"
                          ],
                          [
                            0.1111111111111111,
                            "#46039f"
                          ],
                          [
                            0.2222222222222222,
                            "#7201a8"
                          ],
                          [
                            0.3333333333333333,
                            "#9c179e"
                          ],
                          [
                            0.4444444444444444,
                            "#bd3786"
                          ],
                          [
                            0.5555555555555556,
                            "#d8576b"
                          ],
                          [
                            0.6666666666666666,
                            "#ed7953"
                          ],
                          [
                            0.7777777777777778,
                            "#fb9f3a"
                          ],
                          [
                            0.8888888888888888,
                            "#fdca26"
                          ],
                          [
                            1,
                            "#f0f921"
                          ]
                        ],
                        "type": "histogram2dcontour"
                      }
                    ],
                    "mesh3d": [
                      {
                        "colorbar": {
                          "outlinewidth": 0,
                          "ticks": ""
                        },
                        "type": "mesh3d"
                      }
                    ],
                    "parcoords": [
                      {
                        "line": {
                          "colorbar": {
                            "outlinewidth": 0,
                            "ticks": ""
                          }
                        },
                        "type": "parcoords"
                      }
                    ],
                    "pie": [
                      {
                        "automargin": true,
                        "type": "pie"
                      }
                    ],
                    "scatter": [
                      {
                        "fillpattern": {
                          "fillmode": "overlay",
                          "size": 10,
                          "solidity": 0.2
                        },
                        "type": "scatter"
                      }
                    ],
                    "scatter3d": [
                      {
                        "line": {
                          "colorbar": {
                            "outlinewidth": 0,
                            "ticks": ""
                          }
                        },
                        "marker": {
                          "colorbar": {
                            "outlinewidth": 0,
                            "ticks": ""
                          }
                        },
                        "type": "scatter3d"
                      }
                    ],
                    "scattercarpet": [
                      {
                        "marker": {
                          "colorbar": {
                            "outlinewidth": 0,
                            "ticks": ""
                          }
                        },
                        "type": "scattercarpet"
                      }
                    ],
                    "scattergeo": [
                      {
                        "marker": {
                          "colorbar": {
                            "outlinewidth": 0,
                            "ticks": ""
                          }
                        },
                        "type": "scattergeo"
                      }
                    ],
                    "scattergl": [
                      {
                        "marker": {
                          "colorbar": {
                            "outlinewidth": 0,
                            "ticks": ""
                          }
                        },
                        "type": "scattergl"
                      }
                    ],
                    "scattermapbox": [
                      {
                        "marker": {
                          "colorbar": {
                            "outlinewidth": 0,
                            "ticks": ""
                          }
                        },
                        "type": "scattermapbox"
                      }
                    ],
                    "scatterpolar": [
                      {
                        "marker": {
                          "colorbar": {
                            "outlinewidth": 0,
                            "ticks": ""
                          }
                        },
                        "type": "scatterpolar"
                      }
                    ],
                    "scatterpolargl": [
                      {
                        "marker": {
                          "colorbar": {
                            "outlinewidth": 0,
                            "ticks": ""
                          }
                        },
                        "type": "scatterpolargl"
                      }
                    ],
                    "scatterternary": [
                      {
                        "marker": {
                          "colorbar": {
                            "outlinewidth": 0,
                            "ticks": ""
                          }
                        },
                        "type": "scatterternary"
                      }
                    ],
                    "surface": [
                      {
                        "colorbar": {
                          "outlinewidth": 0,
                          "ticks": ""
                        },
                        "colorscale": [
                          [
                            0,
                            "#0d0887"
                          ],
                          [
                            0.1111111111111111,
                            "#46039f"
                          ],
                          [
                            0.2222222222222222,
                            "#7201a8"
                          ],
                          [
                            0.3333333333333333,
                            "#9c179e"
                          ],
                          [
                            0.4444444444444444,
                            "#bd3786"
                          ],
                          [
                            0.5555555555555556,
                            "#d8576b"
                          ],
                          [
                            0.6666666666666666,
                            "#ed7953"
                          ],
                          [
                            0.7777777777777778,
                            "#fb9f3a"
                          ],
                          [
                            0.8888888888888888,
                            "#fdca26"
                          ],
                          [
                            1,
                            "#f0f921"
                          ]
                        ],
                        "type": "surface"
                      }
                    ],
                    "table": [
                      {
                        "cells": {
                          "fill": {
                            "color": "#EBF0F8"
                          },
                          "line": {
                            "color": "white"
                          }
                        },
                        "header": {
                          "fill": {
                            "color": "#C8D4E3"
                          },
                          "line": {
                            "color": "white"
                          }
                        },
                        "type": "table"
                      }
                    ]
                  },
                  "layout": {
                    "annotationdefaults": {
                      "arrowcolor": "#2a3f5f",
                      "arrowhead": 0,
                      "arrowwidth": 1
                    },
                    "autotypenumbers": "strict",
                    "coloraxis": {
                      "colorbar": {
                        "outlinewidth": 0,
                        "ticks": ""
                      }
                    },
                    "colorscale": {
                      "diverging": [
                        [
                          0,
                          "#8e0152"
                        ],
                        [
                          0.1,
                          "#c51b7d"
                        ],
                        [
                          0.2,
                          "#de77ae"
                        ],
                        [
                          0.3,
                          "#f1b6da"
                        ],
                        [
                          0.4,
                          "#fde0ef"
                        ],
                        [
                          0.5,
                          "#f7f7f7"
                        ],
                        [
                          0.6,
                          "#e6f5d0"
                        ],
                        [
                          0.7,
                          "#b8e186"
                        ],
                        [
                          0.8,
                          "#7fbc41"
                        ],
                        [
                          0.9,
                          "#4d9221"
                        ],
                        [
                          1,
                          "#276419"
                        ]
                      ],
                      "sequential": [
                        [
                          0,
                          "#0d0887"
                        ],
                        [
                          0.1111111111111111,
                          "#46039f"
                        ],
                        [
                          0.2222222222222222,
                          "#7201a8"
                        ],
                        [
                          0.3333333333333333,
                          "#9c179e"
                        ],
                        [
                          0.4444444444444444,
                          "#bd3786"
                        ],
                        [
                          0.5555555555555556,
                          "#d8576b"
                        ],
                        [
                          0.6666666666666666,
                          "#ed7953"
                        ],
                        [
                          0.7777777777777778,
                          "#fb9f3a"
                        ],
                        [
                          0.8888888888888888,
                          "#fdca26"
                        ],
                        [
                          1,
                          "#f0f921"
                        ]
                      ],
                      "sequentialminus": [
                        [
                          0,
                          "#0d0887"
                        ],
                        [
                          0.1111111111111111,
                          "#46039f"
                        ],
                        [
                          0.2222222222222222,
                          "#7201a8"
                        ],
                        [
                          0.3333333333333333,
                          "#9c179e"
                        ],
                        [
                          0.4444444444444444,
                          "#bd3786"
                        ],
                        [
                          0.5555555555555556,
                          "#d8576b"
                        ],
                        [
                          0.6666666666666666,
                          "#ed7953"
                        ],
                        [
                          0.7777777777777778,
                          "#fb9f3a"
                        ],
                        [
                          0.8888888888888888,
                          "#fdca26"
                        ],
                        [
                          1,
                          "#f0f921"
                        ]
                      ]
                    },
                    "colorway": [
                      "#636efa",
                      "#EF553B",
                      "#00cc96",
                      "#ab63fa",
                      "#FFA15A",
                      "#19d3f3",
                      "#FF6692",
                      "#B6E880",
                      "#FF97FF",
                      "#FECB52"
                    ],
                    "font": {
                      "color": "#2a3f5f"
                    },
                    "geo": {
                      "bgcolor": "white",
                      "lakecolor": "white",
                      "landcolor": "#E5ECF6",
                      "showlakes": true,
                      "showland": true,
                      "subunitcolor": "white"
                    },
                    "hoverlabel": {
                      "align": "left"
                    },
                    "hovermode": "closest",
                    "mapbox": {
                      "style": "light"
                    },
                    "paper_bgcolor": "white",
                    "plot_bgcolor": "#E5ECF6",
                    "polar": {
                      "angularaxis": {
                        "gridcolor": "white",
                        "linecolor": "white",
                        "ticks": ""
                      },
                      "bgcolor": "#E5ECF6",
                      "radialaxis": {
                        "gridcolor": "white",
                        "linecolor": "white",
                        "ticks": ""
                      }
                    },
                    "scene": {
                      "xaxis": {
                        "backgroundcolor": "#E5ECF6",
                        "gridcolor": "white",
                        "gridwidth": 2,
                        "linecolor": "white",
                        "showbackground": true,
                        "ticks": "",
                        "zerolinecolor": "white"
                      },
                      "yaxis": {
                        "backgroundcolor": "#E5ECF6",
                        "gridcolor": "white",
                        "gridwidth": 2,
                        "linecolor": "white",
                        "showbackground": true,
                        "ticks": "",
                        "zerolinecolor": "white"
                      },
                      "zaxis": {
                        "backgroundcolor": "#E5ECF6",
                        "gridcolor": "white",
                        "gridwidth": 2,
                        "linecolor": "white",
                        "showbackground": true,
                        "ticks": "",
                        "zerolinecolor": "white"
                      }
                    },
                    "shapedefaults": {
                      "line": {
                        "color": "#2a3f5f"
                      }
                    },
                    "ternary": {
                      "aaxis": {
                        "gridcolor": "white",
                        "linecolor": "white",
                        "ticks": ""
                      },
                      "baxis": {
                        "gridcolor": "white",
                        "linecolor": "white",
                        "ticks": ""
                      },
                      "bgcolor": "#E5ECF6",
                      "caxis": {
                        "gridcolor": "white",
                        "linecolor": "white",
                        "ticks": ""
                      }
                    },
                    "title": {
                      "x": 0.05
                    },
                    "xaxis": {
                      "automargin": true,
                      "gridcolor": "white",
                      "linecolor": "white",
                      "ticks": "",
                      "title": {
                        "standoff": 15
                      },
                      "zerolinecolor": "white",
                      "zerolinewidth": 2
                    },
                    "yaxis": {
                      "automargin": true,
                      "gridcolor": "white",
                      "linecolor": "white",
                      "ticks": "",
                      "title": {
                        "standoff": 15
                      },
                      "zerolinecolor": "white",
                      "zerolinewidth": 2
                    }
                  }
                },
                "title": {
                  "text": "Median Q score by channel category and time series"
                },
                "xaxis": {
                  "anchor": "y",
                  "domain": [
                    0,
                    1
                  ],
                  "title": {
                    "text": "Year of updoad date"
                  }
                },
                "yaxis": {
                  "anchor": "x",
                  "domain": [
                    0,
                    1
                  ],
                  "title": {
                    "text": "Median Q score"
                  }
                }
              }
            }
          },
          "metadata": {},
          "output_type": "display_data"
        }
      ],
      "source": [
        "fig = px.line(channel_cate_by_time_series_df, x='upload_date_by_year', y='median_q_score', color='channel_category')\n",
        "fig.update_layout(title=\"Median Q score by channel category and time series\")\n",
        "fig.update_layout(xaxis_title=\"Year of updoad date\")\n",
        "fig.update_layout(yaxis_title=\"Median Q score\")\n",
        "# fig.update_yaxes(range = [0, 1])\n",
        "fig.show()"
      ]
    },
    {
      "cell_type": "markdown",
      "metadata": {
        "id": "b0OWssczbNnF"
      },
      "source": [
        "# Train and test split "
      ]
    },
    {
      "cell_type": "code",
      "execution_count": 49,
      "metadata": {
        "id": "X-dqhjsGbSFa"
      },
      "outputs": [],
      "source": [
        "train_df = df[df['upload_date'].dt.year < 2020]\n",
        "val_df = df[df['upload_date'].dt.year == 2020]\n",
        "test_df = df[df['upload_date'].dt.year > 2020]\n",
        "columns = ['id', 'title', 'tags','engagement_rate_label', 'q_score_label', 'title_length', 'num_tags']"
      ]
    },
    {
      "cell_type": "code",
      "execution_count": 50,
      "metadata": {
        "id": "fuGqK6KPbxPq"
      },
      "outputs": [],
      "source": [
        "train_df = train_df[columns]\n",
        "val_df = val_df[columns]\n",
        "test_df = test_df[columns]"
      ]
    },
    {
      "cell_type": "code",
      "execution_count": 51,
      "metadata": {
        "colab": {
          "base_uri": "https://localhost:8080/"
        },
        "id": "03VrRfC5bTiG",
        "outputId": "b1d5bb97-a196-47f3-ab5b-966ee570094d"
      },
      "outputs": [
        {
          "data": {
            "text/plain": [
              "17025"
            ]
          },
          "execution_count": 51,
          "metadata": {},
          "output_type": "execute_result"
        }
      ],
      "source": [
        "len(train_df)"
      ]
    },
    {
      "cell_type": "code",
      "execution_count": 52,
      "metadata": {
        "colab": {
          "base_uri": "https://localhost:8080/"
        },
        "id": "F3iiAO6xbUhc",
        "outputId": "69f532ad-b372-45ce-ce6d-67b1803e0fce"
      },
      "outputs": [
        {
          "data": {
            "text/plain": [
              "3908"
            ]
          },
          "execution_count": 52,
          "metadata": {},
          "output_type": "execute_result"
        }
      ],
      "source": [
        "len(val_df)"
      ]
    },
    {
      "cell_type": "code",
      "execution_count": 53,
      "metadata": {
        "colab": {
          "base_uri": "https://localhost:8080/"
        },
        "id": "GMxyozCObVgq",
        "outputId": "4cec169d-7c55-4ca1-8de7-a6224e3c7c43"
      },
      "outputs": [
        {
          "data": {
            "text/plain": [
              "2805"
            ]
          },
          "execution_count": 53,
          "metadata": {},
          "output_type": "execute_result"
        }
      ],
      "source": [
        "len(test_df)"
      ]
    },
    {
      "cell_type": "code",
      "execution_count": 54,
      "metadata": {
        "colab": {
          "base_uri": "https://localhost:8080/"
        },
        "id": "1JzVvA2bcBPZ",
        "outputId": "ed506a74-60ed-4756-866f-c563709211ed"
      },
      "outputs": [
        {
          "data": {
            "text/plain": [
              "q_score_label\n",
              "0   0.347195\n",
              "2   0.334567\n",
              "1   0.318238\n",
              "Name: proportion, dtype: float64"
            ]
          },
          "execution_count": 54,
          "metadata": {},
          "output_type": "execute_result"
        }
      ],
      "source": [
        "train_df['q_score_label'].value_counts(normalize=True)"
      ]
    },
    {
      "cell_type": "code",
      "execution_count": 55,
      "metadata": {
        "colab": {
          "base_uri": "https://localhost:8080/"
        },
        "id": "PhB2SOTuYDJn",
        "outputId": "eb9b3444-6ce1-456f-b56d-32d655bdae7c"
      },
      "outputs": [
        {
          "data": {
            "text/plain": [
              "q_score_label\n",
              "2   0.397134\n",
              "0   0.367707\n",
              "1   0.235159\n",
              "Name: proportion, dtype: float64"
            ]
          },
          "execution_count": 55,
          "metadata": {},
          "output_type": "execute_result"
        }
      ],
      "source": [
        "val_df['q_score_label'].value_counts(normalize=True)"
      ]
    },
    {
      "cell_type": "code",
      "execution_count": 56,
      "metadata": {
        "colab": {
          "base_uri": "https://localhost:8080/"
        },
        "id": "g7XfFErjYJmM",
        "outputId": "7493ad3f-1010-4edf-9c68-ef1633b676c0"
      },
      "outputs": [
        {
          "data": {
            "text/plain": [
              "q_score_label\n",
              "2   0.419251\n",
              "0   0.362567\n",
              "1   0.218182\n",
              "Name: proportion, dtype: float64"
            ]
          },
          "execution_count": 56,
          "metadata": {},
          "output_type": "execute_result"
        }
      ],
      "source": [
        "test_df['q_score_label'].value_counts(normalize=True)"
      ]
    },
    {
      "cell_type": "code",
      "execution_count": 57,
      "metadata": {
        "colab": {
          "base_uri": "https://localhost:8080/"
        },
        "id": "-2ErRSV6YOcT",
        "outputId": "87b09e62-ccfd-4d36-a02d-bca4e945a4e1"
      },
      "outputs": [
        {
          "data": {
            "text/plain": [
              "count   17,025.000000\n",
              "mean        13.527812\n",
              "std          4.491985\n",
              "min          1.000000\n",
              "25%         10.000000\n",
              "50%         13.000000\n",
              "75%         17.000000\n",
              "max         27.000000\n",
              "Name: title_length, dtype: float64"
            ]
          },
          "execution_count": 57,
          "metadata": {},
          "output_type": "execute_result"
        }
      ],
      "source": [
        "train_df['title_length'].describe()"
      ]
    },
    {
      "cell_type": "code",
      "execution_count": 58,
      "metadata": {
        "colab": {
          "base_uri": "https://localhost:8080/"
        },
        "id": "tx7EomHUYq4p",
        "outputId": "d477c89e-5d92-491c-c487-215832bc2f43"
      },
      "outputs": [
        {
          "data": {
            "text/plain": [
              "count   3,908.000000\n",
              "mean       15.883828\n",
              "std         4.662537\n",
              "min         2.000000\n",
              "25%        12.000000\n",
              "50%        16.000000\n",
              "75%        20.000000\n",
              "max        27.000000\n",
              "Name: title_length, dtype: float64"
            ]
          },
          "execution_count": 58,
          "metadata": {},
          "output_type": "execute_result"
        }
      ],
      "source": [
        "val_df['title_length'].describe()"
      ]
    },
    {
      "cell_type": "code",
      "execution_count": 59,
      "metadata": {
        "colab": {
          "base_uri": "https://localhost:8080/"
        },
        "id": "QgOIMyoWYyjF",
        "outputId": "f7599936-331b-44eb-bbd3-7b7b7050b466"
      },
      "outputs": [
        {
          "data": {
            "text/plain": [
              "count   2,805.000000\n",
              "mean       16.686275\n",
              "std         4.627722\n",
              "min         1.000000\n",
              "25%        13.000000\n",
              "50%        17.000000\n",
              "75%        21.000000\n",
              "max        27.000000\n",
              "Name: title_length, dtype: float64"
            ]
          },
          "execution_count": 59,
          "metadata": {},
          "output_type": "execute_result"
        }
      ],
      "source": [
        "test_df['title_length'].describe()"
      ]
    },
    {
      "cell_type": "code",
      "execution_count": 60,
      "metadata": {
        "colab": {
          "base_uri": "https://localhost:8080/"
        },
        "id": "euGzM0QuY07q",
        "outputId": "43f85d97-5be4-47f9-955a-454b7cc2c2dd"
      },
      "outputs": [
        {
          "data": {
            "text/plain": [
              "count   17,025.000000\n",
              "mean        11.201762\n",
              "std          6.585051\n",
              "min          1.000000\n",
              "25%          6.000000\n",
              "50%         10.000000\n",
              "75%         16.000000\n",
              "max         41.000000\n",
              "Name: num_tags, dtype: float64"
            ]
          },
          "execution_count": 60,
          "metadata": {},
          "output_type": "execute_result"
        }
      ],
      "source": [
        "train_df['num_tags'].describe()"
      ]
    },
    {
      "cell_type": "code",
      "execution_count": 61,
      "metadata": {
        "colab": {
          "base_uri": "https://localhost:8080/"
        },
        "id": "xGjcyQ6dY611",
        "outputId": "7c5a0b74-8693-4ba3-d828-7fde74249506"
      },
      "outputs": [
        {
          "data": {
            "text/plain": [
              "count   3,908.000000\n",
              "mean       14.384340\n",
              "std         7.651394\n",
              "min         1.000000\n",
              "25%         8.000000\n",
              "50%        15.000000\n",
              "75%        20.000000\n",
              "max        42.000000\n",
              "Name: num_tags, dtype: float64"
            ]
          },
          "execution_count": 61,
          "metadata": {},
          "output_type": "execute_result"
        }
      ],
      "source": [
        "val_df['num_tags'].describe()"
      ]
    },
    {
      "cell_type": "code",
      "execution_count": 62,
      "metadata": {
        "colab": {
          "base_uri": "https://localhost:8080/"
        },
        "id": "QlEG5hVkZBI1",
        "outputId": "5389662f-f787-448b-860d-6f86e2302729"
      },
      "outputs": [
        {
          "data": {
            "text/plain": [
              "count   2,805.000000\n",
              "mean       14.468449\n",
              "std         6.449587\n",
              "min         1.000000\n",
              "25%        10.000000\n",
              "50%        14.000000\n",
              "75%        19.000000\n",
              "max        39.000000\n",
              "Name: num_tags, dtype: float64"
            ]
          },
          "execution_count": 62,
          "metadata": {},
          "output_type": "execute_result"
        }
      ],
      "source": [
        "test_df['num_tags'].describe()"
      ]
    },
    {
      "cell_type": "code",
      "execution_count": null,
      "metadata": {
        "id": "PJjTGFEmZDqY"
      },
      "outputs": [],
      "source": []
    }
  ],
  "metadata": {
    "colab": {
      "collapsed_sections": [
        "Jr-ZfpIvXEWr",
        "kxmvuM1bXIq4",
        "s9_a7A_1XQs5",
        "BQl8tD0eaJkE"
      ],
      "provenance": []
    },
    "kernelspec": {
      "display_name": "Python 3",
      "name": "python3"
    },
    "language_info": {
      "codemirror_mode": {
        "name": "ipython",
        "version": 3
      },
      "file_extension": ".py",
      "mimetype": "text/x-python",
      "name": "python",
      "nbconvert_exporter": "python",
      "pygments_lexer": "ipython3",
      "version": "3.8.10"
    }
  },
  "nbformat": 4,
  "nbformat_minor": 0
}
